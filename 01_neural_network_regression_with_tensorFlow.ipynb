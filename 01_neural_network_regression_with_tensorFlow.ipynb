{
  "nbformat": 4,
  "nbformat_minor": 0,
  "metadata": {
    "colab": {
      "provenance": [],
      "toc_visible": true,
      "authorship_tag": "ABX9TyMYZxTFtZc5tdse1JoCJ86N",
      "include_colab_link": true
    },
    "kernelspec": {
      "name": "python3",
      "display_name": "Python 3"
    },
    "language_info": {
      "name": "python"
    }
  },
  "cells": [
    {
      "cell_type": "markdown",
      "metadata": {
        "id": "view-in-github",
        "colab_type": "text"
      },
      "source": [
        "<a href=\"https://colab.research.google.com/github/mehtaabhi4/TensorFlow-Learning/blob/main/01_neural_network_regression_with_tensorFlow.ipynb\" target=\"_parent\"><img src=\"https://colab.research.google.com/assets/colab-badge.svg\" alt=\"Open In Colab\"/></a>"
      ]
    },
    {
      "cell_type": "markdown",
      "source": [
        "> **Created by ABHILAKSHYA MEHTA**\n",
        "\n",
        "---\n",
        "\n",
        "\n",
        "\n"
      ],
      "metadata": {
        "id": "uLXbehyQMmia"
      }
    },
    {
      "cell_type": "markdown",
      "source": [
        "# Introduction to Regression with Neural Networks in TensorFlow\n",
        "\n",
        "There are many defintions for a regression problem but in our case, we're going to simplify it: Predicting a numercial variable based on some other combination of variables, even shorter... predicting a number."
      ],
      "metadata": {
        "id": "aPcHECl3GmAf"
      }
    },
    {
      "cell_type": "code",
      "source": [
        "# Import TensorFlow\n",
        "import tensorflow as tf\n",
        "print(tf.__version__)"
      ],
      "metadata": {
        "colab": {
          "base_uri": "https://localhost:8080/"
        },
        "id": "LajPHVxIHmHt",
        "outputId": "74632792-a135-4326-d0de-a9831bfba5eb"
      },
      "execution_count": 1,
      "outputs": [
        {
          "output_type": "stream",
          "name": "stdout",
          "text": [
            "2.15.0\n"
          ]
        }
      ]
    },
    {
      "cell_type": "markdown",
      "source": [
        "# Creating Data to View and Fit"
      ],
      "metadata": {
        "id": "FyvcUeh3H59f"
      }
    },
    {
      "cell_type": "code",
      "execution_count": 2,
      "metadata": {
        "colab": {
          "base_uri": "https://localhost:8080/",
          "height": 452
        },
        "id": "ZowzP1OeGWX4",
        "outputId": "c711c1a8-c1fa-46d0-a94a-05a15e9e404b"
      },
      "outputs": [
        {
          "output_type": "execute_result",
          "data": {
            "text/plain": [
              "<matplotlib.collections.PathCollection at 0x7be8ffbd7940>"
            ]
          },
          "metadata": {},
          "execution_count": 2
        },
        {
          "output_type": "display_data",
          "data": {
            "text/plain": [
              "<Figure size 640x480 with 1 Axes>"
            ],
            "image/png": "[encoded data removed]"
          },
          "metadata": {}
        }
      ],
      "source": [
        "import numpy as np\n",
        "import matplotlib.pyplot as plt\n",
        "\n",
        "# Create features\n",
        "X = np.array([-7.0, -4.0, -1.0, 2.0, 5.0, 8.0, 11.0, 14.0])\n",
        "\n",
        "# Create Labels\n",
        "y = np.array([3.0, 6.0, 9.0, 12.0, 15.0, 18.0, 21.0, 24.0])\n",
        "\n",
        "# Visualize it\n",
        "plt.scatter(X, y)"
      ]
    },
    {
      "cell_type": "markdown",
      "source": [
        "# Input and output shapes"
      ],
      "metadata": {
        "id": "I35muozHI6cv"
      }
    },
    {
      "cell_type": "code",
      "source": [
        "# Create a demo tensor for our housing price prediction problem\n",
        "house_info = tf.constant([\"bedroom\", \"bathroom\", \"garage\"])\n",
        "house_price = tf.constant([939700])\n",
        "\n",
        "house_info, house_price"
      ],
      "metadata": {
        "colab": {
          "base_uri": "https://localhost:8080/"
        },
        "id": "32PjhZuXIjBU",
        "outputId": "1072c526-53fb-4cf3-ed3d-373beb0539af"
      },
      "execution_count": 3,
      "outputs": [
        {
          "output_type": "execute_result",
          "data": {
            "text/plain": [
              "(<tf.Tensor: shape=(3,), dtype=string, numpy=array([b'bedroom', b'bathroom', b'garage'], dtype=object)>,\n",
              " <tf.Tensor: shape=(1,), dtype=int32, numpy=array([939700], dtype=int32)>)"
            ]
          },
          "metadata": {},
          "execution_count": 3
        }
      ]
    },
    {
      "cell_type": "code",
      "source": [
        "X[0], y[0]"
      ],
      "metadata": {
        "colab": {
          "base_uri": "https://localhost:8080/"
        },
        "id": "7KPmsZdeJTuV",
        "outputId": "3708c767-56b3-42bb-e6ef-e91077b81032"
      },
      "execution_count": 4,
      "outputs": [
        {
          "output_type": "execute_result",
          "data": {
            "text/plain": [
              "(-7.0, 3.0)"
            ]
          },
          "metadata": {},
          "execution_count": 4
        }
      ]
    },
    {
      "cell_type": "code",
      "source": [
        "input_shape = X[0].shape\n",
        "output_shape = y[0].shape\n",
        "\n",
        "input_shape, output_shape"
      ],
      "metadata": {
        "colab": {
          "base_uri": "https://localhost:8080/"
        },
        "id": "mw8XvZ5PLEtc",
        "outputId": "87eab288-2246-4eef-d9e8-41abc910c568"
      },
      "execution_count": 5,
      "outputs": [
        {
          "output_type": "execute_result",
          "data": {
            "text/plain": [
              "((), ())"
            ]
          },
          "metadata": {},
          "execution_count": 5
        }
      ]
    },
    {
      "cell_type": "code",
      "source": [
        "X[0].ndim"
      ],
      "metadata": {
        "colab": {
          "base_uri": "https://localhost:8080/"
        },
        "id": "blk2BiNsLQRe",
        "outputId": "c69c5ad5-2556-427c-aafd-f40827d724d6"
      },
      "execution_count": 6,
      "outputs": [
        {
          "output_type": "execute_result",
          "data": {
            "text/plain": [
              "0"
            ]
          },
          "metadata": {},
          "execution_count": 6
        }
      ]
    },
    {
      "cell_type": "code",
      "source": [
        "# Turn our NumPy arrays into tensors\n",
        "X = tf.cast(tf.constant(X), dtype=tf.float32)\n",
        "y = tf.cast(tf.constant(y), dtype=tf.float32)\n",
        "X, y"
      ],
      "metadata": {
        "colab": {
          "base_uri": "https://localhost:8080/"
        },
        "id": "4nH_9VZnLU87",
        "outputId": "eb23416a-cba8-4395-dbf1-b125917ad2b3"
      },
      "execution_count": 7,
      "outputs": [
        {
          "output_type": "execute_result",
          "data": {
            "text/plain": [
              "(<tf.Tensor: shape=(8,), dtype=float32, numpy=array([-7., -4., -1.,  2.,  5.,  8., 11., 14.], dtype=float32)>,\n",
              " <tf.Tensor: shape=(8,), dtype=float32, numpy=array([ 3.,  6.,  9., 12., 15., 18., 21., 24.], dtype=float32)>)"
            ]
          },
          "metadata": {},
          "execution_count": 7
        }
      ]
    },
    {
      "cell_type": "code",
      "source": [
        "input_shape = X[0].shape\n",
        "output_shape = y[0].shape\n",
        "\n",
        "input_shape, output_shape"
      ],
      "metadata": {
        "colab": {
          "base_uri": "https://localhost:8080/"
        },
        "id": "4tJCkz__LhQ2",
        "outputId": "4d111a00-6e9f-45ad-e7fc-98268936687b"
      },
      "execution_count": 8,
      "outputs": [
        {
          "output_type": "execute_result",
          "data": {
            "text/plain": [
              "(TensorShape([]), TensorShape([]))"
            ]
          },
          "metadata": {},
          "execution_count": 8
        }
      ]
    },
    {
      "cell_type": "markdown",
      "source": [
        "# Steps in modelling with TensorFlow\n",
        "\n",
        "1. **Creating a model** - define the input and output layesrs, as well as the hidden layers of a deep learning model.\n",
        "2. **Compliling a model** - define the loss function (in other words, the function which tells our model how wrong it is) and the optimizer (tells our model how to improve the pattens its learning) and evalutaion metrics (what we can use to interpret the performance of our model).\n",
        "3. **Fitting a model** - letting the model try to find patterns between X & y (features and labels)."
      ],
      "metadata": {
        "id": "R6OytPXHMosD"
      }
    },
    {
      "cell_type": "code",
      "source": [
        "# Set random seed\n",
        "tf.random.set_seed(42)\n",
        "\n",
        "# 1. Create a model using the Sequential API\n",
        "model = tf.keras.Sequential([\n",
        "    tf.keras.layers.Dense(1)\n",
        "])\n",
        "\n",
        "# 2. Compile the model\n",
        "model.compile(loss=tf.keras.losses.mae, # mae is short for mean absolute error\n",
        "              optimizer= tf.keras.optimizers.SGD(), # sgd is short for stochastic gradient descent\n",
        "              metrics=[\"mae\"])\n",
        "\n",
        "# 3. Fit the Model\n",
        "model.fit(tf.expand_dims(X, axis=-1), y, epochs=5)\n"
      ],
      "metadata": {
        "colab": {
          "base_uri": "https://localhost:8080/"
        },
        "id": "0ZHxs2x1Lmhw",
        "outputId": "39853996-c8a0-4d21-d1b3-e4f6d098290f"
      },
      "execution_count": 9,
      "outputs": [
        {
          "output_type": "stream",
          "name": "stdout",
          "text": [
            "Epoch 1/5\n",
            "1/1 [==============================] - 1s 1s/step - loss: 14.0074 - mae: 14.0074\n",
            "Epoch 2/5\n",
            "1/1 [==============================] - 0s 12ms/step - loss: 13.8749 - mae: 13.8749\n",
            "Epoch 3/5\n",
            "1/1 [==============================] - 0s 20ms/step - loss: 13.7424 - mae: 13.7424\n",
            "Epoch 4/5\n",
            "1/1 [==============================] - 0s 13ms/step - loss: 13.6099 - mae: 13.6099\n",
            "Epoch 5/5\n",
            "1/1 [==============================] - 0s 13ms/step - loss: 13.4774 - mae: 13.4774\n"
          ]
        },
        {
          "output_type": "execute_result",
          "data": {
            "text/plain": [
              "<keras.src.callbacks.History at 0x7be8fc237400>"
            ]
          },
          "metadata": {},
          "execution_count": 9
        }
      ]
    },
    {
      "cell_type": "code",
      "source": [
        "# Check out X and y\n",
        "X, y"
      ],
      "metadata": {
        "colab": {
          "base_uri": "https://localhost:8080/"
        },
        "id": "moEPux99RIM3",
        "outputId": "d9b2c1e4-2a59-4178-a989-4da3bd2fe02c"
      },
      "execution_count": 10,
      "outputs": [
        {
          "output_type": "execute_result",
          "data": {
            "text/plain": [
              "(<tf.Tensor: shape=(8,), dtype=float32, numpy=array([-7., -4., -1.,  2.,  5.,  8., 11., 14.], dtype=float32)>,\n",
              " <tf.Tensor: shape=(8,), dtype=float32, numpy=array([ 3.,  6.,  9., 12., 15., 18., 21., 24.], dtype=float32)>)"
            ]
          },
          "metadata": {},
          "execution_count": 10
        }
      ]
    },
    {
      "cell_type": "code",
      "source": [
        "# Try and make a prediction using our model\n",
        "y_pred = model.predict([17.0])\n",
        "y_pred"
      ],
      "metadata": {
        "colab": {
          "base_uri": "https://localhost:8080/"
        },
        "id": "IcMazCQORMFq",
        "outputId": "2e8ed1a1-d1f6-489e-e4da-bc5f573daf49"
      },
      "execution_count": 11,
      "outputs": [
        {
          "output_type": "stream",
          "name": "stdout",
          "text": [
            "1/1 [==============================] - 0s 165ms/step\n"
          ]
        },
        {
          "output_type": "execute_result",
          "data": {
            "text/plain": [
              "array([[0.5604035]], dtype=float32)"
            ]
          },
          "metadata": {},
          "execution_count": 11
        }
      ]
    },
    {
      "cell_type": "code",
      "source": [
        "y_pred + 11"
      ],
      "metadata": {
        "colab": {
          "base_uri": "https://localhost:8080/"
        },
        "id": "0dvqQyH0RfFE",
        "outputId": "c35eeeb2-6e30-4a5e-dfb9-d6176d8037a0"
      },
      "execution_count": 12,
      "outputs": [
        {
          "output_type": "execute_result",
          "data": {
            "text/plain": [
              "array([[11.560404]], dtype=float32)"
            ]
          },
          "metadata": {},
          "execution_count": 12
        }
      ]
    },
    {
      "cell_type": "markdown",
      "source": [
        "# Improving our Model\n",
        "We can improve our model, by altering the steps we took to create a model.\n",
        "\n",
        "1. **Creating a model** - Here we might add more layers, increase the number of hidden units (all called neurons) within each of the hidden layers, change the activation function of each layer.\n",
        "\n",
        "2. **Compiling a model** - Here we might change the optimization function or perhaps the **learning rate** of the optimization funciton.\n",
        "\n",
        "3. **Fitting a model** - Here we might fit a model for more **epochs** (leave it training for longer) or on more data (give the model more examples to learn from)."
      ],
      "metadata": {
        "id": "aIVDfpMyRw06"
      }
    },
    {
      "cell_type": "code",
      "source": [
        "# Let's rebuild our model\n",
        "\n",
        "# 1. Create the model\n",
        "model = tf.keras.Sequential([\n",
        "    tf.keras.layers.Dense(100, activation=\"relu\"),\n",
        "    tf.keras.layers.Dense(1)\n",
        "])\n",
        "\n",
        "# 2. Coompile the model\n",
        "model.compile(loss=tf.keras.losses.mae,\n",
        "              optimizer=tf.keras.optimizers.SGD(),\n",
        "              metrics=[\"mae\"])\n",
        "\n",
        "# 3. Fit the model (this time we'll train for longer)\n",
        "model.fit(tf.expand_dims(X, axis=-1), y, epochs=100)"
      ],
      "metadata": {
        "id": "pLkaOoKBRuOZ",
        "colab": {
          "base_uri": "https://localhost:8080/"
        },
        "outputId": "680d5a9c-7d67-4676-df02-2e6dfab2aa74"
      },
      "execution_count": 13,
      "outputs": [
        {
          "output_type": "stream",
          "name": "stdout",
          "text": [
            "Epoch 1/100\n",
            "1/1 [==============================] - 1s 748ms/step - loss: 12.9223 - mae: 12.9223\n",
            "Epoch 2/100\n",
            "1/1 [==============================] - 0s 15ms/step - loss: 12.3993 - mae: 12.3993\n",
            "Epoch 3/100\n",
            "1/1 [==============================] - 0s 16ms/step - loss: 11.8688 - mae: 11.8688\n",
            "Epoch 4/100\n",
            "1/1 [==============================] - 0s 11ms/step - loss: 11.3261 - mae: 11.3261\n",
            "Epoch 5/100\n",
            "1/1 [==============================] - 0s 10ms/step - loss: 10.7724 - mae: 10.7724\n",
            "Epoch 6/100\n",
            "1/1 [==============================] - 0s 16ms/step - loss: 10.1970 - mae: 10.1970\n",
            "Epoch 7/100\n",
            "1/1 [==============================] - 0s 13ms/step - loss: 9.5944 - mae: 9.5944\n",
            "Epoch 8/100\n",
            "1/1 [==============================] - 0s 13ms/step - loss: 8.9600 - mae: 8.9600\n",
            "Epoch 9/100\n",
            "1/1 [==============================] - 0s 13ms/step - loss: 8.2884 - mae: 8.2884\n",
            "Epoch 10/100\n",
            "1/1 [==============================] - 0s 16ms/step - loss: 7.5721 - mae: 7.5721\n",
            "Epoch 11/100\n",
            "1/1 [==============================] - 0s 16ms/step - loss: 6.8110 - mae: 6.8110\n",
            "Epoch 12/100\n",
            "1/1 [==============================] - 0s 17ms/step - loss: 6.0494 - mae: 6.0494\n",
            "Epoch 13/100\n",
            "1/1 [==============================] - 0s 22ms/step - loss: 5.2338 - mae: 5.2338\n",
            "Epoch 14/100\n",
            "1/1 [==============================] - 0s 14ms/step - loss: 4.3423 - mae: 4.3423\n",
            "Epoch 15/100\n",
            "1/1 [==============================] - 0s 19ms/step - loss: 3.9473 - mae: 3.9473\n",
            "Epoch 16/100\n",
            "1/1 [==============================] - 0s 15ms/step - loss: 3.9521 - mae: 3.9521\n",
            "Epoch 17/100\n",
            "1/1 [==============================] - 0s 12ms/step - loss: 3.9213 - mae: 3.9213\n",
            "Epoch 18/100\n",
            "1/1 [==============================] - 0s 11ms/step - loss: 3.9584 - mae: 3.9584\n",
            "Epoch 19/100\n",
            "1/1 [==============================] - 0s 11ms/step - loss: 3.8951 - mae: 3.8951\n",
            "Epoch 20/100\n",
            "1/1 [==============================] - 0s 14ms/step - loss: 3.9661 - mae: 3.9661\n",
            "Epoch 21/100\n",
            "1/1 [==============================] - 0s 12ms/step - loss: 3.9069 - mae: 3.9069\n",
            "Epoch 22/100\n",
            "1/1 [==============================] - 0s 12ms/step - loss: 3.9514 - mae: 3.9514\n",
            "Epoch 23/100\n",
            "1/1 [==============================] - 0s 13ms/step - loss: 3.9131 - mae: 3.9131\n",
            "Epoch 24/100\n",
            "1/1 [==============================] - 0s 12ms/step - loss: 3.9253 - mae: 3.9253\n",
            "Epoch 25/100\n",
            "1/1 [==============================] - 0s 13ms/step - loss: 3.9194 - mae: 3.9194\n",
            "Epoch 26/100\n",
            "1/1 [==============================] - 0s 11ms/step - loss: 3.8990 - mae: 3.8990\n",
            "Epoch 27/100\n",
            "1/1 [==============================] - 0s 12ms/step - loss: 3.9259 - mae: 3.9259\n",
            "Epoch 28/100\n",
            "1/1 [==============================] - 0s 12ms/step - loss: 3.8742 - mae: 3.8742\n",
            "Epoch 29/100\n",
            "1/1 [==============================] - 0s 12ms/step - loss: 3.9424 - mae: 3.9424\n",
            "Epoch 30/100\n",
            "1/1 [==============================] - 0s 13ms/step - loss: 3.8750 - mae: 3.8750\n",
            "Epoch 31/100\n",
            "1/1 [==============================] - 0s 12ms/step - loss: 3.9284 - mae: 3.9284\n",
            "Epoch 32/100\n",
            "1/1 [==============================] - 0s 13ms/step - loss: 3.8814 - mae: 3.8814\n",
            "Epoch 33/100\n",
            "1/1 [==============================] - 0s 13ms/step - loss: 3.9020 - mae: 3.9020\n",
            "Epoch 34/100\n",
            "1/1 [==============================] - 0s 23ms/step - loss: 3.8879 - mae: 3.8879\n",
            "Epoch 35/100\n",
            "1/1 [==============================] - 0s 20ms/step - loss: 3.8755 - mae: 3.8755\n",
            "Epoch 36/100\n",
            "1/1 [==============================] - 0s 14ms/step - loss: 3.8959 - mae: 3.8959\n",
            "Epoch 37/100\n",
            "1/1 [==============================] - 0s 15ms/step - loss: 3.8581 - mae: 3.8581\n",
            "Epoch 38/100\n",
            "1/1 [==============================] - 0s 27ms/step - loss: 3.9113 - mae: 3.9113\n",
            "Epoch 39/100\n",
            "1/1 [==============================] - 0s 16ms/step - loss: 3.8442 - mae: 3.8442\n",
            "Epoch 40/100\n",
            "1/1 [==============================] - 0s 15ms/step - loss: 3.9041 - mae: 3.9041\n",
            "Epoch 41/100\n",
            "1/1 [==============================] - 0s 16ms/step - loss: 3.8508 - mae: 3.8508\n",
            "Epoch 42/100\n",
            "1/1 [==============================] - 0s 15ms/step - loss: 3.8775 - mae: 3.8775\n",
            "Epoch 43/100\n",
            "1/1 [==============================] - 0s 27ms/step - loss: 3.8576 - mae: 3.8576\n",
            "Epoch 44/100\n",
            "1/1 [==============================] - 0s 10ms/step - loss: 3.8522 - mae: 3.8522\n",
            "Epoch 45/100\n",
            "1/1 [==============================] - 0s 9ms/step - loss: 3.8744 - mae: 3.8744\n",
            "Epoch 46/100\n",
            "1/1 [==============================] - 0s 9ms/step - loss: 3.8330 - mae: 3.8330\n",
            "Epoch 47/100\n",
            "1/1 [==============================] - 0s 10ms/step - loss: 3.8813 - mae: 3.8813\n",
            "Epoch 48/100\n",
            "1/1 [==============================] - 0s 10ms/step - loss: 3.8146 - mae: 3.8146\n",
            "Epoch 49/100\n",
            "1/1 [==============================] - 0s 9ms/step - loss: 3.8786 - mae: 3.8786\n",
            "Epoch 50/100\n",
            "1/1 [==============================] - 0s 12ms/step - loss: 3.8214 - mae: 3.8214\n",
            "Epoch 51/100\n",
            "1/1 [==============================] - 0s 13ms/step - loss: 3.8517 - mae: 3.8517\n",
            "Epoch 52/100\n",
            "1/1 [==============================] - 0s 12ms/step - loss: 3.8291 - mae: 3.8291\n",
            "Epoch 53/100\n",
            "1/1 [==============================] - 0s 9ms/step - loss: 3.8339 - mae: 3.8339\n",
            "Epoch 54/100\n",
            "1/1 [==============================] - 0s 9ms/step - loss: 3.8454 - mae: 3.8454\n",
            "Epoch 55/100\n",
            "1/1 [==============================] - 0s 9ms/step - loss: 3.8066 - mae: 3.8066\n",
            "Epoch 56/100\n",
            "1/1 [==============================] - 0s 15ms/step - loss: 3.8525 - mae: 3.8525\n",
            "Epoch 57/100\n",
            "1/1 [==============================] - 0s 24ms/step - loss: 3.7861 - mae: 3.7861\n",
            "Epoch 58/100\n",
            "1/1 [==============================] - 0s 17ms/step - loss: 3.8518 - mae: 3.8518\n",
            "Epoch 59/100\n",
            "1/1 [==============================] - 0s 10ms/step - loss: 3.7932 - mae: 3.7932\n",
            "Epoch 60/100\n",
            "1/1 [==============================] - 0s 16ms/step - loss: 3.8251 - mae: 3.8251\n",
            "Epoch 61/100\n",
            "1/1 [==============================] - 0s 10ms/step - loss: 3.8102 - mae: 3.8102\n",
            "Epoch 62/100\n",
            "1/1 [==============================] - 0s 9ms/step - loss: 3.8065 - mae: 3.8065\n",
            "Epoch 63/100\n",
            "1/1 [==============================] - 0s 9ms/step - loss: 3.8174 - mae: 3.8174\n",
            "Epoch 64/100\n",
            "1/1 [==============================] - 0s 9ms/step - loss: 3.7789 - mae: 3.7789\n",
            "Epoch 65/100\n",
            "1/1 [==============================] - 0s 40ms/step - loss: 3.8247 - mae: 3.8247\n",
            "Epoch 66/100\n",
            "1/1 [==============================] - 0s 18ms/step - loss: 3.7587 - mae: 3.7587\n",
            "Epoch 67/100\n",
            "1/1 [==============================] - 0s 9ms/step - loss: 3.8238 - mae: 3.8238\n",
            "Epoch 68/100\n",
            "1/1 [==============================] - 0s 10ms/step - loss: 3.7660 - mae: 3.7660\n",
            "Epoch 69/100\n",
            "1/1 [==============================] - 0s 15ms/step - loss: 3.8056 - mae: 3.8056\n",
            "Epoch 70/100\n",
            "1/1 [==============================] - 0s 14ms/step - loss: 3.7832 - mae: 3.7832\n",
            "Epoch 71/100\n",
            "1/1 [==============================] - 0s 12ms/step - loss: 3.7779 - mae: 3.7779\n",
            "Epoch 72/100\n",
            "1/1 [==============================] - 0s 14ms/step - loss: 3.7906 - mae: 3.7906\n",
            "Epoch 73/100\n",
            "1/1 [==============================] - 0s 13ms/step - loss: 3.7500 - mae: 3.7500\n",
            "Epoch 74/100\n",
            "1/1 [==============================] - 0s 15ms/step - loss: 3.7981 - mae: 3.7981\n",
            "Epoch 75/100\n",
            "1/1 [==============================] - 0s 15ms/step - loss: 3.7324 - mae: 3.7324\n",
            "Epoch 76/100\n",
            "1/1 [==============================] - 0s 14ms/step - loss: 3.7945 - mae: 3.7945\n",
            "Epoch 77/100\n",
            "1/1 [==============================] - 0s 18ms/step - loss: 3.7479 - mae: 3.7479\n",
            "Epoch 78/100\n",
            "1/1 [==============================] - 0s 15ms/step - loss: 3.7759 - mae: 3.7759\n",
            "Epoch 79/100\n",
            "1/1 [==============================] - 0s 13ms/step - loss: 3.7572 - mae: 3.7572\n",
            "Epoch 80/100\n",
            "1/1 [==============================] - 0s 14ms/step - loss: 3.7479 - mae: 3.7479\n",
            "Epoch 81/100\n",
            "1/1 [==============================] - 0s 12ms/step - loss: 3.7648 - mae: 3.7648\n",
            "Epoch 82/100\n",
            "1/1 [==============================] - 0s 18ms/step - loss: 3.7197 - mae: 3.7197\n",
            "Epoch 83/100\n",
            "1/1 [==============================] - 0s 41ms/step - loss: 3.7725 - mae: 3.7725\n",
            "Epoch 84/100\n",
            "1/1 [==============================] - 0s 20ms/step - loss: 3.7070 - mae: 3.7070\n",
            "Epoch 85/100\n",
            "1/1 [==============================] - 0s 15ms/step - loss: 3.7714 - mae: 3.7714\n",
            "Epoch 86/100\n",
            "1/1 [==============================] - 0s 18ms/step - loss: 3.7244 - mae: 3.7244\n",
            "Epoch 87/100\n",
            "1/1 [==============================] - 0s 18ms/step - loss: 3.7449 - mae: 3.7449\n",
            "Epoch 88/100\n",
            "1/1 [==============================] - 0s 18ms/step - loss: 3.7321 - mae: 3.7321\n",
            "Epoch 89/100\n",
            "1/1 [==============================] - 0s 15ms/step - loss: 3.7166 - mae: 3.7166\n",
            "Epoch 90/100\n",
            "1/1 [==============================] - 0s 18ms/step - loss: 3.7399 - mae: 3.7399\n",
            "Epoch 91/100\n",
            "1/1 [==============================] - 0s 27ms/step - loss: 3.6882 - mae: 3.6882\n",
            "Epoch 92/100\n",
            "1/1 [==============================] - 0s 11ms/step - loss: 3.7478 - mae: 3.7478\n",
            "Epoch 93/100\n",
            "1/1 [==============================] - 0s 11ms/step - loss: 3.6887 - mae: 3.6887\n",
            "Epoch 94/100\n",
            "1/1 [==============================] - 0s 11ms/step - loss: 3.7412 - mae: 3.7412\n",
            "Epoch 95/100\n",
            "1/1 [==============================] - 0s 15ms/step - loss: 3.7001 - mae: 3.7001\n",
            "Epoch 96/100\n",
            "1/1 [==============================] - 0s 21ms/step - loss: 3.7127 - mae: 3.7127\n",
            "Epoch 97/100\n",
            "1/1 [==============================] - 0s 18ms/step - loss: 3.7079 - mae: 3.7079\n",
            "Epoch 98/100\n",
            "1/1 [==============================] - 0s 9ms/step - loss: 3.6840 - mae: 3.6840\n",
            "Epoch 99/100\n",
            "1/1 [==============================] - 0s 16ms/step - loss: 3.7160 - mae: 3.7160\n",
            "Epoch 100/100\n",
            "1/1 [==============================] - 0s 17ms/step - loss: 3.6553 - mae: 3.6553\n"
          ]
        },
        {
          "output_type": "execute_result",
          "data": {
            "text/plain": [
              "<keras.src.callbacks.History at 0x7be8f6f2e500>"
            ]
          },
          "metadata": {},
          "execution_count": 13
        }
      ]
    },
    {
      "cell_type": "code",
      "source": [
        "# Remind of the data\n",
        "X, y"
      ],
      "metadata": {
        "colab": {
          "base_uri": "https://localhost:8080/"
        },
        "id": "u8tR2BIq1LRk",
        "outputId": "1b9edecb-8287-432e-f389-aeb81c100d36"
      },
      "execution_count": 14,
      "outputs": [
        {
          "output_type": "execute_result",
          "data": {
            "text/plain": [
              "(<tf.Tensor: shape=(8,), dtype=float32, numpy=array([-7., -4., -1.,  2.,  5.,  8., 11., 14.], dtype=float32)>,\n",
              " <tf.Tensor: shape=(8,), dtype=float32, numpy=array([ 3.,  6.,  9., 12., 15., 18., 21., 24.], dtype=float32)>)"
            ]
          },
          "metadata": {},
          "execution_count": 14
        }
      ]
    },
    {
      "cell_type": "code",
      "source": [
        "# Let's see if model's prediciton has improved\n",
        "model.predict([17.0])"
      ],
      "metadata": {
        "colab": {
          "base_uri": "https://localhost:8080/"
        },
        "id": "ItXsmeu41OUQ",
        "outputId": "37d276c8-dc3f-4641-dec5-c1b71e682969"
      },
      "execution_count": 15,
      "outputs": [
        {
          "output_type": "stream",
          "name": "stdout",
          "text": [
            "1/1 [==============================] - 0s 187ms/step\n"
          ]
        },
        {
          "output_type": "execute_result",
          "data": {
            "text/plain": [
              "array([[32.971077]], dtype=float32)"
            ]
          },
          "metadata": {},
          "execution_count": 15
        }
      ]
    },
    {
      "cell_type": "markdown",
      "source": [
        "**Common ways to improve a deep model**\n",
        "* Adding layers\n",
        "* Increase the number of hidden units\n",
        "* Change the activation functions\n",
        "* Change the optimization function\n",
        "* Change the learning rate\n",
        "(The learning rate is the most important hyperparameter of many different neural networks)\n",
        "* Fitting on more data\n",
        "* Fitting for longer"
      ],
      "metadata": {
        "id": "0xvr_tTB3TF-"
      }
    },
    {
      "cell_type": "markdown",
      "source": [
        "# Evaluating a Model\n",
        "\n",
        "In practice, typical workflow when building neural network is:\n",
        "\n",
        "```\n",
        "Build model -> Fit it -> Evaluate it -> Tweak it -> Fit it -> Evaluate it -> Tweak it -> Evaluate it...\n",
        "```"
      ],
      "metadata": {
        "id": "0tHH44w638US"
      }
    },
    {
      "cell_type": "markdown",
      "source": [
        "\n",
        "When it comes to evaluation...There are 3 words should memoriza:\n",
        "> \"Visualiza, Visualize, Visualize\"\n",
        "\n",
        "It's a good idea to Visualize:\n",
        "* The data - What data are we working with? What does it look like?\n",
        "* The model itself - What does our model look like?\n",
        "* The training of a model - How does a model perform while it learns?\n",
        "* The predictions of the model - How do the predictions of a model line up against the ground truth (the orginal labels)?"
      ],
      "metadata": {
        "id": "q6SOzl9j5ba-"
      }
    },
    {
      "cell_type": "code",
      "source": [
        "# Make a big dataset\n",
        "X = tf.range(-100, 100, 4)\n",
        "X"
      ],
      "metadata": {
        "colab": {
          "base_uri": "https://localhost:8080/"
        },
        "id": "KgMdFin236bm",
        "outputId": "1ed163ee-0ede-4756-9fc7-05d1ea3e6930"
      },
      "execution_count": 16,
      "outputs": [
        {
          "output_type": "execute_result",
          "data": {
            "text/plain": [
              "<tf.Tensor: shape=(50,), dtype=int32, numpy=\n",
              "array([-100,  -96,  -92,  -88,  -84,  -80,  -76,  -72,  -68,  -64,  -60,\n",
              "        -56,  -52,  -48,  -44,  -40,  -36,  -32,  -28,  -24,  -20,  -16,\n",
              "        -12,   -8,   -4,    0,    4,    8,   12,   16,   20,   24,   28,\n",
              "         32,   36,   40,   44,   48,   52,   56,   60,   64,   68,   72,\n",
              "         76,   80,   84,   88,   92,   96], dtype=int32)>"
            ]
          },
          "metadata": {},
          "execution_count": 16
        }
      ]
    },
    {
      "cell_type": "code",
      "source": [
        "# Make labels for the datasets\n",
        "y = X + 10\n",
        "y"
      ],
      "metadata": {
        "colab": {
          "base_uri": "https://localhost:8080/"
        },
        "id": "nfieB-yY6V9b",
        "outputId": "2a59eb11-eb19-4235-f890-c0f53dcfcf0c"
      },
      "execution_count": 17,
      "outputs": [
        {
          "output_type": "execute_result",
          "data": {
            "text/plain": [
              "<tf.Tensor: shape=(50,), dtype=int32, numpy=\n",
              "array([-90, -86, -82, -78, -74, -70, -66, -62, -58, -54, -50, -46, -42,\n",
              "       -38, -34, -30, -26, -22, -18, -14, -10,  -6,  -2,   2,   6,  10,\n",
              "        14,  18,  22,  26,  30,  34,  38,  42,  46,  50,  54,  58,  62,\n",
              "        66,  70,  74,  78,  82,  86,  90,  94,  98, 102, 106], dtype=int32)>"
            ]
          },
          "metadata": {},
          "execution_count": 17
        }
      ]
    },
    {
      "cell_type": "code",
      "source": [
        "# Visualize the data\n",
        "import matplotlib.pyplot as plt\n",
        "\n",
        "plt.scatter(X, y)"
      ],
      "metadata": {
        "colab": {
          "base_uri": "https://localhost:8080/",
          "height": 447
        },
        "id": "yjwSNPc26aYs",
        "outputId": "b43f1756-9933-447c-99ad-35a2dd0ad099"
      },
      "execution_count": 18,
      "outputs": [
        {
          "output_type": "execute_result",
          "data": {
            "text/plain": [
              "<matplotlib.collections.PathCollection at 0x7be8f6131c30>"
            ]
          },
          "metadata": {},
          "execution_count": 18
        },
        {
          "output_type": "display_data",
          "data": {
            "text/plain": [
              "<Figure size 640x480 with 1 Axes>"
            ],
            "image/png": "[encoded data removed]"
          },
          "metadata": {}
        }
      ]
    },
    {
      "cell_type": "markdown",
      "source": [
        "## The 3 sets...\n",
        "* Training Set - The model learns from this data, which is typically 70-80% of the total data you have available.\n",
        "* Validation Set - The model gets tuned on this data, which is typically 10-15% of the data available.\n",
        "* Test Set - The model gets evaluated on this data to test what is has learned, this set is typically 10-15% of the total data available.\n",
        "\n"
      ],
      "metadata": {
        "id": "-05rPDC36nVA"
      }
    },
    {
      "cell_type": "code",
      "source": [
        "# Check the length of how many samples we have\n",
        "len(X)"
      ],
      "metadata": {
        "colab": {
          "base_uri": "https://localhost:8080/"
        },
        "id": "2MPx5oTK6k-V",
        "outputId": "db3d9da4-7c16-460b-c886-36deb89720ba"
      },
      "execution_count": 19,
      "outputs": [
        {
          "output_type": "execute_result",
          "data": {
            "text/plain": [
              "50"
            ]
          },
          "metadata": {},
          "execution_count": 19
        }
      ]
    },
    {
      "cell_type": "code",
      "source": [
        "# Split the data into train and test sets\n",
        "X_train = X[:40] # First 40 are training samples (80% of the data)\n",
        "y_train = y[:40]\n",
        "\n",
        "X_test = X[40:] # Last 10 are testing samples (20% of the data)\n",
        "y_test = y[40:]"
      ],
      "metadata": {
        "id": "yLm6QTIZ8buE"
      },
      "execution_count": 20,
      "outputs": []
    },
    {
      "cell_type": "markdown",
      "source": [
        "## Visualize the data\n",
        "Now we've got our data in training and test sets... let's visualize it again!"
      ],
      "metadata": {
        "id": "FrboHEUI9Pl6"
      }
    },
    {
      "cell_type": "code",
      "source": [
        "plt.figure(figsize=(10, 7))\n",
        "\n",
        "# Plot training data in Blue\n",
        "plt.scatter(X_train, y_train, c=\"b\", label=\"Training Data\")\n",
        "\n",
        "# Plot test data in Green\n",
        "plt.scatter(X_test, y_test, c=\"g\", label=\"Testing Data\")\n",
        "\n",
        "# Show a legend\n",
        "plt.legend()"
      ],
      "metadata": {
        "colab": {
          "base_uri": "https://localhost:8080/",
          "height": 616
        },
        "id": "yJQgKZou9QOE",
        "outputId": "728657af-28bb-4172-bb88-f0e796c255be"
      },
      "execution_count": 21,
      "outputs": [
        {
          "output_type": "execute_result",
          "data": {
            "text/plain": [
              "<matplotlib.legend.Legend at 0x7be8f6101db0>"
            ]
          },
          "metadata": {},
          "execution_count": 21
        },
        {
          "output_type": "display_data",
          "data": {
            "text/plain": [
              "<Figure size 1000x700 with 1 Axes>"
            ],
            "image/png": "[encoded data removed]"
          },
          "metadata": {}
        }
      ]
    },
    {
      "cell_type": "code",
      "source": [
        "# Let's build a neural network for our data\n",
        "\n",
        "# 1. Create a model\n",
        "model = tf.keras.Sequential([\n",
        "    tf.keras.layers.Dense(1)\n",
        "])\n",
        "\n",
        "# 2. Compile the model\n",
        "model.compile(loss=tf.keras.losses.mae,\n",
        "              optimizer=tf.keras.optimizers.SGD(),\n",
        "              metrics=[\"mae\"])\n",
        "\n",
        "# # 3. Fit the model\n",
        "# model.fit(X_trian, y_train, epochs=100)"
      ],
      "metadata": {
        "id": "KmOhCGK3MKjJ"
      },
      "execution_count": 22,
      "outputs": []
    },
    {
      "cell_type": "markdown",
      "source": [
        "## Visualzing the Model"
      ],
      "metadata": {
        "id": "oLTyZk-mNqPI"
      }
    },
    {
      "cell_type": "code",
      "source": [
        "# model.summary()"
      ],
      "metadata": {
        "id": "h81esnlpN_lt"
      },
      "execution_count": 23,
      "outputs": []
    },
    {
      "cell_type": "markdown",
      "source": [
        "ValueError: This model has not yet been built. Build the model first by calling `build()` or by calling the model on a batch of data."
      ],
      "metadata": {
        "id": "keDdd56sOPNG"
      }
    },
    {
      "cell_type": "code",
      "source": [
        "X[0], y[0]"
      ],
      "metadata": {
        "colab": {
          "base_uri": "https://localhost:8080/"
        },
        "id": "Kx-kT6hcO63N",
        "outputId": "c44229ee-b1a1-41fd-fae0-8ccc6b290a36"
      },
      "execution_count": 24,
      "outputs": [
        {
          "output_type": "execute_result",
          "data": {
            "text/plain": [
              "(<tf.Tensor: shape=(), dtype=int32, numpy=-100>,\n",
              " <tf.Tensor: shape=(), dtype=int32, numpy=-90>)"
            ]
          },
          "metadata": {},
          "execution_count": 24
        }
      ]
    },
    {
      "cell_type": "code",
      "source": [
        "# Let's create a model which builds automatically by defining the input_shape argument\n",
        "tf.random.set_seed(42)\n",
        "\n",
        "# 1. Create a model (same as above) with input_shape\n",
        "model = tf.keras.Sequential([\n",
        "    tf.keras.layers.Dense(10, input_shape=[1], name=\"input_layer\"),\n",
        "    tf.keras.layers.Dense(1, name=\"output_layer\")\n",
        "])\n",
        "\n",
        "# 2. Compile the model (same as above)\n",
        "model.compile(loss=tf.keras.losses.mae,\n",
        "              optimizer=tf.keras.optimizers.SGD(),\n",
        "              metrics=[\"mae\"])"
      ],
      "metadata": {
        "id": "J1CxkdxGM6KD"
      },
      "execution_count": 25,
      "outputs": []
    },
    {
      "cell_type": "code",
      "source": [
        "model.summary()"
      ],
      "metadata": {
        "colab": {
          "base_uri": "https://localhost:8080/"
        },
        "id": "Vo6-SNL1NkQO",
        "outputId": "e2d42044-0c99-49c5-f140-cf8293fc9cc4"
      },
      "execution_count": 26,
      "outputs": [
        {
          "output_type": "stream",
          "name": "stdout",
          "text": [
            "Model: \"sequential_3\"\n",
            "_________________________________________________________________\n",
            " Layer (type)                Output Shape              Param #   \n",
            "=================================================================\n",
            " input_layer (Dense)         (None, 10)                20        \n",
            "                                                                 \n",
            " output_layer (Dense)        (None, 1)                 11        \n",
            "                                                                 \n",
            "=================================================================\n",
            "Total params: 31 (124.00 Byte)\n",
            "Trainable params: 31 (124.00 Byte)\n",
            "Non-trainable params: 0 (0.00 Byte)\n",
            "_________________________________________________________________\n"
          ]
        }
      ]
    },
    {
      "cell_type": "markdown",
      "source": [
        "* Total params - Total number of parameters in the model.\n",
        "* Trainable parameters - These are the parameters (patterns) the model can update as it trains.\n",
        "* Non-Trainable params - These parameters aren't updated during training (this is typiccal when you bring in already learn patterns or parameters from other models during **transfer learning**).\n",
        "\n"
      ],
      "metadata": {
        "id": "iYezfzWsO-z9"
      }
    },
    {
      "cell_type": "code",
      "source": [
        "# Let's fit the model to the traning data\n",
        "model.fit(X_train, y_train, epochs=100, verbose=0)"
      ],
      "metadata": {
        "colab": {
          "base_uri": "https://localhost:8080/"
        },
        "id": "8tEQvvbrO96c",
        "outputId": "03132998-aa0a-4de4-903a-66e18ad32176"
      },
      "execution_count": 27,
      "outputs": [
        {
          "output_type": "execute_result",
          "data": {
            "text/plain": [
              "<keras.src.callbacks.History at 0x7be8f6053c10>"
            ]
          },
          "metadata": {},
          "execution_count": 27
        }
      ]
    },
    {
      "cell_type": "code",
      "source": [
        "from tensorflow.keras.utils import plot_model\n",
        "\n",
        "plot_model(model=model, show_shapes=True)"
      ],
      "metadata": {
        "colab": {
          "base_uri": "https://localhost:8080/",
          "height": 312
        },
        "id": "9vduygH5Q41h",
        "outputId": "8de512b3-9673-4057-c3c3-5c3f4a2c4dcb"
      },
      "execution_count": 28,
      "outputs": [
        {
          "output_type": "execute_result",
          "data": {
            "image/png": "[encoded data removed]",
            "text/plain": [
              "<IPython.core.display.Image object>"
            ]
          },
          "metadata": {},
          "execution_count": 28
        }
      ]
    },
    {
      "cell_type": "markdown",
      "source": [
        "## Visualizing our model's predicitons\n",
        "\n",
        "To visualize predictions, it's a good idea to plot them against the ground truth labels.\n",
        "\n",
        "Often we'll see this in the form of `y_test` or `y_true` versus `y_pred`"
      ],
      "metadata": {
        "id": "Thoz94_NSvkQ"
      }
    },
    {
      "cell_type": "code",
      "source": [
        "# Make Predictions\n",
        "y_pred = model.predict(X_test)"
      ],
      "metadata": {
        "colab": {
          "base_uri": "https://localhost:8080/"
        },
        "id": "RnIMewtRSpB5",
        "outputId": "c86e20fc-5ccd-428b-d049-1ef515ba5374"
      },
      "execution_count": 29,
      "outputs": [
        {
          "output_type": "stream",
          "name": "stdout",
          "text": [
            "1/1 [==============================] - 0s 93ms/step\n"
          ]
        }
      ]
    },
    {
      "cell_type": "code",
      "source": [
        "# Let's create a plotting function\n",
        "def plot_predictions(train_data=X_train, train_labels=y_train,\n",
        "                     test_data=X_test, test_labels=y_test,\n",
        "                     predictions=y_pred):\n",
        "  \"\"\"\n",
        "  Plots training data, test data and compares predictions to ground truth labels.\n",
        "  \"\"\"\n",
        "\n",
        "  plt.figure(figsize=(10, 7))\n",
        "\n",
        "  # Plot training data in blue\n",
        "  plt.scatter(train_data, train_labels, c=\"b\", label=\"Training Data\")\n",
        "\n",
        "  # Plot testing data in green\n",
        "  plt.scatter(test_data, test_labels, c=\"g\", label=\"Testing Data\")\n",
        "\n",
        "  # Plot model's predictions in red\n",
        "  plt.scatter(test_data, predictions, c=\"r\", label=\"Predictions\")\n",
        "\n",
        "  # Show the legend\n",
        "  plt.legend()"
      ],
      "metadata": {
        "id": "rX1v8S3fTTPW"
      },
      "execution_count": 30,
      "outputs": []
    },
    {
      "cell_type": "code",
      "source": [
        "plot_predictions(train_data=X_train, train_labels=y_train,\n",
        "                 test_data=X_test, test_labels=y_test,\n",
        "                 predictions=y_pred)"
      ],
      "metadata": {
        "colab": {
          "base_uri": "https://localhost:8080/",
          "height": 599
        },
        "id": "AnD0kmhLUllj",
        "outputId": "d0f85367-3e45-41b9-b8c0-06fad5c55b1d"
      },
      "execution_count": 31,
      "outputs": [
        {
          "output_type": "display_data",
          "data": {
            "text/plain": [
              "<Figure size 1000x700 with 1 Axes>"
            ],
            "image/png": "[encoded data removed]"
          },
          "metadata": {}
        }
      ]
    },
    {
      "cell_type": "markdown",
      "source": [
        "# Evaluating our model's predictions with regression evalution metrics  \n",
        "\n",
        "Depending on the problem we're working on, there will be different evaluation metrics to evaluate our model's performance.\n",
        "\n",
        "Since we're working on a regression, two of the main metrics:\n",
        "n  \n",
        "* MAE - mean absolute error, \"on average, how wrong is each of my model's predictions\"\n",
        "  * When to use: As a great starter metric for any regression problem.\n",
        "\n",
        "* MSE - mean square error, \"square the average errors\"\n",
        "  * When to use: When larger errors are more significant than smaller errors.\n",
        "\n",
        "** Other one **\n",
        "\n",
        "* Huber - Combination of MSE and MAE. Less sensitive to outliers than MSE."
      ],
      "metadata": {
        "id": "5b9_cdEkVMIr"
      }
    },
    {
      "cell_type": "code",
      "source": [
        "# Evaluate the model on the test\n",
        "model.evaluate(X_test, y_test)"
      ],
      "metadata": {
        "colab": {
          "base_uri": "https://localhost:8080/"
        },
        "id": "6kukGoW_Vf5F",
        "outputId": "edac4e0d-d525-420b-bec4-f0b204d25f71"
      },
      "execution_count": 32,
      "outputs": [
        {
          "output_type": "stream",
          "name": "stdout",
          "text": [
            "1/1 [==============================] - 0s 329ms/step - loss: 13.3045 - mae: 13.3045\n"
          ]
        },
        {
          "output_type": "execute_result",
          "data": {
            "text/plain": [
              "[13.304494857788086, 13.304494857788086]"
            ]
          },
          "metadata": {},
          "execution_count": 32
        }
      ]
    },
    {
      "cell_type": "code",
      "source": [
        "# Calculate the mean absolute error\n",
        "mae = tf.metrics.mean_absolute_error(y_true=y_test,\n",
        "                                     y_pred=tf.constant(y_pred))\n",
        "mae"
      ],
      "metadata": {
        "colab": {
          "base_uri": "https://localhost:8080/"
        },
        "id": "6GsCqW8iXmCU",
        "outputId": "0c15d21d-569b-4715-d03b-c1ce66dee58e"
      },
      "execution_count": 33,
      "outputs": [
        {
          "output_type": "execute_result",
          "data": {
            "text/plain": [
              "<tf.Tensor: shape=(10,), dtype=float32, numpy=\n",
              "array([12.265112 , 10.5117855, 10.       , 10.729747 , 12.851547 ,\n",
              "       16.285126 , 20.960243 , 26.064087 , 31.167933 , 36.271767 ],\n",
              "      dtype=float32)>"
            ]
          },
          "metadata": {},
          "execution_count": 33
        }
      ]
    },
    {
      "cell_type": "code",
      "source": [
        "y_pred.shape"
      ],
      "metadata": {
        "colab": {
          "base_uri": "https://localhost:8080/"
        },
        "id": "hpK0YW8aYtF-",
        "outputId": "4dd05e37-0f11-489e-d686-8851dfdf2609"
      },
      "execution_count": 34,
      "outputs": [
        {
          "output_type": "execute_result",
          "data": {
            "text/plain": [
              "(10, 1)"
            ]
          },
          "metadata": {},
          "execution_count": 34
        }
      ]
    },
    {
      "cell_type": "code",
      "source": [
        "y_test"
      ],
      "metadata": {
        "colab": {
          "base_uri": "https://localhost:8080/"
        },
        "id": "-0lAP6zYYw8z",
        "outputId": "3716ed3f-6cf7-4f97-a023-b51aec5914b8"
      },
      "execution_count": 35,
      "outputs": [
        {
          "output_type": "execute_result",
          "data": {
            "text/plain": [
              "<tf.Tensor: shape=(10,), dtype=int32, numpy=array([ 70,  74,  78,  82,  86,  90,  94,  98, 102, 106], dtype=int32)>"
            ]
          },
          "metadata": {},
          "execution_count": 35
        }
      ]
    },
    {
      "cell_type": "code",
      "source": [
        "tf.squeeze(y_pred)"
      ],
      "metadata": {
        "colab": {
          "base_uri": "https://localhost:8080/"
        },
        "id": "kjg3bBXBYyYX",
        "outputId": "65fba87b-d66d-49cf-fec9-16dc77040f39"
      },
      "execution_count": 36,
      "outputs": [
        {
          "output_type": "execute_result",
          "data": {
            "text/plain": [
              "<tf.Tensor: shape=(10,), dtype=float32, numpy=\n",
              "array([ 78.33722 ,  83.44107 ,  88.54491 ,  93.648735,  98.75258 ,\n",
              "       103.85641 , 108.96024 , 114.06409 , 119.16793 , 124.27177 ],\n",
              "      dtype=float32)>"
            ]
          },
          "metadata": {},
          "execution_count": 36
        }
      ]
    },
    {
      "cell_type": "code",
      "source": [
        "# Calculate the mean absolute error\n",
        "mae = tf.metrics.mean_absolute_error(y_true=y_test,\n",
        "                                     y_pred=tf.squeeze(y_pred))\n",
        "mae"
      ],
      "metadata": {
        "colab": {
          "base_uri": "https://localhost:8080/"
        },
        "id": "w0fH1HjVY1S0",
        "outputId": "6ec41d5a-66f3-4d86-aa48-167aa11137e5"
      },
      "execution_count": 37,
      "outputs": [
        {
          "output_type": "execute_result",
          "data": {
            "text/plain": [
              "<tf.Tensor: shape=(), dtype=float32, numpy=13.304495>"
            ]
          },
          "metadata": {},
          "execution_count": 37
        }
      ]
    },
    {
      "cell_type": "code",
      "source": [
        "mse = tf.metrics.mean_squared_error(y_true=y_test,\n",
        "                                    y_pred=tf.squeeze(y_pred))\n",
        "\n",
        "mse"
      ],
      "metadata": {
        "colab": {
          "base_uri": "https://localhost:8080/"
        },
        "id": "4Xyl9eJOZIqH",
        "outputId": "fe87ef87-98d8-42c1-f806-bcb5df3efec4"
      },
      "execution_count": 38,
      "outputs": [
        {
          "output_type": "execute_result",
          "data": {
            "text/plain": [
              "<tf.Tensor: shape=(), dtype=float32, numpy=187.06186>"
            ]
          },
          "metadata": {},
          "execution_count": 38
        }
      ]
    },
    {
      "cell_type": "code",
      "source": [
        "def mae(y_true, y_pred):\n",
        "  return tf.metrics.mean_absolute_error(y_true=y_test,y_pred=tf.squeeze(y_pred))\n",
        "\n",
        "def mse(y_true, y_pred):\n",
        "  return tf.metrics.mean_squared_error(y_true=y_test,y_pred=tf.squeeze(y_pred))"
      ],
      "metadata": {
        "id": "mYfIzIoWdAVz"
      },
      "execution_count": 39,
      "outputs": []
    },
    {
      "cell_type": "markdown",
      "source": [
        "# Running experiments to improve our Model\n",
        "\n",
        "1. Get more data\n",
        "2. Make Model larger (using more complex model)\n",
        "3. Train for longer\n",
        "\n",
        "Let's do 3 Modelling Experiments:\n",
        "1. `model_1` - same as original model, 1 layer, trained for 100 epochs.\n",
        "2. `model_2` - 2 layers, trained for 100 epochs.\n",
        "3. `model_3` - 2 layers, trained for 500 epochs.\n"
      ],
      "metadata": {
        "id": "ur4mu_VfafQp"
      }
    },
    {
      "cell_type": "code",
      "source": [
        "X_train, y_train"
      ],
      "metadata": {
        "colab": {
          "base_uri": "https://localhost:8080/"
        },
        "id": "RXAcouiWbpy1",
        "outputId": "043e117e-ae20-44f8-9bc6-e1acd26c0e2b"
      },
      "execution_count": 40,
      "outputs": [
        {
          "output_type": "execute_result",
          "data": {
            "text/plain": [
              "(<tf.Tensor: shape=(40,), dtype=int32, numpy=\n",
              " array([-100,  -96,  -92,  -88,  -84,  -80,  -76,  -72,  -68,  -64,  -60,\n",
              "         -56,  -52,  -48,  -44,  -40,  -36,  -32,  -28,  -24,  -20,  -16,\n",
              "         -12,   -8,   -4,    0,    4,    8,   12,   16,   20,   24,   28,\n",
              "          32,   36,   40,   44,   48,   52,   56], dtype=int32)>,\n",
              " <tf.Tensor: shape=(40,), dtype=int32, numpy=\n",
              " array([-90, -86, -82, -78, -74, -70, -66, -62, -58, -54, -50, -46, -42,\n",
              "        -38, -34, -30, -26, -22, -18, -14, -10,  -6,  -2,   2,   6,  10,\n",
              "         14,  18,  22,  26,  30,  34,  38,  42,  46,  50,  54,  58,  62,\n",
              "         66], dtype=int32)>)"
            ]
          },
          "metadata": {},
          "execution_count": 40
        }
      ]
    },
    {
      "cell_type": "markdown",
      "source": [
        "## Build `model_1`"
      ],
      "metadata": {
        "id": "d5SSGDv-bxiE"
      }
    },
    {
      "cell_type": "code",
      "source": [
        "# Set random seed\n",
        "tf.random.set_seed(42)\n",
        "\n",
        "# 1. Create the model\n",
        "model_1 = tf.keras.Sequential([\n",
        "    tf.keras.layers.Dense(1)\n",
        "])\n",
        "\n",
        "# 2. Compile the model\n",
        "model_1.compile(loss=tf.keras.losses.mae,\n",
        "                optimizer=tf.keras.optimizers.SGD(),\n",
        "                metrics=[\"mae\"])\n",
        "\n",
        "# 3. Fit the model\n",
        "model_1.fit(tf.expand_dims(X_train, axis=-1), y_train, epochs=100)"
      ],
      "metadata": {
        "id": "WNhsG1hebwMz",
        "colab": {
          "base_uri": "https://localhost:8080/"
        },
        "outputId": "f1542fe0-5d7f-4b47-c2ee-02f5f379adc5"
      },
      "execution_count": 41,
      "outputs": [
        {
          "output_type": "stream",
          "name": "stdout",
          "text": [
            "Epoch 1/100\n",
            "2/2 [==============================] - 1s 19ms/step - loss: 41.4067 - mae: 41.4067\n",
            "Epoch 2/100\n",
            "2/2 [==============================] - 0s 9ms/step - loss: 12.6684 - mae: 12.6684\n",
            "Epoch 3/100\n",
            "2/2 [==============================] - 0s 12ms/step - loss: 11.2655 - mae: 11.2655\n",
            "Epoch 4/100\n",
            "2/2 [==============================] - 0s 10ms/step - loss: 9.5864 - mae: 9.5864\n",
            "Epoch 5/100\n",
            "2/2 [==============================] - 0s 15ms/step - loss: 10.4971 - mae: 10.4971\n",
            "Epoch 6/100\n",
            "2/2 [==============================] - 0s 9ms/step - loss: 9.7215 - mae: 9.7215\n",
            "Epoch 7/100\n",
            "2/2 [==============================] - 0s 14ms/step - loss: 8.8150 - mae: 8.8150\n",
            "Epoch 8/100\n",
            "2/2 [==============================] - 0s 12ms/step - loss: 9.0731 - mae: 9.0731\n",
            "Epoch 9/100\n",
            "2/2 [==============================] - 0s 13ms/step - loss: 19.3477 - mae: 19.3477\n",
            "Epoch 10/100\n",
            "2/2 [==============================] - 0s 9ms/step - loss: 10.4520 - mae: 10.4520\n",
            "Epoch 11/100\n",
            "2/2 [==============================] - 0s 11ms/step - loss: 8.5348 - mae: 8.5348\n",
            "Epoch 12/100\n",
            "2/2 [==============================] - 0s 18ms/step - loss: 10.9456 - mae: 10.9456\n",
            "Epoch 13/100\n",
            "2/2 [==============================] - 0s 8ms/step - loss: 7.5710 - mae: 7.5710\n",
            "Epoch 14/100\n",
            "2/2 [==============================] - 0s 13ms/step - loss: 16.0159 - mae: 16.0159\n",
            "Epoch 15/100\n",
            "2/2 [==============================] - 0s 8ms/step - loss: 13.0963 - mae: 13.0963\n",
            "Epoch 16/100\n",
            "2/2 [==============================] - 0s 9ms/step - loss: 7.9425 - mae: 7.9425\n",
            "Epoch 17/100\n",
            "2/2 [==============================] - 0s 7ms/step - loss: 11.2991 - mae: 11.2991\n",
            "Epoch 18/100\n",
            "2/2 [==============================] - 0s 10ms/step - loss: 10.2420 - mae: 10.2420\n",
            "Epoch 19/100\n",
            "2/2 [==============================] - 0s 8ms/step - loss: 19.5439 - mae: 19.5439\n",
            "Epoch 20/100\n",
            "2/2 [==============================] - 0s 6ms/step - loss: 16.1961 - mae: 16.1961\n",
            "Epoch 21/100\n",
            "2/2 [==============================] - 0s 9ms/step - loss: 12.0928 - mae: 12.0928\n",
            "Epoch 22/100\n",
            "2/2 [==============================] - 0s 6ms/step - loss: 8.7144 - mae: 8.7144\n",
            "Epoch 23/100\n",
            "2/2 [==============================] - 0s 15ms/step - loss: 10.2645 - mae: 10.2645\n",
            "Epoch 24/100\n",
            "2/2 [==============================] - 0s 8ms/step - loss: 15.3877 - mae: 15.3877\n",
            "Epoch 25/100\n",
            "2/2 [==============================] - 0s 8ms/step - loss: 11.9325 - mae: 11.9325\n",
            "Epoch 26/100\n",
            "2/2 [==============================] - 0s 8ms/step - loss: 12.9903 - mae: 12.9903\n",
            "Epoch 27/100\n",
            "2/2 [==============================] - 0s 10ms/step - loss: 10.3595 - mae: 10.3595\n",
            "Epoch 28/100\n",
            "2/2 [==============================] - 0s 11ms/step - loss: 13.3257 - mae: 13.3257\n",
            "Epoch 29/100\n",
            "2/2 [==============================] - 0s 6ms/step - loss: 9.6029 - mae: 9.6029\n",
            "Epoch 30/100\n",
            "2/2 [==============================] - 0s 9ms/step - loss: 17.0937 - mae: 17.0937\n",
            "Epoch 31/100\n",
            "2/2 [==============================] - 0s 17ms/step - loss: 22.9652 - mae: 22.9652\n",
            "Epoch 32/100\n",
            "2/2 [==============================] - 0s 13ms/step - loss: 7.5606 - mae: 7.5606\n",
            "Epoch 33/100\n",
            "2/2 [==============================] - 0s 7ms/step - loss: 15.4355 - mae: 15.4355\n",
            "Epoch 34/100\n",
            "2/2 [==============================] - 0s 8ms/step - loss: 13.3636 - mae: 13.3636\n",
            "Epoch 35/100\n",
            "2/2 [==============================] - 0s 7ms/step - loss: 7.9876 - mae: 7.9876\n",
            "Epoch 36/100\n",
            "2/2 [==============================] - 0s 6ms/step - loss: 9.9925 - mae: 9.9925\n",
            "Epoch 37/100\n",
            "2/2 [==============================] - 0s 14ms/step - loss: 9.7422 - mae: 9.7422\n",
            "Epoch 38/100\n",
            "2/2 [==============================] - 0s 10ms/step - loss: 10.6095 - mae: 10.6095\n",
            "Epoch 39/100\n",
            "2/2 [==============================] - 0s 6ms/step - loss: 15.6780 - mae: 15.6780\n",
            "Epoch 40/100\n",
            "2/2 [==============================] - 0s 10ms/step - loss: 13.4274 - mae: 13.4274\n",
            "Epoch 41/100\n",
            "2/2 [==============================] - 0s 42ms/step - loss: 9.2865 - mae: 9.2865\n",
            "Epoch 42/100\n",
            "2/2 [==============================] - 0s 15ms/step - loss: 11.0079 - mae: 11.0079\n",
            "Epoch 43/100\n",
            "2/2 [==============================] - 0s 28ms/step - loss: 8.3406 - mae: 8.3406\n",
            "Epoch 44/100\n",
            "2/2 [==============================] - 0s 14ms/step - loss: 13.0474 - mae: 13.0474\n",
            "Epoch 45/100\n",
            "2/2 [==============================] - 0s 9ms/step - loss: 13.6869 - mae: 13.6869\n",
            "Epoch 46/100\n",
            "2/2 [==============================] - 0s 13ms/step - loss: 8.2967 - mae: 8.2967\n",
            "Epoch 47/100\n",
            "2/2 [==============================] - 0s 12ms/step - loss: 8.7294 - mae: 8.7294\n",
            "Epoch 48/100\n",
            "2/2 [==============================] - 0s 13ms/step - loss: 10.0286 - mae: 10.0286\n",
            "Epoch 49/100\n",
            "2/2 [==============================] - 0s 11ms/step - loss: 8.5142 - mae: 8.5142\n",
            "Epoch 50/100\n",
            "2/2 [==============================] - 0s 19ms/step - loss: 9.0187 - mae: 9.0187\n",
            "Epoch 51/100\n",
            "2/2 [==============================] - 0s 30ms/step - loss: 9.3799 - mae: 9.3799\n",
            "Epoch 52/100\n",
            "2/2 [==============================] - 0s 15ms/step - loss: 14.1661 - mae: 14.1661\n",
            "Epoch 53/100\n",
            "2/2 [==============================] - 0s 11ms/step - loss: 14.8960 - mae: 14.8960\n",
            "Epoch 54/100\n",
            "2/2 [==============================] - 0s 11ms/step - loss: 14.8354 - mae: 14.8354\n",
            "Epoch 55/100\n",
            "2/2 [==============================] - 0s 8ms/step - loss: 12.6180 - mae: 12.6180\n",
            "Epoch 56/100\n",
            "2/2 [==============================] - 0s 10ms/step - loss: 7.6051 - mae: 7.6051\n",
            "Epoch 57/100\n",
            "2/2 [==============================] - 0s 12ms/step - loss: 8.7939 - mae: 8.7939\n",
            "Epoch 58/100\n",
            "2/2 [==============================] - 0s 12ms/step - loss: 8.3833 - mae: 8.3833\n",
            "Epoch 59/100\n",
            "2/2 [==============================] - 0s 11ms/step - loss: 9.1785 - mae: 9.1785\n",
            "Epoch 60/100\n",
            "2/2 [==============================] - 0s 9ms/step - loss: 9.1226 - mae: 9.1226\n",
            "Epoch 61/100\n",
            "2/2 [==============================] - 0s 7ms/step - loss: 10.6596 - mae: 10.6596\n",
            "Epoch 62/100\n",
            "2/2 [==============================] - 0s 22ms/step - loss: 7.4452 - mae: 7.4452\n",
            "Epoch 63/100\n",
            "2/2 [==============================] - 0s 19ms/step - loss: 10.5404 - mae: 10.5404\n",
            "Epoch 64/100\n",
            "2/2 [==============================] - 0s 9ms/step - loss: 12.1498 - mae: 12.1498\n",
            "Epoch 65/100\n",
            "2/2 [==============================] - 0s 12ms/step - loss: 9.4714 - mae: 9.4714\n",
            "Epoch 66/100\n",
            "2/2 [==============================] - 0s 15ms/step - loss: 11.5568 - mae: 11.5568\n",
            "Epoch 67/100\n",
            "2/2 [==============================] - 0s 11ms/step - loss: 8.0276 - mae: 8.0276\n",
            "Epoch 68/100\n",
            "2/2 [==============================] - 0s 22ms/step - loss: 8.5621 - mae: 8.5621\n",
            "Epoch 69/100\n",
            "2/2 [==============================] - 0s 26ms/step - loss: 12.2267 - mae: 12.2267\n",
            "Epoch 70/100\n",
            "2/2 [==============================] - 0s 11ms/step - loss: 8.9445 - mae: 8.9445\n",
            "Epoch 71/100\n",
            "2/2 [==============================] - 0s 16ms/step - loss: 9.9173 - mae: 9.9173\n",
            "Epoch 72/100\n",
            "2/2 [==============================] - 0s 9ms/step - loss: 9.9612 - mae: 9.9612\n",
            "Epoch 73/100\n",
            "2/2 [==============================] - 0s 12ms/step - loss: 12.4093 - mae: 12.4093\n",
            "Epoch 74/100\n",
            "2/2 [==============================] - 0s 13ms/step - loss: 10.6179 - mae: 10.6179\n",
            "Epoch 75/100\n",
            "2/2 [==============================] - 0s 12ms/step - loss: 9.6175 - mae: 9.6175\n",
            "Epoch 76/100\n",
            "2/2 [==============================] - 0s 15ms/step - loss: 11.0763 - mae: 11.0763\n",
            "Epoch 77/100\n",
            "2/2 [==============================] - 0s 13ms/step - loss: 8.2671 - mae: 8.2671\n",
            "Epoch 78/100\n",
            "2/2 [==============================] - 0s 13ms/step - loss: 8.9434 - mae: 8.9434\n",
            "Epoch 79/100\n",
            "2/2 [==============================] - 0s 21ms/step - loss: 19.8487 - mae: 19.8487\n",
            "Epoch 80/100\n",
            "2/2 [==============================] - 0s 21ms/step - loss: 17.7752 - mae: 17.7752\n",
            "Epoch 81/100\n",
            "2/2 [==============================] - 0s 17ms/step - loss: 7.1058 - mae: 7.1058\n",
            "Epoch 82/100\n",
            "2/2 [==============================] - 0s 18ms/step - loss: 10.3916 - mae: 10.3916\n",
            "Epoch 83/100\n",
            "2/2 [==============================] - 0s 18ms/step - loss: 9.8096 - mae: 9.8096\n",
            "Epoch 84/100\n",
            "2/2 [==============================] - 0s 15ms/step - loss: 7.9575 - mae: 7.9575\n",
            "Epoch 85/100\n",
            "2/2 [==============================] - 0s 13ms/step - loss: 9.4749 - mae: 9.4749\n",
            "Epoch 86/100\n",
            "2/2 [==============================] - 0s 9ms/step - loss: 9.5161 - mae: 9.5161\n",
            "Epoch 87/100\n",
            "2/2 [==============================] - 0s 8ms/step - loss: 11.4702 - mae: 11.4702\n",
            "Epoch 88/100\n",
            "2/2 [==============================] - 0s 7ms/step - loss: 9.9685 - mae: 9.9685\n",
            "Epoch 89/100\n",
            "2/2 [==============================] - 0s 11ms/step - loss: 7.2607 - mae: 7.2607\n",
            "Epoch 90/100\n",
            "2/2 [==============================] - 0s 10ms/step - loss: 12.7342 - mae: 12.7342\n",
            "Epoch 91/100\n",
            "2/2 [==============================] - 0s 9ms/step - loss: 7.3300 - mae: 7.3300\n",
            "Epoch 92/100\n",
            "2/2 [==============================] - 0s 19ms/step - loss: 7.6961 - mae: 7.6961\n",
            "Epoch 93/100\n",
            "2/2 [==============================] - 0s 19ms/step - loss: 7.1238 - mae: 7.1238\n",
            "Epoch 94/100\n",
            "2/2 [==============================] - 0s 12ms/step - loss: 12.5787 - mae: 12.5787\n",
            "Epoch 95/100\n",
            "2/2 [==============================] - 0s 10ms/step - loss: 9.9540 - mae: 9.9540\n",
            "Epoch 96/100\n",
            "2/2 [==============================] - 0s 16ms/step - loss: 9.1334 - mae: 9.1334\n",
            "Epoch 97/100\n",
            "2/2 [==============================] - 0s 16ms/step - loss: 12.0594 - mae: 12.0594\n",
            "Epoch 98/100\n",
            "2/2 [==============================] - 0s 9ms/step - loss: 9.0998 - mae: 9.0998\n",
            "Epoch 99/100\n",
            "2/2 [==============================] - 0s 10ms/step - loss: 8.4954 - mae: 8.4954\n",
            "Epoch 100/100\n",
            "2/2 [==============================] - 0s 10ms/step - loss: 14.4234 - mae: 14.4234\n"
          ]
        },
        {
          "output_type": "execute_result",
          "data": {
            "text/plain": [
              "<keras.src.callbacks.History at 0x7be8f552e050>"
            ]
          },
          "metadata": {},
          "execution_count": 41
        }
      ]
    },
    {
      "cell_type": "code",
      "source": [
        "# Make and plot predicitons for model_1\n",
        "\n",
        "y_preds_1 = model_1.predict(X_test)\n",
        "plot_predictions(predictions=y_preds_1)"
      ],
      "metadata": {
        "colab": {
          "base_uri": "https://localhost:8080/",
          "height": 616
        },
        "id": "vp-mQdn5cmu3",
        "outputId": "3ac4df46-2c14-4852-b186-44432a1a1cf1"
      },
      "execution_count": 42,
      "outputs": [
        {
          "output_type": "stream",
          "name": "stdout",
          "text": [
            "1/1 [==============================] - 0s 144ms/step\n"
          ]
        },
        {
          "output_type": "display_data",
          "data": {
            "text/plain": [
              "<Figure size 1000x700 with 1 Axes>"
            ],
            "image/png": "[encoded data removed]"
          },
          "metadata": {}
        }
      ]
    },
    {
      "cell_type": "code",
      "source": [
        "# Calculate model_1 evaluation  metrics\n",
        "mae_1 = mae(y_test, y_preds_1)\n",
        "mse_1 = mse(y_test, y_preds_1)\n",
        "\n",
        "mae_1, mse_1"
      ],
      "metadata": {
        "colab": {
          "base_uri": "https://localhost:8080/"
        },
        "id": "Bm3PmxlFdO7u",
        "outputId": "25cdecbd-7c45-4ab5-9d3e-20bc263d3425"
      },
      "execution_count": 43,
      "outputs": [
        {
          "output_type": "execute_result",
          "data": {
            "text/plain": [
              "(<tf.Tensor: shape=(), dtype=float32, numpy=30.707941>,\n",
              " <tf.Tensor: shape=(), dtype=float32, numpy=953.479>)"
            ]
          },
          "metadata": {},
          "execution_count": 43
        }
      ]
    },
    {
      "cell_type": "markdown",
      "source": [
        "## Build `model_2`\n",
        "* 2 Dense layers, trained for 100 epochs"
      ],
      "metadata": {
        "id": "O2Pe7xzyeF2n"
      }
    },
    {
      "cell_type": "code",
      "source": [
        "# Set random seed\n",
        "tf.random.set_seed(42)\n",
        "\n",
        "# 1. Create the model\n",
        "model_2 = tf.keras.Sequential([\n",
        "    tf.keras.layers.Dense(10),\n",
        "    tf.keras.layers.Dense(1)\n",
        "])\n",
        "\n",
        "# 2. Compile the model\n",
        "model_2.compile(loss=tf.keras.losses.mae,\n",
        "                optimizer=tf.keras.optimizers.SGD(),\n",
        "                metrics=[\"mse\"])\n",
        "\n",
        "# 3. Fit the model\n",
        "model_2.fit(tf.expand_dims(X_train, axis=-1), y_train, epochs=100)"
      ],
      "metadata": {
        "id": "kM_GwbyweI8w",
        "colab": {
          "base_uri": "https://localhost:8080/"
        },
        "outputId": "0572f15b-ec50-49f6-8d7a-45ac509e0b03"
      },
      "execution_count": 44,
      "outputs": [
        {
          "output_type": "stream",
          "name": "stdout",
          "text": [
            "Epoch 1/100\n",
            "2/2 [==============================] - 1s 13ms/step - loss: 8.7233 - mse: 112.7922\n",
            "Epoch 2/100\n",
            "2/2 [==============================] - 0s 15ms/step - loss: 48.3058 - mse: 3634.2173\n",
            "Epoch 3/100\n",
            "2/2 [==============================] - 0s 8ms/step - loss: 34.3598 - mse: 1735.1703\n",
            "Epoch 4/100\n",
            "2/2 [==============================] - 0s 8ms/step - loss: 15.7623 - mse: 339.9612\n",
            "Epoch 5/100\n",
            "2/2 [==============================] - 0s 38ms/step - loss: 23.2445 - mse: 750.4275\n",
            "Epoch 6/100\n",
            "2/2 [==============================] - 0s 23ms/step - loss: 9.8396 - mse: 126.4138\n",
            "Epoch 7/100\n",
            "2/2 [==============================] - 0s 8ms/step - loss: 10.9016 - mse: 148.5688\n",
            "Epoch 8/100\n",
            "2/2 [==============================] - 0s 7ms/step - loss: 13.8965 - mse: 271.8575\n",
            "Epoch 9/100\n",
            "2/2 [==============================] - 0s 7ms/step - loss: 31.8319 - mse: 1481.2135\n",
            "Epoch 10/100\n",
            "2/2 [==============================] - 0s 8ms/step - loss: 21.2712 - mse: 629.2376\n",
            "Epoch 11/100\n",
            "2/2 [==============================] - 0s 7ms/step - loss: 8.5594 - mse: 96.7263\n",
            "Epoch 12/100\n",
            "2/2 [==============================] - 0s 6ms/step - loss: 27.5108 - mse: 1040.7792\n",
            "Epoch 13/100\n",
            "2/2 [==============================] - 0s 15ms/step - loss: 12.1497 - mse: 176.1074\n",
            "Epoch 14/100\n",
            "2/2 [==============================] - 0s 8ms/step - loss: 34.9530 - mse: 2010.1217\n",
            "Epoch 15/100\n",
            "2/2 [==============================] - 0s 7ms/step - loss: 22.7639 - mse: 736.6469\n",
            "Epoch 16/100\n",
            "2/2 [==============================] - 0s 7ms/step - loss: 9.9730 - mse: 125.2173\n",
            "Epoch 17/100\n",
            "2/2 [==============================] - 0s 7ms/step - loss: 17.9637 - mse: 428.9841\n",
            "Epoch 18/100\n",
            "2/2 [==============================] - 0s 7ms/step - loss: 14.4290 - mse: 330.9974\n",
            "Epoch 19/100\n",
            "2/2 [==============================] - 0s 18ms/step - loss: 14.5456 - mse: 333.3553\n",
            "Epoch 20/100\n",
            "2/2 [==============================] - 0s 11ms/step - loss: 10.5154 - mse: 148.4519\n",
            "Epoch 21/100\n",
            "2/2 [==============================] - 0s 7ms/step - loss: 15.3059 - mse: 318.2323\n",
            "Epoch 22/100\n",
            "2/2 [==============================] - 0s 18ms/step - loss: 15.6560 - mse: 338.1640\n",
            "Epoch 23/100\n",
            "2/2 [==============================] - 0s 7ms/step - loss: 9.2420 - mse: 119.0105\n",
            "Epoch 24/100\n",
            "2/2 [==============================] - 0s 7ms/step - loss: 17.2218 - mse: 405.8337\n",
            "Epoch 25/100\n",
            "2/2 [==============================] - 0s 8ms/step - loss: 15.9129 - mse: 332.3649\n",
            "Epoch 26/100\n",
            "2/2 [==============================] - 0s 9ms/step - loss: 20.8605 - mse: 645.9943\n",
            "Epoch 27/100\n",
            "2/2 [==============================] - 0s 9ms/step - loss: 26.1237 - mse: 1066.4282\n",
            "Epoch 28/100\n",
            "2/2 [==============================] - 0s 11ms/step - loss: 18.6013 - mse: 548.0046\n",
            "Epoch 29/100\n",
            "2/2 [==============================] - 0s 10ms/step - loss: 9.2592 - mse: 97.2620\n",
            "Epoch 30/100\n",
            "2/2 [==============================] - 0s 15ms/step - loss: 29.2157 - mse: 1528.9847\n",
            "Epoch 31/100\n",
            "2/2 [==============================] - 0s 10ms/step - loss: 52.9311 - mse: 5012.3711\n",
            "Epoch 32/100\n",
            "2/2 [==============================] - 0s 10ms/step - loss: 11.9903 - mse: 210.6950\n",
            "Epoch 33/100\n",
            "2/2 [==============================] - 0s 7ms/step - loss: 15.6100 - mse: 336.0017\n",
            "Epoch 34/100\n",
            "2/2 [==============================] - 0s 8ms/step - loss: 12.6812 - mse: 213.3121\n",
            "Epoch 35/100\n",
            "2/2 [==============================] - 0s 8ms/step - loss: 9.2409 - mse: 92.7530\n",
            "Epoch 36/100\n",
            "2/2 [==============================] - 0s 7ms/step - loss: 16.6025 - mse: 400.9586\n",
            "Epoch 37/100\n",
            "2/2 [==============================] - 0s 8ms/step - loss: 11.0624 - mse: 192.5533\n",
            "Epoch 38/100\n",
            "2/2 [==============================] - 0s 8ms/step - loss: 18.1887 - mse: 435.2205\n",
            "Epoch 39/100\n",
            "2/2 [==============================] - 0s 7ms/step - loss: 19.1256 - mse: 531.6000\n",
            "Epoch 40/100\n",
            "2/2 [==============================] - 0s 8ms/step - loss: 20.4737 - mse: 612.3534\n",
            "Epoch 41/100\n",
            "2/2 [==============================] - 0s 15ms/step - loss: 14.8772 - mse: 277.4779\n",
            "Epoch 42/100\n",
            "2/2 [==============================] - 0s 9ms/step - loss: 12.2564 - mse: 184.5948\n",
            "Epoch 43/100\n",
            "2/2 [==============================] - 0s 8ms/step - loss: 10.7258 - mse: 165.1745\n",
            "Epoch 44/100\n",
            "2/2 [==============================] - 0s 21ms/step - loss: 22.9011 - mse: 820.9457\n",
            "Epoch 45/100\n",
            "2/2 [==============================] - 0s 27ms/step - loss: 10.3670 - mse: 128.9517\n",
            "Epoch 46/100\n",
            "2/2 [==============================] - 0s 23ms/step - loss: 11.7473 - mse: 179.0065\n",
            "Epoch 47/100\n",
            "2/2 [==============================] - 0s 11ms/step - loss: 9.6772 - mse: 153.8187\n",
            "Epoch 48/100\n",
            "2/2 [==============================] - 0s 11ms/step - loss: 17.2959 - mse: 405.7607\n",
            "Epoch 49/100\n",
            "2/2 [==============================] - 0s 44ms/step - loss: 9.5475 - mse: 99.2566\n",
            "Epoch 50/100\n",
            "2/2 [==============================] - 0s 10ms/step - loss: 13.7608 - mse: 256.5879\n",
            "Epoch 51/100\n",
            "2/2 [==============================] - 0s 15ms/step - loss: 11.5819 - mse: 153.8891\n",
            "Epoch 52/100\n",
            "2/2 [==============================] - 0s 19ms/step - loss: 30.3523 - mse: 1590.1193\n",
            "Epoch 53/100\n",
            "2/2 [==============================] - 0s 8ms/step - loss: 14.2726 - mse: 298.5859\n",
            "Epoch 54/100\n",
            "2/2 [==============================] - 0s 8ms/step - loss: 23.5940 - mse: 838.1359\n",
            "Epoch 55/100\n",
            "2/2 [==============================] - 0s 8ms/step - loss: 24.5161 - mse: 907.1844\n",
            "Epoch 56/100\n",
            "2/2 [==============================] - 0s 11ms/step - loss: 11.3221 - mse: 171.8022\n",
            "Epoch 57/100\n",
            "2/2 [==============================] - 0s 7ms/step - loss: 13.3299 - mse: 223.6675\n",
            "Epoch 58/100\n",
            "2/2 [==============================] - 0s 16ms/step - loss: 9.9323 - mse: 109.0347\n",
            "Epoch 59/100\n",
            "2/2 [==============================] - 0s 13ms/step - loss: 13.8673 - mse: 273.0290\n",
            "Epoch 60/100\n",
            "2/2 [==============================] - 0s 14ms/step - loss: 9.9734 - mse: 118.7352\n",
            "Epoch 61/100\n",
            "2/2 [==============================] - 0s 8ms/step - loss: 14.9191 - mse: 305.5202\n",
            "Epoch 62/100\n",
            "2/2 [==============================] - 0s 7ms/step - loss: 11.8947 - mse: 194.5219\n",
            "Epoch 63/100\n",
            "2/2 [==============================] - 0s 7ms/step - loss: 10.2717 - mse: 133.3051\n",
            "Epoch 64/100\n",
            "2/2 [==============================] - 0s 8ms/step - loss: 23.7826 - mse: 830.8905\n",
            "Epoch 65/100\n",
            "2/2 [==============================] - 0s 8ms/step - loss: 10.4463 - mse: 129.0625\n",
            "Epoch 66/100\n",
            "2/2 [==============================] - 0s 19ms/step - loss: 20.8372 - mse: 637.8981\n",
            "Epoch 67/100\n",
            "2/2 [==============================] - 0s 11ms/step - loss: 10.4163 - mse: 125.4315\n",
            "Epoch 68/100\n",
            "2/2 [==============================] - 0s 13ms/step - loss: 14.1065 - mse: 299.4368\n",
            "Epoch 69/100\n",
            "2/2 [==============================] - 0s 13ms/step - loss: 10.4785 - mse: 124.8814\n",
            "Epoch 70/100\n",
            "2/2 [==============================] - 0s 33ms/step - loss: 12.5439 - mse: 199.4194\n",
            "Epoch 71/100\n",
            "2/2 [==============================] - 0s 12ms/step - loss: 12.9722 - mse: 223.6020\n",
            "Epoch 72/100\n",
            "2/2 [==============================] - 0s 11ms/step - loss: 19.2507 - mse: 525.6955\n",
            "Epoch 73/100\n",
            "2/2 [==============================] - 0s 13ms/step - loss: 11.1044 - mse: 194.2537\n",
            "Epoch 74/100\n",
            "2/2 [==============================] - 0s 11ms/step - loss: 21.3178 - mse: 708.6754\n",
            "Epoch 75/100\n",
            "2/2 [==============================] - 0s 10ms/step - loss: 9.4256 - mse: 152.3607\n",
            "Epoch 76/100\n",
            "2/2 [==============================] - 0s 11ms/step - loss: 12.2410 - mse: 181.5548\n",
            "Epoch 77/100\n",
            "2/2 [==============================] - 0s 13ms/step - loss: 16.2209 - mse: 404.6110\n",
            "Epoch 78/100\n",
            "2/2 [==============================] - 0s 10ms/step - loss: 8.9974 - mse: 91.1397\n",
            "Epoch 79/100\n",
            "2/2 [==============================] - 0s 17ms/step - loss: 23.4410 - mse: 821.7880\n",
            "Epoch 80/100\n",
            "2/2 [==============================] - 0s 8ms/step - loss: 26.1109 - mse: 1047.4932\n",
            "Epoch 81/100\n",
            "2/2 [==============================] - 0s 6ms/step - loss: 11.3722 - mse: 158.0449\n",
            "Epoch 82/100\n",
            "2/2 [==============================] - 0s 21ms/step - loss: 12.4874 - mse: 227.3429\n",
            "Epoch 83/100\n",
            "2/2 [==============================] - 0s 15ms/step - loss: 17.1698 - mse: 383.5986\n",
            "Epoch 84/100\n",
            "2/2 [==============================] - 0s 14ms/step - loss: 6.5741 - mse: 64.1177\n",
            "Epoch 85/100\n",
            "2/2 [==============================] - 0s 12ms/step - loss: 20.3093 - mse: 576.8584\n",
            "Epoch 86/100\n",
            "2/2 [==============================] - 0s 12ms/step - loss: 10.1533 - mse: 115.6714\n",
            "Epoch 87/100\n",
            "2/2 [==============================] - 0s 10ms/step - loss: 24.3624 - mse: 830.5215\n",
            "Epoch 88/100\n",
            "2/2 [==============================] - 0s 12ms/step - loss: 19.0264 - mse: 514.0664\n",
            "Epoch 89/100\n",
            "2/2 [==============================] - 0s 33ms/step - loss: 7.1472 - mse: 69.8067\n",
            "Epoch 90/100\n",
            "2/2 [==============================] - 0s 13ms/step - loss: 18.2403 - mse: 493.7748\n",
            "Epoch 91/100\n",
            "2/2 [==============================] - 0s 10ms/step - loss: 13.2888 - mse: 255.3294\n",
            "Epoch 92/100\n",
            "2/2 [==============================] - 0s 8ms/step - loss: 14.8321 - mse: 310.1333\n",
            "Epoch 93/100\n",
            "2/2 [==============================] - 0s 8ms/step - loss: 11.6264 - mse: 250.2971\n",
            "Epoch 94/100\n",
            "2/2 [==============================] - 0s 18ms/step - loss: 16.1839 - mse: 370.1583\n",
            "Epoch 95/100\n",
            "2/2 [==============================] - 0s 9ms/step - loss: 15.5253 - mse: 321.1127\n",
            "Epoch 96/100\n",
            "2/2 [==============================] - 0s 9ms/step - loss: 15.0572 - mse: 323.4659\n",
            "Epoch 97/100\n",
            "2/2 [==============================] - 0s 10ms/step - loss: 10.8852 - mse: 187.9957\n",
            "Epoch 98/100\n",
            "2/2 [==============================] - 0s 9ms/step - loss: 14.3452 - mse: 285.7897\n",
            "Epoch 99/100\n",
            "2/2 [==============================] - 0s 16ms/step - loss: 13.3662 - mse: 251.2181\n",
            "Epoch 100/100\n",
            "2/2 [==============================] - 0s 8ms/step - loss: 19.9770 - mse: 583.5179\n"
          ]
        },
        {
          "output_type": "execute_result",
          "data": {
            "text/plain": [
              "<keras.src.callbacks.History at 0x7be8f4c30ee0>"
            ]
          },
          "metadata": {},
          "execution_count": 44
        }
      ]
    },
    {
      "cell_type": "code",
      "source": [
        "# Make and plot predictions of model_2\n",
        "y_preds_2 = model_2.predict(X_test)\n",
        "plot_predictions(predictions=y_preds_2)"
      ],
      "metadata": {
        "colab": {
          "base_uri": "https://localhost:8080/",
          "height": 654
        },
        "id": "Gl9AQlrsQYAR",
        "outputId": "14e58e72-fbf8-41ae-9f68-71dd697d579d"
      },
      "execution_count": 45,
      "outputs": [
        {
          "output_type": "stream",
          "name": "stderr",
          "text": [
            "WARNING:tensorflow:5 out of the last 5 calls to <function Model.make_predict_function.<locals>.predict_function at 0x7be8f56f32e0> triggered tf.function retracing. Tracing is expensive and the excessive number of tracings could be due to (1) creating @tf.function repeatedly in a loop, (2) passing tensors with different shapes, (3) passing Python objects instead of tensors. For (1), please define your @tf.function outside of the loop. For (2), @tf.function has reduce_retracing=True option that can avoid unnecessary retracing. For (3), please refer to https://www.tensorflow.org/guide/function#controlling_retracing and https://www.tensorflow.org/api_docs/python/tf/function for  more details.\n"
          ]
        },
        {
          "output_type": "stream",
          "name": "stdout",
          "text": [
            "1/1 [==============================] - 0s 89ms/step\n"
          ]
        },
        {
          "output_type": "display_data",
          "data": {
            "text/plain": [
              "<Figure size 1000x700 with 1 Axes>"
            ],
            "image/png": "[encoded data removed]"
          },
          "metadata": {}
        }
      ]
    },
    {
      "cell_type": "code",
      "source": [
        "# Calculate model_2 evaluation metrics\n",
        "mae_2 = mae(y_test, y_preds_2)\n",
        "mse_2 = mse(y_test, y_preds_2)\n",
        "\n",
        "mae_2, mse_2"
      ],
      "metadata": {
        "colab": {
          "base_uri": "https://localhost:8080/"
        },
        "id": "YmhS5Y6WQyi6",
        "outputId": "ba740e26-baa1-4c57-e644-c917eb6e6349"
      },
      "execution_count": 46,
      "outputs": [
        {
          "output_type": "execute_result",
          "data": {
            "text/plain": [
              "(<tf.Tensor: shape=(), dtype=float32, numpy=29.8175>,\n",
              " <tf.Tensor: shape=(), dtype=float32, numpy=920.334>)"
            ]
          },
          "metadata": {},
          "execution_count": 46
        }
      ]
    },
    {
      "cell_type": "markdown",
      "source": [
        "## Build `model_3`\n",
        "* 2 Layers, trained for 500 epochs"
      ],
      "metadata": {
        "id": "Jl7bhbYZQ_tF"
      }
    },
    {
      "cell_type": "code",
      "source": [
        "# Set random seed\n",
        "tf.random.set_seed(42)\n",
        "\n",
        "# 1. Create the model\n",
        "model_3 = tf.keras.Sequential([\n",
        "    tf.keras.layers.Dense(10),\n",
        "    tf.keras.layers.Dense(1)\n",
        "])\n",
        "\n",
        "# 2. Compile the model\n",
        "model_3.compile(loss=tf.keras.losses.mae,\n",
        "                optimizer=tf.keras.optimizers.SGD(),\n",
        "                metrics=[\"mae\"])\n",
        "\n",
        "# 3. Fit the model\n",
        "model_3.fit(tf.expand_dims(X_train, axis=-1), y_train, epochs=500)"
      ],
      "metadata": {
        "id": "ZSvY5wxYQ-68",
        "colab": {
          "base_uri": "https://localhost:8080/"
        },
        "outputId": "624b067c-aad5-47cf-e47a-ddad5324c23f"
      },
      "execution_count": 47,
      "outputs": [
        {
          "output_type": "stream",
          "name": "stdout",
          "text": [
            "Epoch 1/500\n",
            "2/2 [==============================] - 1s 17ms/step - loss: 22.2628 - mae: 22.2628\n",
            "Epoch 2/500\n",
            "2/2 [==============================] - 0s 7ms/step - loss: 23.0472 - mae: 23.0472\n",
            "Epoch 3/500\n",
            "2/2 [==============================] - 0s 6ms/step - loss: 28.2601 - mae: 28.2601\n",
            "Epoch 4/500\n",
            "2/2 [==============================] - 0s 9ms/step - loss: 13.9571 - mae: 13.9571\n",
            "Epoch 5/500\n",
            "2/2 [==============================] - 0s 12ms/step - loss: 19.0329 - mae: 19.0329\n",
            "Epoch 6/500\n",
            "2/2 [==============================] - 0s 8ms/step - loss: 9.5229 - mae: 9.5229\n",
            "Epoch 7/500\n",
            "2/2 [==============================] - 0s 8ms/step - loss: 10.4942 - mae: 10.4942\n",
            "Epoch 8/500\n",
            "2/2 [==============================] - 0s 9ms/step - loss: 12.1116 - mae: 12.1116\n",
            "Epoch 9/500\n",
            "2/2 [==============================] - 0s 8ms/step - loss: 38.0811 - mae: 38.0811\n",
            "Epoch 10/500\n",
            "2/2 [==============================] - 0s 8ms/step - loss: 25.6573 - mae: 25.6573\n",
            "Epoch 11/500\n",
            "2/2 [==============================] - 0s 7ms/step - loss: 10.2451 - mae: 10.2451\n",
            "Epoch 12/500\n",
            "2/2 [==============================] - 0s 10ms/step - loss: 25.2654 - mae: 25.2654\n",
            "Epoch 13/500\n",
            "2/2 [==============================] - 0s 8ms/step - loss: 17.0569 - mae: 17.0569\n",
            "Epoch 14/500\n",
            "2/2 [==============================] - 0s 8ms/step - loss: 26.0525 - mae: 26.0525\n",
            "Epoch 15/500\n",
            "2/2 [==============================] - 0s 7ms/step - loss: 18.1000 - mae: 18.1000\n",
            "Epoch 16/500\n",
            "2/2 [==============================] - 0s 8ms/step - loss: 7.8544 - mae: 7.8544\n",
            "Epoch 17/500\n",
            "2/2 [==============================] - 0s 7ms/step - loss: 22.2167 - mae: 22.2167\n",
            "Epoch 18/500\n",
            "2/2 [==============================] - 0s 7ms/step - loss: 10.8206 - mae: 10.8206\n",
            "Epoch 19/500\n",
            "2/2 [==============================] - 0s 8ms/step - loss: 10.7096 - mae: 10.7096\n",
            "Epoch 20/500\n",
            "2/2 [==============================] - 0s 7ms/step - loss: 12.0328 - mae: 12.0328\n",
            "Epoch 21/500\n",
            "2/2 [==============================] - 0s 7ms/step - loss: 20.1447 - mae: 20.1447\n",
            "Epoch 22/500\n",
            "2/2 [==============================] - 0s 7ms/step - loss: 13.7803 - mae: 13.7803\n",
            "Epoch 23/500\n",
            "2/2 [==============================] - 0s 7ms/step - loss: 9.5314 - mae: 9.5314\n",
            "Epoch 24/500\n",
            "2/2 [==============================] - 0s 7ms/step - loss: 11.8883 - mae: 11.8883\n",
            "Epoch 25/500\n",
            "2/2 [==============================] - 0s 7ms/step - loss: 16.2089 - mae: 16.2089\n",
            "Epoch 26/500\n",
            "2/2 [==============================] - 0s 7ms/step - loss: 16.3995 - mae: 16.3995\n",
            "Epoch 27/500\n",
            "2/2 [==============================] - 0s 7ms/step - loss: 11.5815 - mae: 11.5815\n",
            "Epoch 28/500\n",
            "2/2 [==============================] - 0s 7ms/step - loss: 29.9953 - mae: 29.9953\n",
            "Epoch 29/500\n",
            "2/2 [==============================] - 0s 15ms/step - loss: 9.2460 - mae: 9.2460\n",
            "Epoch 30/500\n",
            "2/2 [==============================] - 0s 11ms/step - loss: 30.5432 - mae: 30.5432\n",
            "Epoch 31/500\n",
            "2/2 [==============================] - 0s 8ms/step - loss: 55.5235 - mae: 55.5235\n",
            "Epoch 32/500\n",
            "2/2 [==============================] - 0s 11ms/step - loss: 9.7254 - mae: 9.7254\n",
            "Epoch 33/500\n",
            "2/2 [==============================] - 0s 23ms/step - loss: 12.3448 - mae: 12.3448\n",
            "Epoch 34/500\n",
            "2/2 [==============================] - 0s 15ms/step - loss: 24.7199 - mae: 24.7199\n",
            "Epoch 35/500\n",
            "2/2 [==============================] - 0s 8ms/step - loss: 11.9115 - mae: 11.9115\n",
            "Epoch 36/500\n",
            "2/2 [==============================] - 0s 9ms/step - loss: 22.0906 - mae: 22.0906\n",
            "Epoch 37/500\n",
            "2/2 [==============================] - 0s 18ms/step - loss: 17.5759 - mae: 17.5759\n",
            "Epoch 38/500\n",
            "2/2 [==============================] - 0s 7ms/step - loss: 10.7305 - mae: 10.7305\n",
            "Epoch 39/500\n",
            "2/2 [==============================] - 0s 8ms/step - loss: 11.2488 - mae: 11.2488\n",
            "Epoch 40/500\n",
            "2/2 [==============================] - 0s 7ms/step - loss: 18.2550 - mae: 18.2550\n",
            "Epoch 41/500\n",
            "2/2 [==============================] - 0s 10ms/step - loss: 10.5039 - mae: 10.5039\n",
            "Epoch 42/500\n",
            "2/2 [==============================] - 0s 8ms/step - loss: 7.8388 - mae: 7.8388\n",
            "Epoch 43/500\n",
            "2/2 [==============================] - 0s 7ms/step - loss: 14.2320 - mae: 14.2320\n",
            "Epoch 44/500\n",
            "2/2 [==============================] - 0s 7ms/step - loss: 25.0296 - mae: 25.0296\n",
            "Epoch 45/500\n",
            "2/2 [==============================] - 0s 11ms/step - loss: 10.9671 - mae: 10.9671\n",
            "Epoch 46/500\n",
            "2/2 [==============================] - 0s 7ms/step - loss: 13.0876 - mae: 13.0876\n",
            "Epoch 47/500\n",
            "2/2 [==============================] - 0s 7ms/step - loss: 10.4163 - mae: 10.4163\n",
            "Epoch 48/500\n",
            "2/2 [==============================] - 0s 7ms/step - loss: 17.1184 - mae: 17.1184\n",
            "Epoch 49/500\n",
            "2/2 [==============================] - 0s 7ms/step - loss: 9.6421 - mae: 9.6421\n",
            "Epoch 50/500\n",
            "2/2 [==============================] - 0s 7ms/step - loss: 13.9475 - mae: 13.9475\n",
            "Epoch 51/500\n",
            "2/2 [==============================] - 0s 7ms/step - loss: 11.6413 - mae: 11.6413\n",
            "Epoch 52/500\n",
            "2/2 [==============================] - 0s 7ms/step - loss: 30.9065 - mae: 30.9065\n",
            "Epoch 53/500\n",
            "2/2 [==============================] - 0s 33ms/step - loss: 14.5052 - mae: 14.5052\n",
            "Epoch 54/500\n",
            "2/2 [==============================] - 0s 11ms/step - loss: 24.2426 - mae: 24.2426\n",
            "Epoch 55/500\n",
            "2/2 [==============================] - 0s 12ms/step - loss: 23.4883 - mae: 23.4883\n",
            "Epoch 56/500\n",
            "2/2 [==============================] - 0s 12ms/step - loss: 10.9721 - mae: 10.9721\n",
            "Epoch 57/500\n",
            "2/2 [==============================] - 0s 20ms/step - loss: 12.8689 - mae: 12.8689\n",
            "Epoch 58/500\n",
            "2/2 [==============================] - 0s 11ms/step - loss: 9.6679 - mae: 9.6679\n",
            "Epoch 59/500\n",
            "2/2 [==============================] - 0s 11ms/step - loss: 13.0427 - mae: 13.0427\n",
            "Epoch 60/500\n",
            "2/2 [==============================] - 0s 10ms/step - loss: 10.7096 - mae: 10.7096\n",
            "Epoch 61/500\n",
            "2/2 [==============================] - 0s 9ms/step - loss: 13.2538 - mae: 13.2538\n",
            "Epoch 62/500\n",
            "2/2 [==============================] - 0s 9ms/step - loss: 17.1120 - mae: 17.1120\n",
            "Epoch 63/500\n",
            "2/2 [==============================] - 0s 8ms/step - loss: 9.0582 - mae: 9.0582\n",
            "Epoch 64/500\n",
            "2/2 [==============================] - 0s 8ms/step - loss: 17.7561 - mae: 17.7561\n",
            "Epoch 65/500\n",
            "2/2 [==============================] - 0s 7ms/step - loss: 10.5336 - mae: 10.5336\n",
            "Epoch 66/500\n",
            "2/2 [==============================] - 0s 7ms/step - loss: 21.2544 - mae: 21.2544\n",
            "Epoch 67/500\n",
            "2/2 [==============================] - 0s 7ms/step - loss: 10.5351 - mae: 10.5351\n",
            "Epoch 68/500\n",
            "2/2 [==============================] - 0s 7ms/step - loss: 14.6994 - mae: 14.6994\n",
            "Epoch 69/500\n",
            "2/2 [==============================] - 0s 7ms/step - loss: 10.6715 - mae: 10.6715\n",
            "Epoch 70/500\n",
            "2/2 [==============================] - 0s 8ms/step - loss: 12.7639 - mae: 12.7639\n",
            "Epoch 71/500\n",
            "2/2 [==============================] - 0s 7ms/step - loss: 13.1927 - mae: 13.1927\n",
            "Epoch 72/500\n",
            "2/2 [==============================] - 0s 16ms/step - loss: 19.7794 - mae: 19.7794\n",
            "Epoch 73/500\n",
            "2/2 [==============================] - 0s 11ms/step - loss: 11.2343 - mae: 11.2343\n",
            "Epoch 74/500\n",
            "2/2 [==============================] - 0s 10ms/step - loss: 22.0899 - mae: 22.0899\n",
            "Epoch 75/500\n",
            "2/2 [==============================] - 0s 7ms/step - loss: 6.9315 - mae: 6.9315\n",
            "Epoch 76/500\n",
            "2/2 [==============================] - 0s 9ms/step - loss: 11.4260 - mae: 11.4260\n",
            "Epoch 77/500\n",
            "2/2 [==============================] - 0s 10ms/step - loss: 21.5800 - mae: 21.5800\n",
            "Epoch 78/500\n",
            "2/2 [==============================] - 0s 9ms/step - loss: 18.6034 - mae: 18.6034\n",
            "Epoch 79/500\n",
            "2/2 [==============================] - 0s 8ms/step - loss: 15.9261 - mae: 15.9261\n",
            "Epoch 80/500\n",
            "2/2 [==============================] - 0s 9ms/step - loss: 23.5493 - mae: 23.5493\n",
            "Epoch 81/500\n",
            "2/2 [==============================] - 0s 8ms/step - loss: 10.9504 - mae: 10.9504\n",
            "Epoch 82/500\n",
            "2/2 [==============================] - 0s 8ms/step - loss: 12.7297 - mae: 12.7297\n",
            "Epoch 83/500\n",
            "2/2 [==============================] - 0s 8ms/step - loss: 17.4950 - mae: 17.4950\n",
            "Epoch 84/500\n",
            "2/2 [==============================] - 0s 8ms/step - loss: 7.2844 - mae: 7.2844\n",
            "Epoch 85/500\n",
            "2/2 [==============================] - 0s 8ms/step - loss: 15.0219 - mae: 15.0219\n",
            "Epoch 86/500\n",
            "2/2 [==============================] - 0s 11ms/step - loss: 15.3324 - mae: 15.3324\n",
            "Epoch 87/500\n",
            "2/2 [==============================] - 0s 9ms/step - loss: 19.1979 - mae: 19.1979\n",
            "Epoch 88/500\n",
            "2/2 [==============================] - 0s 9ms/step - loss: 29.5907 - mae: 29.5907\n",
            "Epoch 89/500\n",
            "2/2 [==============================] - 0s 10ms/step - loss: 10.1484 - mae: 10.1484\n",
            "Epoch 90/500\n",
            "2/2 [==============================] - 0s 8ms/step - loss: 21.3324 - mae: 21.3324\n",
            "Epoch 91/500\n",
            "2/2 [==============================] - 0s 9ms/step - loss: 10.5331 - mae: 10.5331\n",
            "Epoch 92/500\n",
            "2/2 [==============================] - 0s 6ms/step - loss: 18.2254 - mae: 18.2254\n",
            "Epoch 93/500\n",
            "2/2 [==============================] - 0s 6ms/step - loss: 6.8162 - mae: 6.8162\n",
            "Epoch 94/500\n",
            "2/2 [==============================] - 0s 6ms/step - loss: 13.0202 - mae: 13.0202\n",
            "Epoch 95/500\n",
            "2/2 [==============================] - 0s 6ms/step - loss: 18.4139 - mae: 18.4139\n",
            "Epoch 96/500\n",
            "2/2 [==============================] - 0s 6ms/step - loss: 10.3576 - mae: 10.3576\n",
            "Epoch 97/500\n",
            "2/2 [==============================] - 0s 6ms/step - loss: 14.4294 - mae: 14.4294\n",
            "Epoch 98/500\n",
            "2/2 [==============================] - 0s 6ms/step - loss: 6.5791 - mae: 6.5791\n",
            "Epoch 99/500\n",
            "2/2 [==============================] - 0s 6ms/step - loss: 12.5968 - mae: 12.5968\n",
            "Epoch 100/500\n",
            "2/2 [==============================] - 0s 6ms/step - loss: 19.4100 - mae: 19.4100\n",
            "Epoch 101/500\n",
            "2/2 [==============================] - 0s 6ms/step - loss: 16.0649 - mae: 16.0649\n",
            "Epoch 102/500\n",
            "2/2 [==============================] - 0s 6ms/step - loss: 11.1825 - mae: 11.1825\n",
            "Epoch 103/500\n",
            "2/2 [==============================] - 0s 6ms/step - loss: 9.3188 - mae: 9.3188\n",
            "Epoch 104/500\n",
            "2/2 [==============================] - 0s 6ms/step - loss: 24.9523 - mae: 24.9523\n",
            "Epoch 105/500\n",
            "2/2 [==============================] - 0s 7ms/step - loss: 11.9772 - mae: 11.9772\n",
            "Epoch 106/500\n",
            "2/2 [==============================] - 0s 7ms/step - loss: 10.0798 - mae: 10.0798\n",
            "Epoch 107/500\n",
            "2/2 [==============================] - 0s 6ms/step - loss: 22.5157 - mae: 22.5157\n",
            "Epoch 108/500\n",
            "2/2 [==============================] - 0s 6ms/step - loss: 8.1244 - mae: 8.1244\n",
            "Epoch 109/500\n",
            "2/2 [==============================] - 0s 7ms/step - loss: 13.3325 - mae: 13.3325\n",
            "Epoch 110/500\n",
            "2/2 [==============================] - 0s 7ms/step - loss: 7.9851 - mae: 7.9851\n",
            "Epoch 111/500\n",
            "2/2 [==============================] - 0s 7ms/step - loss: 15.7557 - mae: 15.7557\n",
            "Epoch 112/500\n",
            "2/2 [==============================] - 0s 7ms/step - loss: 8.7482 - mae: 8.7482\n",
            "Epoch 113/500\n",
            "2/2 [==============================] - 0s 7ms/step - loss: 22.6744 - mae: 22.6744\n",
            "Epoch 114/500\n",
            "2/2 [==============================] - 0s 7ms/step - loss: 19.0245 - mae: 19.0245\n",
            "Epoch 115/500\n",
            "2/2 [==============================] - 0s 7ms/step - loss: 11.0891 - mae: 11.0891\n",
            "Epoch 116/500\n",
            "2/2 [==============================] - 0s 6ms/step - loss: 23.1227 - mae: 23.1227\n",
            "Epoch 117/500\n",
            "2/2 [==============================] - 0s 6ms/step - loss: 9.5724 - mae: 9.5724\n",
            "Epoch 118/500\n",
            "2/2 [==============================] - 0s 6ms/step - loss: 10.6351 - mae: 10.6351\n",
            "Epoch 119/500\n",
            "2/2 [==============================] - 0s 6ms/step - loss: 8.0432 - mae: 8.0432\n",
            "Epoch 120/500\n",
            "2/2 [==============================] - 0s 6ms/step - loss: 29.4281 - mae: 29.4281\n",
            "Epoch 121/500\n",
            "2/2 [==============================] - 0s 7ms/step - loss: 8.0797 - mae: 8.0797\n",
            "Epoch 122/500\n",
            "2/2 [==============================] - 0s 8ms/step - loss: 28.0901 - mae: 28.0901\n",
            "Epoch 123/500\n",
            "2/2 [==============================] - 0s 6ms/step - loss: 32.6302 - mae: 32.6302\n",
            "Epoch 124/500\n",
            "2/2 [==============================] - 0s 6ms/step - loss: 19.4302 - mae: 19.4302\n",
            "Epoch 125/500\n",
            "2/2 [==============================] - 0s 6ms/step - loss: 9.5491 - mae: 9.5491\n",
            "Epoch 126/500\n",
            "2/2 [==============================] - 0s 6ms/step - loss: 9.6181 - mae: 9.6181\n",
            "Epoch 127/500\n",
            "2/2 [==============================] - 0s 6ms/step - loss: 12.7649 - mae: 12.7649\n",
            "Epoch 128/500\n",
            "2/2 [==============================] - 0s 6ms/step - loss: 12.8534 - mae: 12.8534\n",
            "Epoch 129/500\n",
            "2/2 [==============================] - 0s 6ms/step - loss: 14.0008 - mae: 14.0008\n",
            "Epoch 130/500\n",
            "2/2 [==============================] - 0s 6ms/step - loss: 10.2551 - mae: 10.2551\n",
            "Epoch 131/500\n",
            "2/2 [==============================] - 0s 6ms/step - loss: 21.7908 - mae: 21.7908\n",
            "Epoch 132/500\n",
            "2/2 [==============================] - 0s 6ms/step - loss: 8.2991 - mae: 8.2991\n",
            "Epoch 133/500\n",
            "2/2 [==============================] - 0s 6ms/step - loss: 9.0788 - mae: 9.0788\n",
            "Epoch 134/500\n",
            "2/2 [==============================] - 0s 6ms/step - loss: 16.9667 - mae: 16.9667\n",
            "Epoch 135/500\n",
            "2/2 [==============================] - 0s 6ms/step - loss: 10.6786 - mae: 10.6786\n",
            "Epoch 136/500\n",
            "2/2 [==============================] - 0s 6ms/step - loss: 18.5714 - mae: 18.5714\n",
            "Epoch 137/500\n",
            "2/2 [==============================] - 0s 6ms/step - loss: 23.5855 - mae: 23.5855\n",
            "Epoch 138/500\n",
            "2/2 [==============================] - 0s 6ms/step - loss: 9.3124 - mae: 9.3124\n",
            "Epoch 139/500\n",
            "2/2 [==============================] - 0s 7ms/step - loss: 9.0327 - mae: 9.0327\n",
            "Epoch 140/500\n",
            "2/2 [==============================] - 0s 8ms/step - loss: 17.0321 - mae: 17.0321\n",
            "Epoch 141/500\n",
            "2/2 [==============================] - 0s 9ms/step - loss: 8.3240 - mae: 8.3240\n",
            "Epoch 142/500\n",
            "2/2 [==============================] - 0s 6ms/step - loss: 34.1459 - mae: 34.1459\n",
            "Epoch 143/500\n",
            "2/2 [==============================] - 0s 7ms/step - loss: 23.1822 - mae: 23.1822\n",
            "Epoch 144/500\n",
            "2/2 [==============================] - 0s 6ms/step - loss: 10.4750 - mae: 10.4750\n",
            "Epoch 145/500\n",
            "2/2 [==============================] - 0s 6ms/step - loss: 25.8745 - mae: 25.8745\n",
            "Epoch 146/500\n",
            "2/2 [==============================] - 0s 6ms/step - loss: 9.8666 - mae: 9.8666\n",
            "Epoch 147/500\n",
            "2/2 [==============================] - 0s 6ms/step - loss: 15.0207 - mae: 15.0207\n",
            "Epoch 148/500\n",
            "2/2 [==============================] - 0s 6ms/step - loss: 17.4627 - mae: 17.4627\n",
            "Epoch 149/500\n",
            "2/2 [==============================] - 0s 6ms/step - loss: 8.7723 - mae: 8.7723\n",
            "Epoch 150/500\n",
            "2/2 [==============================] - 0s 6ms/step - loss: 7.7364 - mae: 7.7364\n",
            "Epoch 151/500\n",
            "2/2 [==============================] - 0s 6ms/step - loss: 19.9018 - mae: 19.9018\n",
            "Epoch 152/500\n",
            "2/2 [==============================] - 0s 6ms/step - loss: 10.2448 - mae: 10.2448\n",
            "Epoch 153/500\n",
            "2/2 [==============================] - 0s 9ms/step - loss: 29.2827 - mae: 29.2827\n",
            "Epoch 154/500\n",
            "2/2 [==============================] - 0s 6ms/step - loss: 10.6327 - mae: 10.6327\n",
            "Epoch 155/500\n",
            "2/2 [==============================] - 0s 6ms/step - loss: 15.5241 - mae: 15.5241\n",
            "Epoch 156/500\n",
            "2/2 [==============================] - 0s 6ms/step - loss: 17.1688 - mae: 17.1688\n",
            "Epoch 157/500\n",
            "2/2 [==============================] - 0s 9ms/step - loss: 32.4282 - mae: 32.4282\n",
            "Epoch 158/500\n",
            "2/2 [==============================] - 0s 6ms/step - loss: 10.6025 - mae: 10.6025\n",
            "Epoch 159/500\n",
            "2/2 [==============================] - 0s 5ms/step - loss: 8.8656 - mae: 8.8656\n",
            "Epoch 160/500\n",
            "2/2 [==============================] - 0s 7ms/step - loss: 21.8450 - mae: 21.8450\n",
            "Epoch 161/500\n",
            "2/2 [==============================] - 0s 6ms/step - loss: 11.0797 - mae: 11.0797\n",
            "Epoch 162/500\n",
            "2/2 [==============================] - 0s 6ms/step - loss: 21.3829 - mae: 21.3829\n",
            "Epoch 163/500\n",
            "2/2 [==============================] - 0s 6ms/step - loss: 18.8614 - mae: 18.8614\n",
            "Epoch 164/500\n",
            "2/2 [==============================] - 0s 6ms/step - loss: 12.7033 - mae: 12.7033\n",
            "Epoch 165/500\n",
            "2/2 [==============================] - 0s 6ms/step - loss: 12.7255 - mae: 12.7255\n",
            "Epoch 166/500\n",
            "2/2 [==============================] - 0s 6ms/step - loss: 18.8989 - mae: 18.8989\n",
            "Epoch 167/500\n",
            "2/2 [==============================] - 0s 6ms/step - loss: 26.8280 - mae: 26.8280\n",
            "Epoch 168/500\n",
            "2/2 [==============================] - 0s 6ms/step - loss: 9.9788 - mae: 9.9788\n",
            "Epoch 169/500\n",
            "2/2 [==============================] - 0s 9ms/step - loss: 23.0875 - mae: 23.0875\n",
            "Epoch 170/500\n",
            "2/2 [==============================] - 0s 6ms/step - loss: 10.0773 - mae: 10.0773\n",
            "Epoch 171/500\n",
            "2/2 [==============================] - 0s 6ms/step - loss: 17.8287 - mae: 17.8287\n",
            "Epoch 172/500\n",
            "2/2 [==============================] - 0s 9ms/step - loss: 29.3669 - mae: 29.3669\n",
            "Epoch 173/500\n",
            "2/2 [==============================] - 0s 6ms/step - loss: 16.9536 - mae: 16.9536\n",
            "Epoch 174/500\n",
            "2/2 [==============================] - 0s 6ms/step - loss: 11.1759 - mae: 11.1759\n",
            "Epoch 175/500\n",
            "2/2 [==============================] - 0s 6ms/step - loss: 27.4500 - mae: 27.4500\n",
            "Epoch 176/500\n",
            "2/2 [==============================] - 0s 7ms/step - loss: 8.4359 - mae: 8.4359\n",
            "Epoch 177/500\n",
            "2/2 [==============================] - 0s 8ms/step - loss: 9.3911 - mae: 9.3911\n",
            "Epoch 178/500\n",
            "2/2 [==============================] - 0s 6ms/step - loss: 18.5722 - mae: 18.5722\n",
            "Epoch 179/500\n",
            "2/2 [==============================] - 0s 6ms/step - loss: 10.4124 - mae: 10.4124\n",
            "Epoch 180/500\n",
            "2/2 [==============================] - 0s 6ms/step - loss: 7.9929 - mae: 7.9929\n",
            "Epoch 181/500\n",
            "2/2 [==============================] - 0s 6ms/step - loss: 17.7531 - mae: 17.7531\n",
            "Epoch 182/500\n",
            "2/2 [==============================] - 0s 5ms/step - loss: 11.1883 - mae: 11.1883\n",
            "Epoch 183/500\n",
            "2/2 [==============================] - 0s 6ms/step - loss: 12.3897 - mae: 12.3897\n",
            "Epoch 184/500\n",
            "2/2 [==============================] - 0s 6ms/step - loss: 27.3496 - mae: 27.3496\n",
            "Epoch 185/500\n",
            "2/2 [==============================] - 0s 6ms/step - loss: 7.5664 - mae: 7.5664\n",
            "Epoch 186/500\n",
            "2/2 [==============================] - 0s 8ms/step - loss: 15.9547 - mae: 15.9547\n",
            "Epoch 187/500\n",
            "2/2 [==============================] - 0s 7ms/step - loss: 8.5934 - mae: 8.5934\n",
            "Epoch 188/500\n",
            "2/2 [==============================] - 0s 6ms/step - loss: 28.8507 - mae: 28.8507\n",
            "Epoch 189/500\n",
            "2/2 [==============================] - 0s 6ms/step - loss: 13.1528 - mae: 13.1528\n",
            "Epoch 190/500\n",
            "2/2 [==============================] - 0s 6ms/step - loss: 18.2930 - mae: 18.2930\n",
            "Epoch 191/500\n",
            "2/2 [==============================] - 0s 6ms/step - loss: 13.7179 - mae: 13.7179\n",
            "Epoch 192/500\n",
            "2/2 [==============================] - 0s 6ms/step - loss: 13.7110 - mae: 13.7110\n",
            "Epoch 193/500\n",
            "2/2 [==============================] - 0s 6ms/step - loss: 28.5656 - mae: 28.5656\n",
            "Epoch 194/500\n",
            "2/2 [==============================] - 0s 9ms/step - loss: 7.1104 - mae: 7.1104\n",
            "Epoch 195/500\n",
            "2/2 [==============================] - 0s 7ms/step - loss: 7.0726 - mae: 7.0726\n",
            "Epoch 196/500\n",
            "2/2 [==============================] - 0s 8ms/step - loss: 21.9894 - mae: 21.9894\n",
            "Epoch 197/500\n",
            "2/2 [==============================] - 0s 6ms/step - loss: 20.8840 - mae: 20.8840\n",
            "Epoch 198/500\n",
            "2/2 [==============================] - 0s 6ms/step - loss: 12.5009 - mae: 12.5009\n",
            "Epoch 199/500\n",
            "2/2 [==============================] - 0s 6ms/step - loss: 17.9432 - mae: 17.9432\n",
            "Epoch 200/500\n",
            "2/2 [==============================] - 0s 6ms/step - loss: 13.7818 - mae: 13.7818\n",
            "Epoch 201/500\n",
            "2/2 [==============================] - 0s 6ms/step - loss: 5.4892 - mae: 5.4892\n",
            "Epoch 202/500\n",
            "2/2 [==============================] - 0s 6ms/step - loss: 13.7279 - mae: 13.7279\n",
            "Epoch 203/500\n",
            "2/2 [==============================] - 0s 6ms/step - loss: 9.4395 - mae: 9.4395\n",
            "Epoch 204/500\n",
            "2/2 [==============================] - 0s 6ms/step - loss: 20.9921 - mae: 20.9921\n",
            "Epoch 205/500\n",
            "2/2 [==============================] - 0s 6ms/step - loss: 9.5711 - mae: 9.5711\n",
            "Epoch 206/500\n",
            "2/2 [==============================] - 0s 6ms/step - loss: 11.7425 - mae: 11.7425\n",
            "Epoch 207/500\n",
            "2/2 [==============================] - 0s 6ms/step - loss: 14.3786 - mae: 14.3786\n",
            "Epoch 208/500\n",
            "2/2 [==============================] - 0s 6ms/step - loss: 14.8663 - mae: 14.8663\n",
            "Epoch 209/500\n",
            "2/2 [==============================] - 0s 9ms/step - loss: 14.9631 - mae: 14.9631\n",
            "Epoch 210/500\n",
            "2/2 [==============================] - 0s 7ms/step - loss: 17.8926 - mae: 17.8926\n",
            "Epoch 211/500\n",
            "2/2 [==============================] - 0s 6ms/step - loss: 9.8510 - mae: 9.8510\n",
            "Epoch 212/500\n",
            "2/2 [==============================] - 0s 8ms/step - loss: 18.3152 - mae: 18.3152\n",
            "Epoch 213/500\n",
            "2/2 [==============================] - 0s 6ms/step - loss: 15.0545 - mae: 15.0545\n",
            "Epoch 214/500\n",
            "2/2 [==============================] - 0s 6ms/step - loss: 14.5995 - mae: 14.5995\n",
            "Epoch 215/500\n",
            "2/2 [==============================] - 0s 6ms/step - loss: 23.3171 - mae: 23.3171\n",
            "Epoch 216/500\n",
            "2/2 [==============================] - 0s 6ms/step - loss: 13.3430 - mae: 13.3430\n",
            "Epoch 217/500\n",
            "2/2 [==============================] - 0s 9ms/step - loss: 9.8529 - mae: 9.8529\n",
            "Epoch 218/500\n",
            "2/2 [==============================] - 0s 9ms/step - loss: 12.5720 - mae: 12.5720\n",
            "Epoch 219/500\n",
            "2/2 [==============================] - 0s 8ms/step - loss: 4.9665 - mae: 4.9665\n",
            "Epoch 220/500\n",
            "2/2 [==============================] - 0s 6ms/step - loss: 7.1356 - mae: 7.1356\n",
            "Epoch 221/500\n",
            "2/2 [==============================] - 0s 8ms/step - loss: 35.3812 - mae: 35.3812\n",
            "Epoch 222/500\n",
            "2/2 [==============================] - 0s 8ms/step - loss: 34.7676 - mae: 34.7676\n",
            "Epoch 223/500\n",
            "2/2 [==============================] - 0s 8ms/step - loss: 8.0027 - mae: 8.0027\n",
            "Epoch 224/500\n",
            "2/2 [==============================] - 0s 6ms/step - loss: 14.7230 - mae: 14.7230\n",
            "Epoch 225/500\n",
            "2/2 [==============================] - 0s 5ms/step - loss: 16.7474 - mae: 16.7474\n",
            "Epoch 226/500\n",
            "2/2 [==============================] - 0s 5ms/step - loss: 15.9590 - mae: 15.9590\n",
            "Epoch 227/500\n",
            "2/2 [==============================] - 0s 5ms/step - loss: 16.1974 - mae: 16.1974\n",
            "Epoch 228/500\n",
            "2/2 [==============================] - 0s 7ms/step - loss: 9.3451 - mae: 9.3451\n",
            "Epoch 229/500\n",
            "2/2 [==============================] - 0s 6ms/step - loss: 18.0155 - mae: 18.0155\n",
            "Epoch 230/500\n",
            "2/2 [==============================] - 0s 8ms/step - loss: 15.5901 - mae: 15.5901\n",
            "Epoch 231/500\n",
            "2/2 [==============================] - 0s 6ms/step - loss: 21.1469 - mae: 21.1469\n",
            "Epoch 232/500\n",
            "2/2 [==============================] - 0s 6ms/step - loss: 25.4175 - mae: 25.4175\n",
            "Epoch 233/500\n",
            "2/2 [==============================] - 0s 7ms/step - loss: 16.4329 - mae: 16.4329\n",
            "Epoch 234/500\n",
            "2/2 [==============================] - 0s 7ms/step - loss: 7.3164 - mae: 7.3164\n",
            "Epoch 235/500\n",
            "2/2 [==============================] - 0s 7ms/step - loss: 17.0810 - mae: 17.0810\n",
            "Epoch 236/500\n",
            "2/2 [==============================] - 0s 6ms/step - loss: 7.1752 - mae: 7.1752\n",
            "Epoch 237/500\n",
            "2/2 [==============================] - 0s 5ms/step - loss: 9.2709 - mae: 9.2709\n",
            "Epoch 238/500\n",
            "2/2 [==============================] - 0s 7ms/step - loss: 8.1388 - mae: 8.1388\n",
            "Epoch 239/500\n",
            "2/2 [==============================] - 0s 10ms/step - loss: 17.1448 - mae: 17.1448\n",
            "Epoch 240/500\n",
            "2/2 [==============================] - 0s 6ms/step - loss: 8.9141 - mae: 8.9141\n",
            "Epoch 241/500\n",
            "2/2 [==============================] - 0s 6ms/step - loss: 13.2412 - mae: 13.2412\n",
            "Epoch 242/500\n",
            "2/2 [==============================] - 0s 9ms/step - loss: 8.8296 - mae: 8.8296\n",
            "Epoch 243/500\n",
            "2/2 [==============================] - 0s 8ms/step - loss: 18.9074 - mae: 18.9074\n",
            "Epoch 244/500\n",
            "2/2 [==============================] - 0s 6ms/step - loss: 14.0346 - mae: 14.0346\n",
            "Epoch 245/500\n",
            "2/2 [==============================] - 0s 5ms/step - loss: 14.6660 - mae: 14.6660\n",
            "Epoch 246/500\n",
            "2/2 [==============================] - 0s 7ms/step - loss: 15.7930 - mae: 15.7930\n",
            "Epoch 247/500\n",
            "2/2 [==============================] - 0s 8ms/step - loss: 17.6651 - mae: 17.6651\n",
            "Epoch 248/500\n",
            "2/2 [==============================] - 0s 6ms/step - loss: 13.2221 - mae: 13.2221\n",
            "Epoch 249/500\n",
            "2/2 [==============================] - 0s 8ms/step - loss: 14.5017 - mae: 14.5017\n",
            "Epoch 250/500\n",
            "2/2 [==============================] - 0s 8ms/step - loss: 23.2154 - mae: 23.2154\n",
            "Epoch 251/500\n",
            "2/2 [==============================] - 0s 7ms/step - loss: 9.3248 - mae: 9.3248\n",
            "Epoch 252/500\n",
            "2/2 [==============================] - 0s 7ms/step - loss: 36.7188 - mae: 36.7188\n",
            "Epoch 253/500\n",
            "2/2 [==============================] - 0s 8ms/step - loss: 21.8722 - mae: 21.8722\n",
            "Epoch 254/500\n",
            "2/2 [==============================] - 0s 6ms/step - loss: 7.3009 - mae: 7.3009\n",
            "Epoch 255/500\n",
            "2/2 [==============================] - 0s 7ms/step - loss: 24.7566 - mae: 24.7566\n",
            "Epoch 256/500\n",
            "2/2 [==============================] - 0s 7ms/step - loss: 12.4563 - mae: 12.4563\n",
            "Epoch 257/500\n",
            "2/2 [==============================] - 0s 8ms/step - loss: 10.6106 - mae: 10.6106\n",
            "Epoch 258/500\n",
            "2/2 [==============================] - 0s 7ms/step - loss: 14.5116 - mae: 14.5116\n",
            "Epoch 259/500\n",
            "2/2 [==============================] - 0s 6ms/step - loss: 8.6325 - mae: 8.6325\n",
            "Epoch 260/500\n",
            "2/2 [==============================] - 0s 6ms/step - loss: 43.0811 - mae: 43.0811\n",
            "Epoch 261/500\n",
            "2/2 [==============================] - 0s 7ms/step - loss: 18.4863 - mae: 18.4863\n",
            "Epoch 262/500\n",
            "2/2 [==============================] - 0s 6ms/step - loss: 6.8871 - mae: 6.8871\n",
            "Epoch 263/500\n",
            "2/2 [==============================] - 0s 7ms/step - loss: 13.7212 - mae: 13.7212\n",
            "Epoch 264/500\n",
            "2/2 [==============================] - 0s 6ms/step - loss: 21.0134 - mae: 21.0134\n",
            "Epoch 265/500\n",
            "2/2 [==============================] - 0s 6ms/step - loss: 19.3855 - mae: 19.3855\n",
            "Epoch 266/500\n",
            "2/2 [==============================] - 0s 6ms/step - loss: 11.4762 - mae: 11.4762\n",
            "Epoch 267/500\n",
            "2/2 [==============================] - 0s 6ms/step - loss: 7.5417 - mae: 7.5417\n",
            "Epoch 268/500\n",
            "2/2 [==============================] - 0s 6ms/step - loss: 21.6460 - mae: 21.6460\n",
            "Epoch 269/500\n",
            "2/2 [==============================] - 0s 9ms/step - loss: 33.1735 - mae: 33.1735\n",
            "Epoch 270/500\n",
            "2/2 [==============================] - 0s 8ms/step - loss: 10.0998 - mae: 10.0998\n",
            "Epoch 271/500\n",
            "2/2 [==============================] - 0s 7ms/step - loss: 12.1106 - mae: 12.1106\n",
            "Epoch 272/500\n",
            "2/2 [==============================] - 0s 6ms/step - loss: 26.1426 - mae: 26.1426\n",
            "Epoch 273/500\n",
            "2/2 [==============================] - 0s 7ms/step - loss: 12.1731 - mae: 12.1731\n",
            "Epoch 274/500\n",
            "2/2 [==============================] - 0s 7ms/step - loss: 13.3395 - mae: 13.3395\n",
            "Epoch 275/500\n",
            "2/2 [==============================] - 0s 7ms/step - loss: 29.3837 - mae: 29.3837\n",
            "Epoch 276/500\n",
            "2/2 [==============================] - 0s 8ms/step - loss: 7.3426 - mae: 7.3426\n",
            "Epoch 277/500\n",
            "2/2 [==============================] - 0s 9ms/step - loss: 31.1423 - mae: 31.1423\n",
            "Epoch 278/500\n",
            "2/2 [==============================] - 0s 8ms/step - loss: 12.3164 - mae: 12.3164\n",
            "Epoch 279/500\n",
            "2/2 [==============================] - 0s 6ms/step - loss: 16.4223 - mae: 16.4223\n",
            "Epoch 280/500\n",
            "2/2 [==============================] - 0s 6ms/step - loss: 21.9297 - mae: 21.9297\n",
            "Epoch 281/500\n",
            "2/2 [==============================] - 0s 6ms/step - loss: 22.1059 - mae: 22.1059\n",
            "Epoch 282/500\n",
            "2/2 [==============================] - 0s 8ms/step - loss: 7.7477 - mae: 7.7477\n",
            "Epoch 283/500\n",
            "2/2 [==============================] - 0s 6ms/step - loss: 8.1517 - mae: 8.1517\n",
            "Epoch 284/500\n",
            "2/2 [==============================] - 0s 6ms/step - loss: 24.8917 - mae: 24.8917\n",
            "Epoch 285/500\n",
            "2/2 [==============================] - 0s 6ms/step - loss: 13.6569 - mae: 13.6569\n",
            "Epoch 286/500\n",
            "2/2 [==============================] - 0s 5ms/step - loss: 7.7719 - mae: 7.7719\n",
            "Epoch 287/500\n",
            "2/2 [==============================] - 0s 5ms/step - loss: 23.3330 - mae: 23.3330\n",
            "Epoch 288/500\n",
            "2/2 [==============================] - 0s 7ms/step - loss: 23.7182 - mae: 23.7182\n",
            "Epoch 289/500\n",
            "2/2 [==============================] - 0s 6ms/step - loss: 11.9736 - mae: 11.9736\n",
            "Epoch 290/500\n",
            "2/2 [==============================] - 0s 5ms/step - loss: 16.5478 - mae: 16.5478\n",
            "Epoch 291/500\n",
            "2/2 [==============================] - 0s 8ms/step - loss: 16.8132 - mae: 16.8132\n",
            "Epoch 292/500\n",
            "2/2 [==============================] - 0s 5ms/step - loss: 9.4807 - mae: 9.4807\n",
            "Epoch 293/500\n",
            "2/2 [==============================] - 0s 5ms/step - loss: 15.2828 - mae: 15.2828\n",
            "Epoch 294/500\n",
            "2/2 [==============================] - 0s 5ms/step - loss: 22.7328 - mae: 22.7328\n",
            "Epoch 295/500\n",
            "2/2 [==============================] - 0s 5ms/step - loss: 17.8987 - mae: 17.8987\n",
            "Epoch 296/500\n",
            "2/2 [==============================] - 0s 5ms/step - loss: 6.1783 - mae: 6.1783\n",
            "Epoch 297/500\n",
            "2/2 [==============================] - 0s 5ms/step - loss: 10.9565 - mae: 10.9565\n",
            "Epoch 298/500\n",
            "2/2 [==============================] - 0s 5ms/step - loss: 23.1697 - mae: 23.1697\n",
            "Epoch 299/500\n",
            "2/2 [==============================] - 0s 5ms/step - loss: 17.6981 - mae: 17.6981\n",
            "Epoch 300/500\n",
            "2/2 [==============================] - 0s 5ms/step - loss: 6.9907 - mae: 6.9907\n",
            "Epoch 301/500\n",
            "2/2 [==============================] - 0s 5ms/step - loss: 25.1466 - mae: 25.1466\n",
            "Epoch 302/500\n",
            "2/2 [==============================] - 0s 7ms/step - loss: 8.8995 - mae: 8.8995\n",
            "Epoch 303/500\n",
            "2/2 [==============================] - 0s 5ms/step - loss: 17.7298 - mae: 17.7298\n",
            "Epoch 304/500\n",
            "2/2 [==============================] - 0s 6ms/step - loss: 10.9960 - mae: 10.9960\n",
            "Epoch 305/500\n",
            "2/2 [==============================] - 0s 6ms/step - loss: 12.8890 - mae: 12.8890\n",
            "Epoch 306/500\n",
            "2/2 [==============================] - 0s 6ms/step - loss: 8.4002 - mae: 8.4002\n",
            "Epoch 307/500\n",
            "2/2 [==============================] - 0s 5ms/step - loss: 13.3196 - mae: 13.3196\n",
            "Epoch 308/500\n",
            "2/2 [==============================] - 0s 5ms/step - loss: 8.2612 - mae: 8.2612\n",
            "Epoch 309/500\n",
            "2/2 [==============================] - 0s 6ms/step - loss: 12.2320 - mae: 12.2320\n",
            "Epoch 310/500\n",
            "2/2 [==============================] - 0s 6ms/step - loss: 4.4238 - mae: 4.4238\n",
            "Epoch 311/500\n",
            "2/2 [==============================] - 0s 5ms/step - loss: 12.0168 - mae: 12.0168\n",
            "Epoch 312/500\n",
            "2/2 [==============================] - 0s 6ms/step - loss: 29.3194 - mae: 29.3194\n",
            "Epoch 313/500\n",
            "2/2 [==============================] - 0s 6ms/step - loss: 8.8705 - mae: 8.8705\n",
            "Epoch 314/500\n",
            "2/2 [==============================] - 0s 6ms/step - loss: 6.5121 - mae: 6.5121\n",
            "Epoch 315/500\n",
            "2/2 [==============================] - 0s 5ms/step - loss: 23.9710 - mae: 23.9710\n",
            "Epoch 316/500\n",
            "2/2 [==============================] - 0s 5ms/step - loss: 16.1192 - mae: 16.1192\n",
            "Epoch 317/500\n",
            "2/2 [==============================] - 0s 6ms/step - loss: 20.5869 - mae: 20.5869\n",
            "Epoch 318/500\n",
            "2/2 [==============================] - 0s 6ms/step - loss: 8.6731 - mae: 8.6731\n",
            "Epoch 319/500\n",
            "2/2 [==============================] - 0s 7ms/step - loss: 15.2190 - mae: 15.2190\n",
            "Epoch 320/500\n",
            "2/2 [==============================] - 0s 5ms/step - loss: 8.3036 - mae: 8.3036\n",
            "Epoch 321/500\n",
            "2/2 [==============================] - 0s 6ms/step - loss: 14.6446 - mae: 14.6446\n",
            "Epoch 322/500\n",
            "2/2 [==============================] - 0s 5ms/step - loss: 12.8118 - mae: 12.8118\n",
            "Epoch 323/500\n",
            "2/2 [==============================] - 0s 5ms/step - loss: 19.0859 - mae: 19.0859\n",
            "Epoch 324/500\n",
            "2/2 [==============================] - 0s 5ms/step - loss: 17.0290 - mae: 17.0290\n",
            "Epoch 325/500\n",
            "2/2 [==============================] - 0s 5ms/step - loss: 9.2863 - mae: 9.2863\n",
            "Epoch 326/500\n",
            "2/2 [==============================] - 0s 5ms/step - loss: 19.9193 - mae: 19.9193\n",
            "Epoch 327/500\n",
            "2/2 [==============================] - 0s 5ms/step - loss: 28.1193 - mae: 28.1193\n",
            "Epoch 328/500\n",
            "2/2 [==============================] - 0s 6ms/step - loss: 11.7003 - mae: 11.7003\n",
            "Epoch 329/500\n",
            "2/2 [==============================] - 0s 5ms/step - loss: 16.3677 - mae: 16.3677\n",
            "Epoch 330/500\n",
            "2/2 [==============================] - 0s 5ms/step - loss: 7.2941 - mae: 7.2941\n",
            "Epoch 331/500\n",
            "2/2 [==============================] - 0s 6ms/step - loss: 22.6080 - mae: 22.6080\n",
            "Epoch 332/500\n",
            "2/2 [==============================] - 0s 8ms/step - loss: 13.3525 - mae: 13.3525\n",
            "Epoch 333/500\n",
            "2/2 [==============================] - 0s 8ms/step - loss: 10.1701 - mae: 10.1701\n",
            "Epoch 334/500\n",
            "2/2 [==============================] - 0s 8ms/step - loss: 6.6089 - mae: 6.6089\n",
            "Epoch 335/500\n",
            "2/2 [==============================] - 0s 10ms/step - loss: 6.2353 - mae: 6.2353\n",
            "Epoch 336/500\n",
            "2/2 [==============================] - 0s 7ms/step - loss: 34.6207 - mae: 34.6207\n",
            "Epoch 337/500\n",
            "2/2 [==============================] - 0s 8ms/step - loss: 27.0304 - mae: 27.0304\n",
            "Epoch 338/500\n",
            "2/2 [==============================] - 0s 7ms/step - loss: 14.0356 - mae: 14.0356\n",
            "Epoch 339/500\n",
            "2/2 [==============================] - 0s 6ms/step - loss: 11.5929 - mae: 11.5929\n",
            "Epoch 340/500\n",
            "2/2 [==============================] - 0s 10ms/step - loss: 8.7986 - mae: 8.7986\n",
            "Epoch 341/500\n",
            "2/2 [==============================] - 0s 8ms/step - loss: 23.4131 - mae: 23.4131\n",
            "Epoch 342/500\n",
            "2/2 [==============================] - 0s 7ms/step - loss: 13.9971 - mae: 13.9971\n",
            "Epoch 343/500\n",
            "2/2 [==============================] - 0s 5ms/step - loss: 14.7795 - mae: 14.7795\n",
            "Epoch 344/500\n",
            "2/2 [==============================] - 0s 5ms/step - loss: 13.3610 - mae: 13.3610\n",
            "Epoch 345/500\n",
            "2/2 [==============================] - 0s 5ms/step - loss: 30.9922 - mae: 30.9922\n",
            "Epoch 346/500\n",
            "2/2 [==============================] - 0s 8ms/step - loss: 10.6739 - mae: 10.6739\n",
            "Epoch 347/500\n",
            "2/2 [==============================] - 0s 6ms/step - loss: 25.6737 - mae: 25.6737\n",
            "Epoch 348/500\n",
            "2/2 [==============================] - 0s 6ms/step - loss: 13.0069 - mae: 13.0069\n",
            "Epoch 349/500\n",
            "2/2 [==============================] - 0s 6ms/step - loss: 13.1052 - mae: 13.1052\n",
            "Epoch 350/500\n",
            "2/2 [==============================] - 0s 7ms/step - loss: 15.4134 - mae: 15.4134\n",
            "Epoch 351/500\n",
            "2/2 [==============================] - 0s 8ms/step - loss: 32.9281 - mae: 32.9281\n",
            "Epoch 352/500\n",
            "2/2 [==============================] - 0s 7ms/step - loss: 14.1462 - mae: 14.1462\n",
            "Epoch 353/500\n",
            "2/2 [==============================] - 0s 5ms/step - loss: 15.8735 - mae: 15.8735\n",
            "Epoch 354/500\n",
            "2/2 [==============================] - 0s 6ms/step - loss: 18.9907 - mae: 18.9907\n",
            "Epoch 355/500\n",
            "2/2 [==============================] - 0s 7ms/step - loss: 34.3888 - mae: 34.3888\n",
            "Epoch 356/500\n",
            "2/2 [==============================] - 0s 6ms/step - loss: 8.2949 - mae: 8.2949\n",
            "Epoch 357/500\n",
            "2/2 [==============================] - 0s 5ms/step - loss: 21.8956 - mae: 21.8956\n",
            "Epoch 358/500\n",
            "2/2 [==============================] - 0s 6ms/step - loss: 20.0319 - mae: 20.0319\n",
            "Epoch 359/500\n",
            "2/2 [==============================] - 0s 5ms/step - loss: 11.0307 - mae: 11.0307\n",
            "Epoch 360/500\n",
            "2/2 [==============================] - 0s 5ms/step - loss: 20.2578 - mae: 20.2578\n",
            "Epoch 361/500\n",
            "2/2 [==============================] - 0s 5ms/step - loss: 11.0226 - mae: 11.0226\n",
            "Epoch 362/500\n",
            "2/2 [==============================] - 0s 5ms/step - loss: 6.7985 - mae: 6.7985\n",
            "Epoch 363/500\n",
            "2/2 [==============================] - 0s 6ms/step - loss: 24.0388 - mae: 24.0388\n",
            "Epoch 364/500\n",
            "2/2 [==============================] - 0s 5ms/step - loss: 29.8141 - mae: 29.8141\n",
            "Epoch 365/500\n",
            "2/2 [==============================] - 0s 7ms/step - loss: 8.3481 - mae: 8.3481\n",
            "Epoch 366/500\n",
            "2/2 [==============================] - 0s 6ms/step - loss: 6.0706 - mae: 6.0706\n",
            "Epoch 367/500\n",
            "2/2 [==============================] - 0s 5ms/step - loss: 35.0168 - mae: 35.0168\n",
            "Epoch 368/500\n",
            "2/2 [==============================] - 0s 6ms/step - loss: 7.4060 - mae: 7.4060\n",
            "Epoch 369/500\n",
            "2/2 [==============================] - 0s 6ms/step - loss: 9.2447 - mae: 9.2447\n",
            "Epoch 370/500\n",
            "2/2 [==============================] - 0s 5ms/step - loss: 10.9695 - mae: 10.9695\n",
            "Epoch 371/500\n",
            "2/2 [==============================] - 0s 5ms/step - loss: 9.0322 - mae: 9.0322\n",
            "Epoch 372/500\n",
            "2/2 [==============================] - 0s 5ms/step - loss: 6.9222 - mae: 6.9222\n",
            "Epoch 373/500\n",
            "2/2 [==============================] - 0s 6ms/step - loss: 25.9149 - mae: 25.9149\n",
            "Epoch 374/500\n",
            "2/2 [==============================] - 0s 5ms/step - loss: 11.0214 - mae: 11.0214\n",
            "Epoch 375/500\n",
            "2/2 [==============================] - 0s 5ms/step - loss: 10.7457 - mae: 10.7457\n",
            "Epoch 376/500\n",
            "2/2 [==============================] - 0s 5ms/step - loss: 13.5478 - mae: 13.5478\n",
            "Epoch 377/500\n",
            "2/2 [==============================] - 0s 5ms/step - loss: 15.2310 - mae: 15.2310\n",
            "Epoch 378/500\n",
            "2/2 [==============================] - 0s 5ms/step - loss: 16.3761 - mae: 16.3761\n",
            "Epoch 379/500\n",
            "2/2 [==============================] - 0s 5ms/step - loss: 21.0926 - mae: 21.0926\n",
            "Epoch 380/500\n",
            "2/2 [==============================] - 0s 6ms/step - loss: 32.7727 - mae: 32.7727\n",
            "Epoch 381/500\n",
            "2/2 [==============================] - 0s 6ms/step - loss: 7.9717 - mae: 7.9717\n",
            "Epoch 382/500\n",
            "2/2 [==============================] - 0s 5ms/step - loss: 12.5131 - mae: 12.5131\n",
            "Epoch 383/500\n",
            "2/2 [==============================] - 0s 9ms/step - loss: 7.2129 - mae: 7.2129\n",
            "Epoch 384/500\n",
            "2/2 [==============================] - 0s 5ms/step - loss: 6.4167 - mae: 6.4167\n",
            "Epoch 385/500\n",
            "2/2 [==============================] - 0s 6ms/step - loss: 11.5858 - mae: 11.5858\n",
            "Epoch 386/500\n",
            "2/2 [==============================] - 0s 5ms/step - loss: 19.9022 - mae: 19.9022\n",
            "Epoch 387/500\n",
            "2/2 [==============================] - 0s 6ms/step - loss: 24.5470 - mae: 24.5470\n",
            "Epoch 388/500\n",
            "2/2 [==============================] - 0s 6ms/step - loss: 8.5639 - mae: 8.5639\n",
            "Epoch 389/500\n",
            "2/2 [==============================] - 0s 5ms/step - loss: 5.8571 - mae: 5.8571\n",
            "Epoch 390/500\n",
            "2/2 [==============================] - 0s 6ms/step - loss: 24.1539 - mae: 24.1539\n",
            "Epoch 391/500\n",
            "2/2 [==============================] - 0s 6ms/step - loss: 5.8704 - mae: 5.8704\n",
            "Epoch 392/500\n",
            "2/2 [==============================] - 0s 5ms/step - loss: 15.9566 - mae: 15.9566\n",
            "Epoch 393/500\n",
            "2/2 [==============================] - 0s 6ms/step - loss: 6.3884 - mae: 6.3884\n",
            "Epoch 394/500\n",
            "2/2 [==============================] - 0s 6ms/step - loss: 12.4607 - mae: 12.4607\n",
            "Epoch 395/500\n",
            "2/2 [==============================] - 0s 6ms/step - loss: 12.3258 - mae: 12.3258\n",
            "Epoch 396/500\n",
            "2/2 [==============================] - 0s 5ms/step - loss: 7.2556 - mae: 7.2556\n",
            "Epoch 397/500\n",
            "2/2 [==============================] - 0s 6ms/step - loss: 7.5329 - mae: 7.5329\n",
            "Epoch 398/500\n",
            "2/2 [==============================] - 0s 5ms/step - loss: 20.3233 - mae: 20.3233\n",
            "Epoch 399/500\n",
            "2/2 [==============================] - 0s 6ms/step - loss: 5.8465 - mae: 5.8465\n",
            "Epoch 400/500\n",
            "2/2 [==============================] - 0s 5ms/step - loss: 24.6034 - mae: 24.6034\n",
            "Epoch 401/500\n",
            "2/2 [==============================] - 0s 5ms/step - loss: 13.2130 - mae: 13.2130\n",
            "Epoch 402/500\n",
            "2/2 [==============================] - 0s 5ms/step - loss: 8.2995 - mae: 8.2995\n",
            "Epoch 403/500\n",
            "2/2 [==============================] - 0s 5ms/step - loss: 10.2129 - mae: 10.2129\n",
            "Epoch 404/500\n",
            "2/2 [==============================] - 0s 9ms/step - loss: 10.0554 - mae: 10.0554\n",
            "Epoch 405/500\n",
            "2/2 [==============================] - 0s 11ms/step - loss: 6.2242 - mae: 6.2242\n",
            "Epoch 406/500\n",
            "2/2 [==============================] - 0s 10ms/step - loss: 19.4472 - mae: 19.4472\n",
            "Epoch 407/500\n",
            "2/2 [==============================] - 0s 5ms/step - loss: 10.2513 - mae: 10.2513\n",
            "Epoch 408/500\n",
            "2/2 [==============================] - 0s 6ms/step - loss: 20.8797 - mae: 20.8797\n",
            "Epoch 409/500\n",
            "2/2 [==============================] - 0s 5ms/step - loss: 30.8942 - mae: 30.8942\n",
            "Epoch 410/500\n",
            "2/2 [==============================] - 0s 9ms/step - loss: 9.3151 - mae: 9.3151\n",
            "Epoch 411/500\n",
            "2/2 [==============================] - 0s 6ms/step - loss: 14.9130 - mae: 14.9130\n",
            "Epoch 412/500\n",
            "2/2 [==============================] - 0s 5ms/step - loss: 21.8254 - mae: 21.8254\n",
            "Epoch 413/500\n",
            "2/2 [==============================] - 0s 6ms/step - loss: 12.4307 - mae: 12.4307\n",
            "Epoch 414/500\n",
            "2/2 [==============================] - 0s 6ms/step - loss: 6.5761 - mae: 6.5761\n",
            "Epoch 415/500\n",
            "2/2 [==============================] - 0s 6ms/step - loss: 12.8785 - mae: 12.8785\n",
            "Epoch 416/500\n",
            "2/2 [==============================] - 0s 6ms/step - loss: 26.7325 - mae: 26.7325\n",
            "Epoch 417/500\n",
            "2/2 [==============================] - 0s 6ms/step - loss: 12.7065 - mae: 12.7065\n",
            "Epoch 418/500\n",
            "2/2 [==============================] - 0s 7ms/step - loss: 13.6022 - mae: 13.6022\n",
            "Epoch 419/500\n",
            "2/2 [==============================] - 0s 7ms/step - loss: 16.1746 - mae: 16.1746\n",
            "Epoch 420/500\n",
            "2/2 [==============================] - 0s 10ms/step - loss: 25.3830 - mae: 25.3830\n",
            "Epoch 421/500\n",
            "2/2 [==============================] - 0s 5ms/step - loss: 15.8249 - mae: 15.8249\n",
            "Epoch 422/500\n",
            "2/2 [==============================] - 0s 8ms/step - loss: 9.3738 - mae: 9.3738\n",
            "Epoch 423/500\n",
            "2/2 [==============================] - 0s 7ms/step - loss: 24.4037 - mae: 24.4037\n",
            "Epoch 424/500\n",
            "2/2 [==============================] - 0s 5ms/step - loss: 17.4031 - mae: 17.4031\n",
            "Epoch 425/500\n",
            "2/2 [==============================] - 0s 6ms/step - loss: 8.0106 - mae: 8.0106\n",
            "Epoch 426/500\n",
            "2/2 [==============================] - 0s 5ms/step - loss: 17.7033 - mae: 17.7033\n",
            "Epoch 427/500\n",
            "2/2 [==============================] - 0s 7ms/step - loss: 7.2338 - mae: 7.2338\n",
            "Epoch 428/500\n",
            "2/2 [==============================] - 0s 7ms/step - loss: 17.0956 - mae: 17.0956\n",
            "Epoch 429/500\n",
            "2/2 [==============================] - 0s 6ms/step - loss: 21.7784 - mae: 21.7784\n",
            "Epoch 430/500\n",
            "2/2 [==============================] - 0s 6ms/step - loss: 15.6938 - mae: 15.6938\n",
            "Epoch 431/500\n",
            "2/2 [==============================] - 0s 6ms/step - loss: 9.9136 - mae: 9.9136\n",
            "Epoch 432/500\n",
            "2/2 [==============================] - 0s 5ms/step - loss: 13.2240 - mae: 13.2240\n",
            "Epoch 433/500\n",
            "2/2 [==============================] - 0s 6ms/step - loss: 11.3784 - mae: 11.3784\n",
            "Epoch 434/500\n",
            "2/2 [==============================] - 0s 5ms/step - loss: 30.4505 - mae: 30.4505\n",
            "Epoch 435/500\n",
            "2/2 [==============================] - 0s 5ms/step - loss: 10.4918 - mae: 10.4918\n",
            "Epoch 436/500\n",
            "2/2 [==============================] - 0s 5ms/step - loss: 28.9321 - mae: 28.9321\n",
            "Epoch 437/500\n",
            "2/2 [==============================] - 0s 6ms/step - loss: 8.6212 - mae: 8.6212\n",
            "Epoch 438/500\n",
            "2/2 [==============================] - 0s 6ms/step - loss: 12.7298 - mae: 12.7298\n",
            "Epoch 439/500\n",
            "2/2 [==============================] - 0s 6ms/step - loss: 33.7043 - mae: 33.7043\n",
            "Epoch 440/500\n",
            "2/2 [==============================] - 0s 6ms/step - loss: 15.1131 - mae: 15.1131\n",
            "Epoch 441/500\n",
            "2/2 [==============================] - 0s 5ms/step - loss: 17.4903 - mae: 17.4903\n",
            "Epoch 442/500\n",
            "2/2 [==============================] - 0s 6ms/step - loss: 22.3455 - mae: 22.3455\n",
            "Epoch 443/500\n",
            "2/2 [==============================] - 0s 5ms/step - loss: 23.4829 - mae: 23.4829\n",
            "Epoch 444/500\n",
            "2/2 [==============================] - 0s 5ms/step - loss: 10.9060 - mae: 10.9060\n",
            "Epoch 445/500\n",
            "2/2 [==============================] - 0s 5ms/step - loss: 14.9260 - mae: 14.9260\n",
            "Epoch 446/500\n",
            "2/2 [==============================] - 0s 5ms/step - loss: 18.0112 - mae: 18.0112\n",
            "Epoch 447/500\n",
            "2/2 [==============================] - 0s 7ms/step - loss: 5.3829 - mae: 5.3829\n",
            "Epoch 448/500\n",
            "2/2 [==============================] - 0s 5ms/step - loss: 10.0500 - mae: 10.0500\n",
            "Epoch 449/500\n",
            "2/2 [==============================] - 0s 6ms/step - loss: 14.0030 - mae: 14.0030\n",
            "Epoch 450/500\n",
            "2/2 [==============================] - 0s 5ms/step - loss: 16.7703 - mae: 16.7703\n",
            "Epoch 451/500\n",
            "2/2 [==============================] - 0s 5ms/step - loss: 14.2786 - mae: 14.2786\n",
            "Epoch 452/500\n",
            "2/2 [==============================] - 0s 6ms/step - loss: 30.6200 - mae: 30.6200\n",
            "Epoch 453/500\n",
            "2/2 [==============================] - 0s 9ms/step - loss: 7.6255 - mae: 7.6255\n",
            "Epoch 454/500\n",
            "2/2 [==============================] - 0s 8ms/step - loss: 28.1343 - mae: 28.1343\n",
            "Epoch 455/500\n",
            "2/2 [==============================] - 0s 8ms/step - loss: 8.2341 - mae: 8.2341\n",
            "Epoch 456/500\n",
            "2/2 [==============================] - 0s 8ms/step - loss: 12.0627 - mae: 12.0627\n",
            "Epoch 457/500\n",
            "2/2 [==============================] - 0s 6ms/step - loss: 15.4519 - mae: 15.4519\n",
            "Epoch 458/500\n",
            "2/2 [==============================] - 0s 6ms/step - loss: 17.0326 - mae: 17.0326\n",
            "Epoch 459/500\n",
            "2/2 [==============================] - 0s 6ms/step - loss: 15.2063 - mae: 15.2063\n",
            "Epoch 460/500\n",
            "2/2 [==============================] - 0s 5ms/step - loss: 7.4225 - mae: 7.4225\n",
            "Epoch 461/500\n",
            "2/2 [==============================] - 0s 6ms/step - loss: 15.7088 - mae: 15.7088\n",
            "Epoch 462/500\n",
            "2/2 [==============================] - 0s 7ms/step - loss: 15.1984 - mae: 15.1984\n",
            "Epoch 463/500\n",
            "2/2 [==============================] - 0s 6ms/step - loss: 16.8441 - mae: 16.8441\n",
            "Epoch 464/500\n",
            "2/2 [==============================] - 0s 5ms/step - loss: 11.2479 - mae: 11.2479\n",
            "Epoch 465/500\n",
            "2/2 [==============================] - 0s 9ms/step - loss: 21.5773 - mae: 21.5773\n",
            "Epoch 466/500\n",
            "2/2 [==============================] - 0s 8ms/step - loss: 24.9516 - mae: 24.9516\n",
            "Epoch 467/500\n",
            "2/2 [==============================] - 0s 7ms/step - loss: 14.7916 - mae: 14.7916\n",
            "Epoch 468/500\n",
            "2/2 [==============================] - 0s 8ms/step - loss: 10.3678 - mae: 10.3678\n",
            "Epoch 469/500\n",
            "2/2 [==============================] - 0s 8ms/step - loss: 27.3859 - mae: 27.3859\n",
            "Epoch 470/500\n",
            "2/2 [==============================] - 0s 7ms/step - loss: 12.3866 - mae: 12.3866\n",
            "Epoch 471/500\n",
            "2/2 [==============================] - 0s 9ms/step - loss: 12.0311 - mae: 12.0311\n",
            "Epoch 472/500\n",
            "2/2 [==============================] - 0s 6ms/step - loss: 15.5208 - mae: 15.5208\n",
            "Epoch 473/500\n",
            "2/2 [==============================] - 0s 5ms/step - loss: 15.5375 - mae: 15.5375\n",
            "Epoch 474/500\n",
            "2/2 [==============================] - 0s 6ms/step - loss: 20.1921 - mae: 20.1921\n",
            "Epoch 475/500\n",
            "2/2 [==============================] - 0s 6ms/step - loss: 5.0582 - mae: 5.0582\n",
            "Epoch 476/500\n",
            "2/2 [==============================] - 0s 6ms/step - loss: 13.3474 - mae: 13.3474\n",
            "Epoch 477/500\n",
            "2/2 [==============================] - 0s 6ms/step - loss: 29.5871 - mae: 29.5871\n",
            "Epoch 478/500\n",
            "2/2 [==============================] - 0s 6ms/step - loss: 3.2290 - mae: 3.2290\n",
            "Epoch 479/500\n",
            "2/2 [==============================] - 0s 6ms/step - loss: 16.4420 - mae: 16.4420\n",
            "Epoch 480/500\n",
            "2/2 [==============================] - 0s 6ms/step - loss: 3.3287 - mae: 3.3287\n",
            "Epoch 481/500\n",
            "2/2 [==============================] - 0s 9ms/step - loss: 15.8079 - mae: 15.8079\n",
            "Epoch 482/500\n",
            "2/2 [==============================] - 0s 7ms/step - loss: 21.2712 - mae: 21.2712\n",
            "Epoch 483/500\n",
            "2/2 [==============================] - 0s 5ms/step - loss: 25.6672 - mae: 25.6672\n",
            "Epoch 484/500\n",
            "2/2 [==============================] - 0s 8ms/step - loss: 24.2561 - mae: 24.2561\n",
            "Epoch 485/500\n",
            "2/2 [==============================] - 0s 5ms/step - loss: 5.7668 - mae: 5.7668\n",
            "Epoch 486/500\n",
            "2/2 [==============================] - 0s 5ms/step - loss: 20.3317 - mae: 20.3317\n",
            "Epoch 487/500\n",
            "2/2 [==============================] - 0s 5ms/step - loss: 14.0044 - mae: 14.0044\n",
            "Epoch 488/500\n",
            "2/2 [==============================] - 0s 8ms/step - loss: 30.5475 - mae: 30.5475\n",
            "Epoch 489/500\n",
            "2/2 [==============================] - 0s 8ms/step - loss: 11.8178 - mae: 11.8178\n",
            "Epoch 490/500\n",
            "2/2 [==============================] - 0s 7ms/step - loss: 12.4860 - mae: 12.4860\n",
            "Epoch 491/500\n",
            "2/2 [==============================] - 0s 6ms/step - loss: 23.7171 - mae: 23.7171\n",
            "Epoch 492/500\n",
            "2/2 [==============================] - 0s 6ms/step - loss: 20.2900 - mae: 20.2900\n",
            "Epoch 493/500\n",
            "2/2 [==============================] - 0s 7ms/step - loss: 4.8913 - mae: 4.8913\n",
            "Epoch 494/500\n",
            "2/2 [==============================] - 0s 5ms/step - loss: 12.5865 - mae: 12.5865\n",
            "Epoch 495/500\n",
            "2/2 [==============================] - 0s 6ms/step - loss: 13.4456 - mae: 13.4456\n",
            "Epoch 496/500\n",
            "2/2 [==============================] - 0s 5ms/step - loss: 12.7185 - mae: 12.7185\n",
            "Epoch 497/500\n",
            "2/2 [==============================] - 0s 5ms/step - loss: 17.6948 - mae: 17.6948\n",
            "Epoch 498/500\n",
            "2/2 [==============================] - 0s 5ms/step - loss: 23.3716 - mae: 23.3716\n",
            "Epoch 499/500\n",
            "2/2 [==============================] - 0s 5ms/step - loss: 9.2191 - mae: 9.2191\n",
            "Epoch 500/500\n",
            "2/2 [==============================] - 0s 5ms/step - loss: 14.6334 - mae: 14.6334\n"
          ]
        },
        {
          "output_type": "execute_result",
          "data": {
            "text/plain": [
              "<keras.src.callbacks.History at 0x7be8f4b06b30>"
            ]
          },
          "metadata": {},
          "execution_count": 47
        }
      ]
    },
    {
      "cell_type": "code",
      "source": [
        "# Make and plot predictions of model_2\n",
        "y_preds_3 = model_3.predict(X_test)\n",
        "plot_predictions(predictions=y_preds_3)"
      ],
      "metadata": {
        "colab": {
          "base_uri": "https://localhost:8080/",
          "height": 654
        },
        "id": "WmXfvsg4RTSk",
        "outputId": "1d7d38b0-d8ac-4221-c10d-d15dc0aa2ab7"
      },
      "execution_count": 48,
      "outputs": [
        {
          "output_type": "stream",
          "name": "stderr",
          "text": [
            "WARNING:tensorflow:6 out of the last 6 calls to <function Model.make_predict_function.<locals>.predict_function at 0x7be8f4b153f0> triggered tf.function retracing. Tracing is expensive and the excessive number of tracings could be due to (1) creating @tf.function repeatedly in a loop, (2) passing tensors with different shapes, (3) passing Python objects instead of tensors. For (1), please define your @tf.function outside of the loop. For (2), @tf.function has reduce_retracing=True option that can avoid unnecessary retracing. For (3), please refer to https://www.tensorflow.org/guide/function#controlling_retracing and https://www.tensorflow.org/api_docs/python/tf/function for  more details.\n"
          ]
        },
        {
          "output_type": "stream",
          "name": "stdout",
          "text": [
            "1/1 [==============================] - 0s 96ms/step\n"
          ]
        },
        {
          "output_type": "display_data",
          "data": {
            "text/plain": [
              "<Figure size 1000x700 with 1 Axes>"
            ],
            "image/png": "[encoded data removed]"
          },
          "metadata": {}
        }
      ]
    },
    {
      "cell_type": "code",
      "source": [
        "# Calculate model_2 evaluation metrics\n",
        "mae_3 = mae(y_test, y_preds_3)\n",
        "mse_3 = mse(y_test, y_preds_3)\n",
        "\n",
        "mae_3, mse_3"
      ],
      "metadata": {
        "colab": {
          "base_uri": "https://localhost:8080/"
        },
        "id": "csPtsTTYRVfg",
        "outputId": "0883bb6f-6958-4fd6-a331-a38e163229a0"
      },
      "execution_count": 49,
      "outputs": [
        {
          "output_type": "execute_result",
          "data": {
            "text/plain": [
              "(<tf.Tensor: shape=(), dtype=float32, numpy=68.70104>,\n",
              " <tf.Tensor: shape=(), dtype=float32, numpy=4806.409>)"
            ]
          },
          "metadata": {},
          "execution_count": 49
        }
      ]
    },
    {
      "cell_type": "markdown",
      "source": [
        "**Note**: Start with small experiments (small models) and make sure they work and then increases their scale when necessary."
      ],
      "metadata": {
        "id": "And5jT5bST01"
      }
    },
    {
      "cell_type": "markdown",
      "source": [
        "# Comparing the results of our Experiments\n",
        "We've run a few experiments, let's compare the results."
      ],
      "metadata": {
        "id": "HW8NHQynR68X"
      }
    },
    {
      "cell_type": "code",
      "source": [
        "# Let's compare our model's results using a pandas DataFrame\n",
        "import pandas as pd\n",
        "\n",
        "model_results = [['model_1', mae_1.numpy(), mse_1.numpy()],\n",
        "                 ['model_2', mae_2.numpy(), mse_2.numpy()],\n",
        "                 ['model_3', mae_3.numpy(), mse_3.numpy()]]\n",
        "\n",
        "all_results = pd.DataFrame(model_results, columns=['model', 'mae', 'mse'])\n",
        "\n",
        "all_results"
      ],
      "metadata": {
        "colab": {
          "base_uri": "https://localhost:8080/",
          "height": 143
        },
        "id": "enpX7GXHSGnI",
        "outputId": "266e6944-0897-475c-a4ce-9fac30e89544"
      },
      "execution_count": 50,
      "outputs": [
        {
          "output_type": "execute_result",
          "data": {
            "text/plain": [
              "     model        mae          mse\n",
              "0  model_1  30.707941   953.479004\n",
              "1  model_2  29.817499   920.333984\n",
              "2  model_3  68.701042  4806.409180"
            ],
            "text/html": [
              "\n",
              "  <div id=\"df-9315f1c0-393a-434c-b286-d6f544403b55\" class=\"colab-df-container\">\n",
              "    <div>\n",
              "<style scoped>\n",
              "    .dataframe tbody tr th:only-of-type {\n",
              "        vertical-align: middle;\n",
              "    }\n",
              "\n",
              "    .dataframe tbody tr th {\n",
              "        vertical-align: top;\n",
              "    }\n",
              "\n",
              "    .dataframe thead th {\n",
              "        text-align: right;\n",
              "    }\n",
              "</style>\n",
              "<table border=\"1\" class=\"dataframe\">\n",
              "  <thead>\n",
              "    <tr style=\"text-align: right;\">\n",
              "      <th></th>\n",
              "      <th>model</th>\n",
              "      <th>mae</th>\n",
              "      <th>mse</th>\n",
              "    </tr>\n",
              "  </thead>\n",
              "  <tbody>\n",
              "    <tr>\n",
              "      <th>0</th>\n",
              "      <td>model_1</td>\n",
              "      <td>30.707941</td>\n",
              "      <td>953.479004</td>\n",
              "    </tr>\n",
              "    <tr>\n",
              "      <th>1</th>\n",
              "      <td>model_2</td>\n",
              "      <td>29.817499</td>\n",
              "      <td>920.333984</td>\n",
              "    </tr>\n",
              "    <tr>\n",
              "      <th>2</th>\n",
              "      <td>model_3</td>\n",
              "      <td>68.701042</td>\n",
              "      <td>4806.409180</td>\n",
              "    </tr>\n",
              "  </tbody>\n",
              "</table>\n",
              "</div>\n",
              "    <div class=\"colab-df-buttons\">\n",
              "\n",
              "  <div class=\"colab-df-container\">\n",
              "    <button class=\"colab-df-convert\" onclick=\"convertToInteractive('df-9315f1c0-393a-434c-b286-d6f544403b55')\"\n",
              "            title=\"Convert this dataframe to an interactive table.\"\n",
              "            style=\"display:none;\">\n",
              "\n",
              "  <svg xmlns=\"http://www.w3.org/2000/svg\" height=\"24px\" viewBox=\"0 -960 960 960\">\n",
              "    <path d=\"M120-120v-720h720v720H120Zm60-500h600v-160H180v160Zm220 220h160v-160H400v160Zm0 220h160v-160H400v160ZM180-400h160v-160H180v160Zm440 0h160v-160H620v160ZM180-180h160v-160H180v160Zm440 0h160v-160H620v160Z\"/>\n",
              "  </svg>\n",
              "    </button>\n",
              "\n",
              "  <style>\n",
              "    .colab-df-container {\n",
              "      display:flex;\n",
              "      gap: 12px;\n",
              "    }\n",
              "\n",
              "    .colab-df-convert {\n",
              "      background-color: #E8F0FE;\n",
              "      border: none;\n",
              "      border-radius: 50%;\n",
              "      cursor: pointer;\n",
              "      display: none;\n",
              "      fill: #1967D2;\n",
              "      height: 32px;\n",
              "      padding: 0 0 0 0;\n",
              "      width: 32px;\n",
              "    }\n",
              "\n",
              "    .colab-df-convert:hover {\n",
              "      background-color: #E2EBFA;\n",
              "      box-shadow: 0px 1px 2px rgba(60, 64, 67, 0.3), 0px 1px 3px 1px rgba(60, 64, 67, 0.15);\n",
              "      fill: #174EA6;\n",
              "    }\n",
              "\n",
              "    .colab-df-buttons div {\n",
              "      margin-bottom: 4px;\n",
              "    }\n",
              "\n",
              "    [theme=dark] .colab-df-convert {\n",
              "      background-color: #3B4455;\n",
              "      fill: #D2E3FC;\n",
              "    }\n",
              "\n",
              "    [theme=dark] .colab-df-convert:hover {\n",
              "      background-color: #434B5C;\n",
              "      box-shadow: 0px 1px 3px 1px rgba(0, 0, 0, 0.15);\n",
              "      filter: drop-shadow(0px 1px 2px rgba(0, 0, 0, 0.3));\n",
              "      fill: #FFFFFF;\n",
              "    }\n",
              "  </style>\n",
              "\n",
              "    <script>\n",
              "      const buttonEl =\n",
              "        document.querySelector('#df-9315f1c0-393a-434c-b286-d6f544403b55 button.colab-df-convert');\n",
              "      buttonEl.style.display =\n",
              "        google.colab.kernel.accessAllowed ? 'block' : 'none';\n",
              "\n",
              "      async function convertToInteractive(key) {\n",
              "        const element = document.querySelector('#df-9315f1c0-393a-434c-b286-d6f544403b55');\n",
              "        const dataTable =\n",
              "          await google.colab.kernel.invokeFunction('convertToInteractive',\n",
              "                                                    [key], {});\n",
              "        if (!dataTable) return;\n",
              "\n",
              "        const docLinkHtml = 'Like what you see? Visit the ' +\n",
              "          '<a target=\"_blank\" href=https://colab.research.google.com/notebooks/data_table.ipynb>data table notebook</a>'\n",
              "          + ' to learn more about interactive tables.';\n",
              "        element.innerHTML = '';\n",
              "        dataTable['output_type'] = 'display_data';\n",
              "        await google.colab.output.renderOutput(dataTable, element);\n",
              "        const docLink = document.createElement('div');\n",
              "        docLink.innerHTML = docLinkHtml;\n",
              "        element.appendChild(docLink);\n",
              "      }\n",
              "    </script>\n",
              "  </div>\n",
              "\n",
              "\n",
              "<div id=\"df-cf1dbc03-0492-41d9-b2f1-05c1545c6a16\">\n",
              "  <button class=\"colab-df-quickchart\" onclick=\"quickchart('df-cf1dbc03-0492-41d9-b2f1-05c1545c6a16')\"\n",
              "            title=\"Suggest charts\"\n",
              "            style=\"display:none;\">\n",
              "\n",
              "<svg xmlns=\"http://www.w3.org/2000/svg\" height=\"24px\"viewBox=\"0 0 24 24\"\n",
              "     width=\"24px\">\n",
              "    <g>\n",
              "        <path d=\"M19 3H5c-1.1 0-2 .9-2 2v14c0 1.1.9 2 2 2h14c1.1 0 2-.9 2-2V5c0-1.1-.9-2-2-2zM9 17H7v-7h2v7zm4 0h-2V7h2v10zm4 0h-2v-4h2v4z\"/>\n",
              "    </g>\n",
              "</svg>\n",
              "  </button>\n",
              "\n",
              "<style>\n",
              "  .colab-df-quickchart {\n",
              "      --bg-color: #E8F0FE;\n",
              "      --fill-color: #1967D2;\n",
              "      --hover-bg-color: #E2EBFA;\n",
              "      --hover-fill-color: #174EA6;\n",
              "      --disabled-fill-color: #AAA;\n",
              "      --disabled-bg-color: #DDD;\n",
              "  }\n",
              "\n",
              "  [theme=dark] .colab-df-quickchart {\n",
              "      --bg-color: #3B4455;\n",
              "      --fill-color: #D2E3FC;\n",
              "      --hover-bg-color: #434B5C;\n",
              "      --hover-fill-color: #FFFFFF;\n",
              "      --disabled-bg-color: #3B4455;\n",
              "      --disabled-fill-color: #666;\n",
              "  }\n",
              "\n",
              "  .colab-df-quickchart {\n",
              "    background-color: var(--bg-color);\n",
              "    border: none;\n",
              "    border-radius: 50%;\n",
              "    cursor: pointer;\n",
              "    display: none;\n",
              "    fill: var(--fill-color);\n",
              "    height: 32px;\n",
              "    padding: 0;\n",
              "    width: 32px;\n",
              "  }\n",
              "\n",
              "  .colab-df-quickchart:hover {\n",
              "    background-color: var(--hover-bg-color);\n",
              "    box-shadow: 0 1px 2px rgba(60, 64, 67, 0.3), 0 1px 3px 1px rgba(60, 64, 67, 0.15);\n",
              "    fill: var(--button-hover-fill-color);\n",
              "  }\n",
              "\n",
              "  .colab-df-quickchart-complete:disabled,\n",
              "  .colab-df-quickchart-complete:disabled:hover {\n",
              "    background-color: var(--disabled-bg-color);\n",
              "    fill: var(--disabled-fill-color);\n",
              "    box-shadow: none;\n",
              "  }\n",
              "\n",
              "  .colab-df-spinner {\n",
              "    border: 2px solid var(--fill-color);\n",
              "    border-color: transparent;\n",
              "    border-bottom-color: var(--fill-color);\n",
              "    animation:\n",
              "      spin 1s steps(1) infinite;\n",
              "  }\n",
              "\n",
              "  @keyframes spin {\n",
              "    0% {\n",
              "      border-color: transparent;\n",
              "      border-bottom-color: var(--fill-color);\n",
              "      border-left-color: var(--fill-color);\n",
              "    }\n",
              "    20% {\n",
              "      border-color: transparent;\n",
              "      border-left-color: var(--fill-color);\n",
              "      border-top-color: var(--fill-color);\n",
              "    }\n",
              "    30% {\n",
              "      border-color: transparent;\n",
              "      border-left-color: var(--fill-color);\n",
              "      border-top-color: var(--fill-color);\n",
              "      border-right-color: var(--fill-color);\n",
              "    }\n",
              "    40% {\n",
              "      border-color: transparent;\n",
              "      border-right-color: var(--fill-color);\n",
              "      border-top-color: var(--fill-color);\n",
              "    }\n",
              "    60% {\n",
              "      border-color: transparent;\n",
              "      border-right-color: var(--fill-color);\n",
              "    }\n",
              "    80% {\n",
              "      border-color: transparent;\n",
              "      border-right-color: var(--fill-color);\n",
              "      border-bottom-color: var(--fill-color);\n",
              "    }\n",
              "    90% {\n",
              "      border-color: transparent;\n",
              "      border-bottom-color: var(--fill-color);\n",
              "    }\n",
              "  }\n",
              "</style>\n",
              "\n",
              "  <script>\n",
              "    async function quickchart(key) {\n",
              "      const quickchartButtonEl =\n",
              "        document.querySelector('#' + key + ' button');\n",
              "      quickchartButtonEl.disabled = true;  // To prevent multiple clicks.\n",
              "      quickchartButtonEl.classList.add('colab-df-spinner');\n",
              "      try {\n",
              "        const charts = await google.colab.kernel.invokeFunction(\n",
              "            'suggestCharts', [key], {});\n",
              "      } catch (error) {\n",
              "        console.error('Error during call to suggestCharts:', error);\n",
              "      }\n",
              "      quickchartButtonEl.classList.remove('colab-df-spinner');\n",
              "      quickchartButtonEl.classList.add('colab-df-quickchart-complete');\n",
              "    }\n",
              "    (() => {\n",
              "      let quickchartButtonEl =\n",
              "        document.querySelector('#df-cf1dbc03-0492-41d9-b2f1-05c1545c6a16 button');\n",
              "      quickchartButtonEl.style.display =\n",
              "        google.colab.kernel.accessAllowed ? 'block' : 'none';\n",
              "    })();\n",
              "  </script>\n",
              "</div>\n",
              "    </div>\n",
              "  </div>\n"
            ],
            "application/vnd.google.colaboratory.intrinsic+json": {
              "type": "dataframe",
              "variable_name": "all_results",
              "summary": "{\n  \"name\": \"all_results\",\n  \"rows\": 3,\n  \"fields\": [\n    {\n      \"column\": \"model\",\n      \"properties\": {\n        \"dtype\": \"string\",\n        \"num_unique_values\": 3,\n        \"samples\": [\n          \"model_1\",\n          \"model_2\",\n          \"model_3\"\n        ],\n        \"semantic_type\": \"\",\n        \"description\": \"\"\n      }\n    },\n    {\n      \"column\": \"mae\",\n      \"properties\": {\n        \"dtype\": \"float32\",\n        \"num_unique_values\": 3,\n        \"samples\": [\n          30.70794105529785,\n          29.8174991607666,\n          68.70104217529297\n        ],\n        \"semantic_type\": \"\",\n        \"description\": \"\"\n      }\n    },\n    {\n      \"column\": \"mse\",\n      \"properties\": {\n        \"dtype\": \"float32\",\n        \"num_unique_values\": 3,\n        \"samples\": [\n          953.47900390625,\n          920.333984375,\n          4806.4091796875\n        ],\n        \"semantic_type\": \"\",\n        \"description\": \"\"\n      }\n    }\n  ]\n}"
            }
          },
          "metadata": {},
          "execution_count": 50
        }
      ]
    },
    {
      "cell_type": "markdown",
      "source": [
        "Looks like `model_2` performed the best..."
      ],
      "metadata": {
        "id": "4LSca4hATmH9"
      }
    },
    {
      "cell_type": "code",
      "source": [
        "model_2.summary()"
      ],
      "metadata": {
        "colab": {
          "base_uri": "https://localhost:8080/"
        },
        "id": "ZendEW93TpzP",
        "outputId": "f41c374e-6044-4d0b-e693-823cd0ce70b8"
      },
      "execution_count": 51,
      "outputs": [
        {
          "output_type": "stream",
          "name": "stdout",
          "text": [
            "Model: \"sequential_5\"\n",
            "_________________________________________________________________\n",
            " Layer (type)                Output Shape              Param #   \n",
            "=================================================================\n",
            " dense_5 (Dense)             (None, 10)                20        \n",
            "                                                                 \n",
            " dense_6 (Dense)             (None, 1)                 11        \n",
            "                                                                 \n",
            "=================================================================\n",
            "Total params: 31 (124.00 Byte)\n",
            "Trainable params: 31 (124.00 Byte)\n",
            "Non-trainable params: 0 (0.00 Byte)\n",
            "_________________________________________________________________\n"
          ]
        }
      ]
    },
    {
      "cell_type": "markdown",
      "source": [
        "## Tracking your experiments\n",
        "\n",
        "One really good habit in ML modelling is to track the results of experiments.\n",
        "And when doing so, it can be tedious if running lot of experiments.\n",
        "Luckily, there are tools to help us!\n",
        "* TensorBoard - A component of the TensorFlow library to help track modelling experiments.\n",
        "* Weights and Biases - A tool for tracking all of kinds of machine learning (plugs straight into TensorBoard)."
      ],
      "metadata": {
        "id": "oarnTPjeUAQH"
      }
    },
    {
      "cell_type": "markdown",
      "source": [
        "# Saving Models\n",
        "Saving our models allows us to use them outside of Google Colab (or wherever they were trained) such as in a web application or a mobile app.\n",
        "\n",
        "There are two main formats we can save our model's too:\n",
        "\n",
        "1. The SavedModel format\n",
        "2. The HDF5 format"
      ],
      "metadata": {
        "id": "tPWG1HC1VhCx"
      }
    },
    {
      "cell_type": "code",
      "source": [
        "# Save model using save model format\n",
        "model_2.save(\"best_model_SavedModel_format\")"
      ],
      "metadata": {
        "id": "g1s4EP0AT7Zj"
      },
      "execution_count": 52,
      "outputs": []
    },
    {
      "cell_type": "code",
      "source": [
        "# Save model using HDF5 format\n",
        "model_2.save(\"best_model_HDF5_format.h5\")"
      ],
      "metadata": {
        "colab": {
          "base_uri": "https://localhost:8080/"
        },
        "id": "VdvHJy18WRBy",
        "outputId": "3bbd2a4f-b4b1-4e4d-c162-7724aed092fe"
      },
      "execution_count": 53,
      "outputs": [
        {
          "output_type": "stream",
          "name": "stderr",
          "text": [
            "/usr/local/lib/python3.10/dist-packages/keras/src/engine/training.py:3103: UserWarning: You are saving your model as an HDF5 file via `model.save()`. This file format is considered legacy. We recommend using instead the native Keras format, e.g. `model.save('my_model.keras')`.\n",
            "  saving_api.save_model(\n"
          ]
        }
      ]
    },
    {
      "cell_type": "markdown",
      "source": [
        "# Loading in a saved model"
      ],
      "metadata": {
        "id": "q4hj-7PJaF8Z"
      }
    },
    {
      "cell_type": "code",
      "source": [
        "# Load in the SavedModel format model\n",
        "loaded_SavedModel_format = tf.keras.models.load_model(\"/content/best_model_SavedModel_format\")\n",
        "loaded_SavedModel_format.summary()"
      ],
      "metadata": {
        "id": "SVFRaOXAWnD-",
        "colab": {
          "base_uri": "https://localhost:8080/"
        },
        "outputId": "d9699dcc-15f2-401c-b273-e920cc776496"
      },
      "execution_count": 54,
      "outputs": [
        {
          "output_type": "stream",
          "name": "stdout",
          "text": [
            "Model: \"sequential_5\"\n",
            "_________________________________________________________________\n",
            " Layer (type)                Output Shape              Param #   \n",
            "=================================================================\n",
            " dense_5 (Dense)             (None, 10)                20        \n",
            "                                                                 \n",
            " dense_6 (Dense)             (None, 1)                 11        \n",
            "                                                                 \n",
            "=================================================================\n",
            "Total params: 31 (124.00 Byte)\n",
            "Trainable params: 31 (124.00 Byte)\n",
            "Non-trainable params: 0 (0.00 Byte)\n",
            "_________________________________________________________________\n"
          ]
        }
      ]
    },
    {
      "cell_type": "code",
      "source": [
        "# Load in the HDF5 format model\n",
        "loaded_h5_model = tf.keras.models.load_model(\"/content/best_model_HDF5_format.h5\")\n",
        "loaded_h5_model.summary()"
      ],
      "metadata": {
        "colab": {
          "base_uri": "https://localhost:8080/"
        },
        "id": "Uyl9Lg5fa6S2",
        "outputId": "d6529564-8a48-4e0c-8bb8-e0b1db2443b6"
      },
      "execution_count": 55,
      "outputs": [
        {
          "output_type": "stream",
          "name": "stdout",
          "text": [
            "Model: \"sequential_5\"\n",
            "_________________________________________________________________\n",
            " Layer (type)                Output Shape              Param #   \n",
            "=================================================================\n",
            " dense_5 (Dense)             (None, 10)                20        \n",
            "                                                                 \n",
            " dense_6 (Dense)             (None, 1)                 11        \n",
            "                                                                 \n",
            "=================================================================\n",
            "Total params: 31 (124.00 Byte)\n",
            "Trainable params: 31 (124.00 Byte)\n",
            "Non-trainable params: 0 (0.00 Byte)\n",
            "_________________________________________________________________\n"
          ]
        }
      ]
    },
    {
      "cell_type": "markdown",
      "source": [
        "# Mini Project"
      ],
      "metadata": {
        "id": "DmrRL_h_giqI"
      }
    },
    {
      "cell_type": "markdown",
      "source": [
        "## Baseline"
      ],
      "metadata": {
        "id": "Dq8dk_gwqper"
      }
    },
    {
      "cell_type": "code",
      "source": [
        "# Import required libraries\n",
        "import tensorflow as tf\n",
        "import pandas as pd\n",
        "import numpy as np\n",
        "import matplotlib.pyplot as plt"
      ],
      "metadata": {
        "id": "0S0HUpXmgiLk"
      },
      "execution_count": null,
      "outputs": []
    },
    {
      "cell_type": "code",
      "source": [
        "# Read in the insurance dataset\n",
        "insurance = pd.read_csv(\"https://raw.githubusercontent.com/stedy/Machine-Learning-with-R-datasets/master/insurance.csv\")\n",
        "insurance"
      ],
      "metadata": {
        "id": "PaUAc7qGhDWj"
      },
      "execution_count": null,
      "outputs": []
    },
    {
      "cell_type": "code",
      "source": [
        "# Let's try one-hot encode DataFrame so it's all numbers\n",
        "insurance_one_hot = pd.get_dummies(insurance, dtype=int)\n",
        "insurance_one_hot.head()"
      ],
      "metadata": {
        "colab": {
          "base_uri": "https://localhost:8080/",
          "height": 226
        },
        "id": "YSvFxCzJhZmt",
        "outputId": "5ecced68-2c23-48a6-8c2c-65a8df3def11"
      },
      "execution_count": 59,
      "outputs": [
        {
          "output_type": "execute_result",
          "data": {
            "text/plain": [
              "   age     bmi  children      charges  sex_female  sex_male  smoker_no  \\\n",
              "0   19  27.900         0  16884.92400           1         0          0   \n",
              "1   18  33.770         1   1725.55230           0         1          1   \n",
              "2   28  33.000         3   4449.46200           0         1          1   \n",
              "3   33  22.705         0  21984.47061           0         1          1   \n",
              "4   32  28.880         0   3866.85520           0         1          1   \n",
              "\n",
              "   smoker_yes  region_northeast  region_northwest  region_southeast  \\\n",
              "0           1                 0                 0                 0   \n",
              "1           0                 0                 0                 1   \n",
              "2           0                 0                 0                 1   \n",
              "3           0                 0                 1                 0   \n",
              "4           0                 0                 1                 0   \n",
              "\n",
              "   region_southwest  \n",
              "0                 1  \n",
              "1                 0  \n",
              "2                 0  \n",
              "3                 0  \n",
              "4                 0  "
            ],
            "text/html": [
              "\n",
              "  <div id=\"df-df97bc4c-ce5c-456b-9394-105467fc988a\" class=\"colab-df-container\">\n",
              "    <div>\n",
              "<style scoped>\n",
              "    .dataframe tbody tr th:only-of-type {\n",
              "        vertical-align: middle;\n",
              "    }\n",
              "\n",
              "    .dataframe tbody tr th {\n",
              "        vertical-align: top;\n",
              "    }\n",
              "\n",
              "    .dataframe thead th {\n",
              "        text-align: right;\n",
              "    }\n",
              "</style>\n",
              "<table border=\"1\" class=\"dataframe\">\n",
              "  <thead>\n",
              "    <tr style=\"text-align: right;\">\n",
              "      <th></th>\n",
              "      <th>age</th>\n",
              "      <th>bmi</th>\n",
              "      <th>children</th>\n",
              "      <th>charges</th>\n",
              "      <th>sex_female</th>\n",
              "      <th>sex_male</th>\n",
              "      <th>smoker_no</th>\n",
              "      <th>smoker_yes</th>\n",
              "      <th>region_northeast</th>\n",
              "      <th>region_northwest</th>\n",
              "      <th>region_southeast</th>\n",
              "      <th>region_southwest</th>\n",
              "    </tr>\n",
              "  </thead>\n",
              "  <tbody>\n",
              "    <tr>\n",
              "      <th>0</th>\n",
              "      <td>19</td>\n",
              "      <td>27.900</td>\n",
              "      <td>0</td>\n",
              "      <td>16884.92400</td>\n",
              "      <td>1</td>\n",
              "      <td>0</td>\n",
              "      <td>0</td>\n",
              "      <td>1</td>\n",
              "      <td>0</td>\n",
              "      <td>0</td>\n",
              "      <td>0</td>\n",
              "      <td>1</td>\n",
              "    </tr>\n",
              "    <tr>\n",
              "      <th>1</th>\n",
              "      <td>18</td>\n",
              "      <td>33.770</td>\n",
              "      <td>1</td>\n",
              "      <td>1725.55230</td>\n",
              "      <td>0</td>\n",
              "      <td>1</td>\n",
              "      <td>1</td>\n",
              "      <td>0</td>\n",
              "      <td>0</td>\n",
              "      <td>0</td>\n",
              "      <td>1</td>\n",
              "      <td>0</td>\n",
              "    </tr>\n",
              "    <tr>\n",
              "      <th>2</th>\n",
              "      <td>28</td>\n",
              "      <td>33.000</td>\n",
              "      <td>3</td>\n",
              "      <td>4449.46200</td>\n",
              "      <td>0</td>\n",
              "      <td>1</td>\n",
              "      <td>1</td>\n",
              "      <td>0</td>\n",
              "      <td>0</td>\n",
              "      <td>0</td>\n",
              "      <td>1</td>\n",
              "      <td>0</td>\n",
              "    </tr>\n",
              "    <tr>\n",
              "      <th>3</th>\n",
              "      <td>33</td>\n",
              "      <td>22.705</td>\n",
              "      <td>0</td>\n",
              "      <td>21984.47061</td>\n",
              "      <td>0</td>\n",
              "      <td>1</td>\n",
              "      <td>1</td>\n",
              "      <td>0</td>\n",
              "      <td>0</td>\n",
              "      <td>1</td>\n",
              "      <td>0</td>\n",
              "      <td>0</td>\n",
              "    </tr>\n",
              "    <tr>\n",
              "      <th>4</th>\n",
              "      <td>32</td>\n",
              "      <td>28.880</td>\n",
              "      <td>0</td>\n",
              "      <td>3866.85520</td>\n",
              "      <td>0</td>\n",
              "      <td>1</td>\n",
              "      <td>1</td>\n",
              "      <td>0</td>\n",
              "      <td>0</td>\n",
              "      <td>1</td>\n",
              "      <td>0</td>\n",
              "      <td>0</td>\n",
              "    </tr>\n",
              "  </tbody>\n",
              "</table>\n",
              "</div>\n",
              "    <div class=\"colab-df-buttons\">\n",
              "\n",
              "  <div class=\"colab-df-container\">\n",
              "    <button class=\"colab-df-convert\" onclick=\"convertToInteractive('df-df97bc4c-ce5c-456b-9394-105467fc988a')\"\n",
              "            title=\"Convert this dataframe to an interactive table.\"\n",
              "            style=\"display:none;\">\n",
              "\n",
              "  <svg xmlns=\"http://www.w3.org/2000/svg\" height=\"24px\" viewBox=\"0 -960 960 960\">\n",
              "    <path d=\"M120-120v-720h720v720H120Zm60-500h600v-160H180v160Zm220 220h160v-160H400v160Zm0 220h160v-160H400v160ZM180-400h160v-160H180v160Zm440 0h160v-160H620v160ZM180-180h160v-160H180v160Zm440 0h160v-160H620v160Z\"/>\n",
              "  </svg>\n",
              "    </button>\n",
              "\n",
              "  <style>\n",
              "    .colab-df-container {\n",
              "      display:flex;\n",
              "      gap: 12px;\n",
              "    }\n",
              "\n",
              "    .colab-df-convert {\n",
              "      background-color: #E8F0FE;\n",
              "      border: none;\n",
              "      border-radius: 50%;\n",
              "      cursor: pointer;\n",
              "      display: none;\n",
              "      fill: #1967D2;\n",
              "      height: 32px;\n",
              "      padding: 0 0 0 0;\n",
              "      width: 32px;\n",
              "    }\n",
              "\n",
              "    .colab-df-convert:hover {\n",
              "      background-color: #E2EBFA;\n",
              "      box-shadow: 0px 1px 2px rgba(60, 64, 67, 0.3), 0px 1px 3px 1px rgba(60, 64, 67, 0.15);\n",
              "      fill: #174EA6;\n",
              "    }\n",
              "\n",
              "    .colab-df-buttons div {\n",
              "      margin-bottom: 4px;\n",
              "    }\n",
              "\n",
              "    [theme=dark] .colab-df-convert {\n",
              "      background-color: #3B4455;\n",
              "      fill: #D2E3FC;\n",
              "    }\n",
              "\n",
              "    [theme=dark] .colab-df-convert:hover {\n",
              "      background-color: #434B5C;\n",
              "      box-shadow: 0px 1px 3px 1px rgba(0, 0, 0, 0.15);\n",
              "      filter: drop-shadow(0px 1px 2px rgba(0, 0, 0, 0.3));\n",
              "      fill: #FFFFFF;\n",
              "    }\n",
              "  </style>\n",
              "\n",
              "    <script>\n",
              "      const buttonEl =\n",
              "        document.querySelector('#df-df97bc4c-ce5c-456b-9394-105467fc988a button.colab-df-convert');\n",
              "      buttonEl.style.display =\n",
              "        google.colab.kernel.accessAllowed ? 'block' : 'none';\n",
              "\n",
              "      async function convertToInteractive(key) {\n",
              "        const element = document.querySelector('#df-df97bc4c-ce5c-456b-9394-105467fc988a');\n",
              "        const dataTable =\n",
              "          await google.colab.kernel.invokeFunction('convertToInteractive',\n",
              "                                                    [key], {});\n",
              "        if (!dataTable) return;\n",
              "\n",
              "        const docLinkHtml = 'Like what you see? Visit the ' +\n",
              "          '<a target=\"_blank\" href=https://colab.research.google.com/notebooks/data_table.ipynb>data table notebook</a>'\n",
              "          + ' to learn more about interactive tables.';\n",
              "        element.innerHTML = '';\n",
              "        dataTable['output_type'] = 'display_data';\n",
              "        await google.colab.output.renderOutput(dataTable, element);\n",
              "        const docLink = document.createElement('div');\n",
              "        docLink.innerHTML = docLinkHtml;\n",
              "        element.appendChild(docLink);\n",
              "      }\n",
              "    </script>\n",
              "  </div>\n",
              "\n",
              "\n",
              "<div id=\"df-83b7662e-61bb-4f81-b3f1-b7625db5e250\">\n",
              "  <button class=\"colab-df-quickchart\" onclick=\"quickchart('df-83b7662e-61bb-4f81-b3f1-b7625db5e250')\"\n",
              "            title=\"Suggest charts\"\n",
              "            style=\"display:none;\">\n",
              "\n",
              "<svg xmlns=\"http://www.w3.org/2000/svg\" height=\"24px\"viewBox=\"0 0 24 24\"\n",
              "     width=\"24px\">\n",
              "    <g>\n",
              "        <path d=\"M19 3H5c-1.1 0-2 .9-2 2v14c0 1.1.9 2 2 2h14c1.1 0 2-.9 2-2V5c0-1.1-.9-2-2-2zM9 17H7v-7h2v7zm4 0h-2V7h2v10zm4 0h-2v-4h2v4z\"/>\n",
              "    </g>\n",
              "</svg>\n",
              "  </button>\n",
              "\n",
              "<style>\n",
              "  .colab-df-quickchart {\n",
              "      --bg-color: #E8F0FE;\n",
              "      --fill-color: #1967D2;\n",
              "      --hover-bg-color: #E2EBFA;\n",
              "      --hover-fill-color: #174EA6;\n",
              "      --disabled-fill-color: #AAA;\n",
              "      --disabled-bg-color: #DDD;\n",
              "  }\n",
              "\n",
              "  [theme=dark] .colab-df-quickchart {\n",
              "      --bg-color: #3B4455;\n",
              "      --fill-color: #D2E3FC;\n",
              "      --hover-bg-color: #434B5C;\n",
              "      --hover-fill-color: #FFFFFF;\n",
              "      --disabled-bg-color: #3B4455;\n",
              "      --disabled-fill-color: #666;\n",
              "  }\n",
              "\n",
              "  .colab-df-quickchart {\n",
              "    background-color: var(--bg-color);\n",
              "    border: none;\n",
              "    border-radius: 50%;\n",
              "    cursor: pointer;\n",
              "    display: none;\n",
              "    fill: var(--fill-color);\n",
              "    height: 32px;\n",
              "    padding: 0;\n",
              "    width: 32px;\n",
              "  }\n",
              "\n",
              "  .colab-df-quickchart:hover {\n",
              "    background-color: var(--hover-bg-color);\n",
              "    box-shadow: 0 1px 2px rgba(60, 64, 67, 0.3), 0 1px 3px 1px rgba(60, 64, 67, 0.15);\n",
              "    fill: var(--button-hover-fill-color);\n",
              "  }\n",
              "\n",
              "  .colab-df-quickchart-complete:disabled,\n",
              "  .colab-df-quickchart-complete:disabled:hover {\n",
              "    background-color: var(--disabled-bg-color);\n",
              "    fill: var(--disabled-fill-color);\n",
              "    box-shadow: none;\n",
              "  }\n",
              "\n",
              "  .colab-df-spinner {\n",
              "    border: 2px solid var(--fill-color);\n",
              "    border-color: transparent;\n",
              "    border-bottom-color: var(--fill-color);\n",
              "    animation:\n",
              "      spin 1s steps(1) infinite;\n",
              "  }\n",
              "\n",
              "  @keyframes spin {\n",
              "    0% {\n",
              "      border-color: transparent;\n",
              "      border-bottom-color: var(--fill-color);\n",
              "      border-left-color: var(--fill-color);\n",
              "    }\n",
              "    20% {\n",
              "      border-color: transparent;\n",
              "      border-left-color: var(--fill-color);\n",
              "      border-top-color: var(--fill-color);\n",
              "    }\n",
              "    30% {\n",
              "      border-color: transparent;\n",
              "      border-left-color: var(--fill-color);\n",
              "      border-top-color: var(--fill-color);\n",
              "      border-right-color: var(--fill-color);\n",
              "    }\n",
              "    40% {\n",
              "      border-color: transparent;\n",
              "      border-right-color: var(--fill-color);\n",
              "      border-top-color: var(--fill-color);\n",
              "    }\n",
              "    60% {\n",
              "      border-color: transparent;\n",
              "      border-right-color: var(--fill-color);\n",
              "    }\n",
              "    80% {\n",
              "      border-color: transparent;\n",
              "      border-right-color: var(--fill-color);\n",
              "      border-bottom-color: var(--fill-color);\n",
              "    }\n",
              "    90% {\n",
              "      border-color: transparent;\n",
              "      border-bottom-color: var(--fill-color);\n",
              "    }\n",
              "  }\n",
              "</style>\n",
              "\n",
              "  <script>\n",
              "    async function quickchart(key) {\n",
              "      const quickchartButtonEl =\n",
              "        document.querySelector('#' + key + ' button');\n",
              "      quickchartButtonEl.disabled = true;  // To prevent multiple clicks.\n",
              "      quickchartButtonEl.classList.add('colab-df-spinner');\n",
              "      try {\n",
              "        const charts = await google.colab.kernel.invokeFunction(\n",
              "            'suggestCharts', [key], {});\n",
              "      } catch (error) {\n",
              "        console.error('Error during call to suggestCharts:', error);\n",
              "      }\n",
              "      quickchartButtonEl.classList.remove('colab-df-spinner');\n",
              "      quickchartButtonEl.classList.add('colab-df-quickchart-complete');\n",
              "    }\n",
              "    (() => {\n",
              "      let quickchartButtonEl =\n",
              "        document.querySelector('#df-83b7662e-61bb-4f81-b3f1-b7625db5e250 button');\n",
              "      quickchartButtonEl.style.display =\n",
              "        google.colab.kernel.accessAllowed ? 'block' : 'none';\n",
              "    })();\n",
              "  </script>\n",
              "</div>\n",
              "    </div>\n",
              "  </div>\n"
            ],
            "application/vnd.google.colaboratory.intrinsic+json": {
              "type": "dataframe",
              "variable_name": "insurance_one_hot",
              "summary": "{\n  \"name\": \"insurance_one_hot\",\n  \"rows\": 1338,\n  \"fields\": [\n    {\n      \"column\": \"age\",\n      \"properties\": {\n        \"dtype\": \"number\",\n        \"std\": 14,\n        \"min\": 18,\n        \"max\": 64,\n        \"num_unique_values\": 47,\n        \"samples\": [\n          21,\n          45,\n          36\n        ],\n        \"semantic_type\": \"\",\n        \"description\": \"\"\n      }\n    },\n    {\n      \"column\": \"bmi\",\n      \"properties\": {\n        \"dtype\": \"number\",\n        \"std\": 6.098186911679014,\n        \"min\": 15.96,\n        \"max\": 53.13,\n        \"num_unique_values\": 548,\n        \"samples\": [\n          23.18,\n          26.885,\n          29.26\n        ],\n        \"semantic_type\": \"\",\n        \"description\": \"\"\n      }\n    },\n    {\n      \"column\": \"children\",\n      \"properties\": {\n        \"dtype\": \"number\",\n        \"std\": 1,\n        \"min\": 0,\n        \"max\": 5,\n        \"num_unique_values\": 6,\n        \"samples\": [\n          0,\n          1,\n          4\n        ],\n        \"semantic_type\": \"\",\n        \"description\": \"\"\n      }\n    },\n    {\n      \"column\": \"charges\",\n      \"properties\": {\n        \"dtype\": \"number\",\n        \"std\": 12110.011236694001,\n        \"min\": 1121.8739,\n        \"max\": 63770.42801,\n        \"num_unique_values\": 1337,\n        \"samples\": [\n          8688.85885,\n          5708.867,\n          11436.73815\n        ],\n        \"semantic_type\": \"\",\n        \"description\": \"\"\n      }\n    },\n    {\n      \"column\": \"sex_female\",\n      \"properties\": {\n        \"dtype\": \"number\",\n        \"std\": 0,\n        \"min\": 0,\n        \"max\": 1,\n        \"num_unique_values\": 2,\n        \"samples\": [\n          0,\n          1\n        ],\n        \"semantic_type\": \"\",\n        \"description\": \"\"\n      }\n    },\n    {\n      \"column\": \"sex_male\",\n      \"properties\": {\n        \"dtype\": \"number\",\n        \"std\": 0,\n        \"min\": 0,\n        \"max\": 1,\n        \"num_unique_values\": 2,\n        \"samples\": [\n          1,\n          0\n        ],\n        \"semantic_type\": \"\",\n        \"description\": \"\"\n      }\n    },\n    {\n      \"column\": \"smoker_no\",\n      \"properties\": {\n        \"dtype\": \"number\",\n        \"std\": 0,\n        \"min\": 0,\n        \"max\": 1,\n        \"num_unique_values\": 2,\n        \"samples\": [\n          1,\n          0\n        ],\n        \"semantic_type\": \"\",\n        \"description\": \"\"\n      }\n    },\n    {\n      \"column\": \"smoker_yes\",\n      \"properties\": {\n        \"dtype\": \"number\",\n        \"std\": 0,\n        \"min\": 0,\n        \"max\": 1,\n        \"num_unique_values\": 2,\n        \"samples\": [\n          0,\n          1\n        ],\n        \"semantic_type\": \"\",\n        \"description\": \"\"\n      }\n    },\n    {\n      \"column\": \"region_northeast\",\n      \"properties\": {\n        \"dtype\": \"number\",\n        \"std\": 0,\n        \"min\": 0,\n        \"max\": 1,\n        \"num_unique_values\": 2,\n        \"samples\": [\n          1,\n          0\n        ],\n        \"semantic_type\": \"\",\n        \"description\": \"\"\n      }\n    },\n    {\n      \"column\": \"region_northwest\",\n      \"properties\": {\n        \"dtype\": \"number\",\n        \"std\": 0,\n        \"min\": 0,\n        \"max\": 1,\n        \"num_unique_values\": 2,\n        \"samples\": [\n          1,\n          0\n        ],\n        \"semantic_type\": \"\",\n        \"description\": \"\"\n      }\n    },\n    {\n      \"column\": \"region_southeast\",\n      \"properties\": {\n        \"dtype\": \"number\",\n        \"std\": 0,\n        \"min\": 0,\n        \"max\": 1,\n        \"num_unique_values\": 2,\n        \"samples\": [\n          1,\n          0\n        ],\n        \"semantic_type\": \"\",\n        \"description\": \"\"\n      }\n    },\n    {\n      \"column\": \"region_southwest\",\n      \"properties\": {\n        \"dtype\": \"number\",\n        \"std\": 0,\n        \"min\": 0,\n        \"max\": 1,\n        \"num_unique_values\": 2,\n        \"samples\": [\n          0,\n          1\n        ],\n        \"semantic_type\": \"\",\n        \"description\": \"\"\n      }\n    }\n  ]\n}"
            }
          },
          "metadata": {},
          "execution_count": 59
        }
      ]
    },
    {
      "cell_type": "code",
      "source": [
        "# Create X and y values (features and labels)\n",
        "X = insurance_one_hot.drop(\"charges\", axis=1)\n",
        "y = insurance_one_hot[\"charges\"]"
      ],
      "metadata": {
        "id": "ZYvZL6aui8nk"
      },
      "execution_count": 61,
      "outputs": []
    },
    {
      "cell_type": "code",
      "source": [
        "# View X\n",
        "X.head()"
      ],
      "metadata": {
        "colab": {
          "base_uri": "https://localhost:8080/",
          "height": 226
        },
        "id": "AebClzpijS1a",
        "outputId": "dd5aade8-b75e-4fc6-870f-21481a572771"
      },
      "execution_count": 62,
      "outputs": [
        {
          "output_type": "execute_result",
          "data": {
            "text/plain": [
              "   age     bmi  children  sex_female  sex_male  smoker_no  smoker_yes  \\\n",
              "0   19  27.900         0           1         0          0           1   \n",
              "1   18  33.770         1           0         1          1           0   \n",
              "2   28  33.000         3           0         1          1           0   \n",
              "3   33  22.705         0           0         1          1           0   \n",
              "4   32  28.880         0           0         1          1           0   \n",
              "\n",
              "   region_northeast  region_northwest  region_southeast  region_southwest  \n",
              "0                 0                 0                 0                 1  \n",
              "1                 0                 0                 1                 0  \n",
              "2                 0                 0                 1                 0  \n",
              "3                 0                 1                 0                 0  \n",
              "4                 0                 1                 0                 0  "
            ],
            "text/html": [
              "\n",
              "  <div id=\"df-9b450e49-6d87-4cfa-ba35-a5ab65defecf\" class=\"colab-df-container\">\n",
              "    <div>\n",
              "<style scoped>\n",
              "    .dataframe tbody tr th:only-of-type {\n",
              "        vertical-align: middle;\n",
              "    }\n",
              "\n",
              "    .dataframe tbody tr th {\n",
              "        vertical-align: top;\n",
              "    }\n",
              "\n",
              "    .dataframe thead th {\n",
              "        text-align: right;\n",
              "    }\n",
              "</style>\n",
              "<table border=\"1\" class=\"dataframe\">\n",
              "  <thead>\n",
              "    <tr style=\"text-align: right;\">\n",
              "      <th></th>\n",
              "      <th>age</th>\n",
              "      <th>bmi</th>\n",
              "      <th>children</th>\n",
              "      <th>sex_female</th>\n",
              "      <th>sex_male</th>\n",
              "      <th>smoker_no</th>\n",
              "      <th>smoker_yes</th>\n",
              "      <th>region_northeast</th>\n",
              "      <th>region_northwest</th>\n",
              "      <th>region_southeast</th>\n",
              "      <th>region_southwest</th>\n",
              "    </tr>\n",
              "  </thead>\n",
              "  <tbody>\n",
              "    <tr>\n",
              "      <th>0</th>\n",
              "      <td>19</td>\n",
              "      <td>27.900</td>\n",
              "      <td>0</td>\n",
              "      <td>1</td>\n",
              "      <td>0</td>\n",
              "      <td>0</td>\n",
              "      <td>1</td>\n",
              "      <td>0</td>\n",
              "      <td>0</td>\n",
              "      <td>0</td>\n",
              "      <td>1</td>\n",
              "    </tr>\n",
              "    <tr>\n",
              "      <th>1</th>\n",
              "      <td>18</td>\n",
              "      <td>33.770</td>\n",
              "      <td>1</td>\n",
              "      <td>0</td>\n",
              "      <td>1</td>\n",
              "      <td>1</td>\n",
              "      <td>0</td>\n",
              "      <td>0</td>\n",
              "      <td>0</td>\n",
              "      <td>1</td>\n",
              "      <td>0</td>\n",
              "    </tr>\n",
              "    <tr>\n",
              "      <th>2</th>\n",
              "      <td>28</td>\n",
              "      <td>33.000</td>\n",
              "      <td>3</td>\n",
              "      <td>0</td>\n",
              "      <td>1</td>\n",
              "      <td>1</td>\n",
              "      <td>0</td>\n",
              "      <td>0</td>\n",
              "      <td>0</td>\n",
              "      <td>1</td>\n",
              "      <td>0</td>\n",
              "    </tr>\n",
              "    <tr>\n",
              "      <th>3</th>\n",
              "      <td>33</td>\n",
              "      <td>22.705</td>\n",
              "      <td>0</td>\n",
              "      <td>0</td>\n",
              "      <td>1</td>\n",
              "      <td>1</td>\n",
              "      <td>0</td>\n",
              "      <td>0</td>\n",
              "      <td>1</td>\n",
              "      <td>0</td>\n",
              "      <td>0</td>\n",
              "    </tr>\n",
              "    <tr>\n",
              "      <th>4</th>\n",
              "      <td>32</td>\n",
              "      <td>28.880</td>\n",
              "      <td>0</td>\n",
              "      <td>0</td>\n",
              "      <td>1</td>\n",
              "      <td>1</td>\n",
              "      <td>0</td>\n",
              "      <td>0</td>\n",
              "      <td>1</td>\n",
              "      <td>0</td>\n",
              "      <td>0</td>\n",
              "    </tr>\n",
              "  </tbody>\n",
              "</table>\n",
              "</div>\n",
              "    <div class=\"colab-df-buttons\">\n",
              "\n",
              "  <div class=\"colab-df-container\">\n",
              "    <button class=\"colab-df-convert\" onclick=\"convertToInteractive('df-9b450e49-6d87-4cfa-ba35-a5ab65defecf')\"\n",
              "            title=\"Convert this dataframe to an interactive table.\"\n",
              "            style=\"display:none;\">\n",
              "\n",
              "  <svg xmlns=\"http://www.w3.org/2000/svg\" height=\"24px\" viewBox=\"0 -960 960 960\">\n",
              "    <path d=\"M120-120v-720h720v720H120Zm60-500h600v-160H180v160Zm220 220h160v-160H400v160Zm0 220h160v-160H400v160ZM180-400h160v-160H180v160Zm440 0h160v-160H620v160ZM180-180h160v-160H180v160Zm440 0h160v-160H620v160Z\"/>\n",
              "  </svg>\n",
              "    </button>\n",
              "\n",
              "  <style>\n",
              "    .colab-df-container {\n",
              "      display:flex;\n",
              "      gap: 12px;\n",
              "    }\n",
              "\n",
              "    .colab-df-convert {\n",
              "      background-color: #E8F0FE;\n",
              "      border: none;\n",
              "      border-radius: 50%;\n",
              "      cursor: pointer;\n",
              "      display: none;\n",
              "      fill: #1967D2;\n",
              "      height: 32px;\n",
              "      padding: 0 0 0 0;\n",
              "      width: 32px;\n",
              "    }\n",
              "\n",
              "    .colab-df-convert:hover {\n",
              "      background-color: #E2EBFA;\n",
              "      box-shadow: 0px 1px 2px rgba(60, 64, 67, 0.3), 0px 1px 3px 1px rgba(60, 64, 67, 0.15);\n",
              "      fill: #174EA6;\n",
              "    }\n",
              "\n",
              "    .colab-df-buttons div {\n",
              "      margin-bottom: 4px;\n",
              "    }\n",
              "\n",
              "    [theme=dark] .colab-df-convert {\n",
              "      background-color: #3B4455;\n",
              "      fill: #D2E3FC;\n",
              "    }\n",
              "\n",
              "    [theme=dark] .colab-df-convert:hover {\n",
              "      background-color: #434B5C;\n",
              "      box-shadow: 0px 1px 3px 1px rgba(0, 0, 0, 0.15);\n",
              "      filter: drop-shadow(0px 1px 2px rgba(0, 0, 0, 0.3));\n",
              "      fill: #FFFFFF;\n",
              "    }\n",
              "  </style>\n",
              "\n",
              "    <script>\n",
              "      const buttonEl =\n",
              "        document.querySelector('#df-9b450e49-6d87-4cfa-ba35-a5ab65defecf button.colab-df-convert');\n",
              "      buttonEl.style.display =\n",
              "        google.colab.kernel.accessAllowed ? 'block' : 'none';\n",
              "\n",
              "      async function convertToInteractive(key) {\n",
              "        const element = document.querySelector('#df-9b450e49-6d87-4cfa-ba35-a5ab65defecf');\n",
              "        const dataTable =\n",
              "          await google.colab.kernel.invokeFunction('convertToInteractive',\n",
              "                                                    [key], {});\n",
              "        if (!dataTable) return;\n",
              "\n",
              "        const docLinkHtml = 'Like what you see? Visit the ' +\n",
              "          '<a target=\"_blank\" href=https://colab.research.google.com/notebooks/data_table.ipynb>data table notebook</a>'\n",
              "          + ' to learn more about interactive tables.';\n",
              "        element.innerHTML = '';\n",
              "        dataTable['output_type'] = 'display_data';\n",
              "        await google.colab.output.renderOutput(dataTable, element);\n",
              "        const docLink = document.createElement('div');\n",
              "        docLink.innerHTML = docLinkHtml;\n",
              "        element.appendChild(docLink);\n",
              "      }\n",
              "    </script>\n",
              "  </div>\n",
              "\n",
              "\n",
              "<div id=\"df-61362b6c-3385-4780-b6d6-5b8954022fa7\">\n",
              "  <button class=\"colab-df-quickchart\" onclick=\"quickchart('df-61362b6c-3385-4780-b6d6-5b8954022fa7')\"\n",
              "            title=\"Suggest charts\"\n",
              "            style=\"display:none;\">\n",
              "\n",
              "<svg xmlns=\"http://www.w3.org/2000/svg\" height=\"24px\"viewBox=\"0 0 24 24\"\n",
              "     width=\"24px\">\n",
              "    <g>\n",
              "        <path d=\"M19 3H5c-1.1 0-2 .9-2 2v14c0 1.1.9 2 2 2h14c1.1 0 2-.9 2-2V5c0-1.1-.9-2-2-2zM9 17H7v-7h2v7zm4 0h-2V7h2v10zm4 0h-2v-4h2v4z\"/>\n",
              "    </g>\n",
              "</svg>\n",
              "  </button>\n",
              "\n",
              "<style>\n",
              "  .colab-df-quickchart {\n",
              "      --bg-color: #E8F0FE;\n",
              "      --fill-color: #1967D2;\n",
              "      --hover-bg-color: #E2EBFA;\n",
              "      --hover-fill-color: #174EA6;\n",
              "      --disabled-fill-color: #AAA;\n",
              "      --disabled-bg-color: #DDD;\n",
              "  }\n",
              "\n",
              "  [theme=dark] .colab-df-quickchart {\n",
              "      --bg-color: #3B4455;\n",
              "      --fill-color: #D2E3FC;\n",
              "      --hover-bg-color: #434B5C;\n",
              "      --hover-fill-color: #FFFFFF;\n",
              "      --disabled-bg-color: #3B4455;\n",
              "      --disabled-fill-color: #666;\n",
              "  }\n",
              "\n",
              "  .colab-df-quickchart {\n",
              "    background-color: var(--bg-color);\n",
              "    border: none;\n",
              "    border-radius: 50%;\n",
              "    cursor: pointer;\n",
              "    display: none;\n",
              "    fill: var(--fill-color);\n",
              "    height: 32px;\n",
              "    padding: 0;\n",
              "    width: 32px;\n",
              "  }\n",
              "\n",
              "  .colab-df-quickchart:hover {\n",
              "    background-color: var(--hover-bg-color);\n",
              "    box-shadow: 0 1px 2px rgba(60, 64, 67, 0.3), 0 1px 3px 1px rgba(60, 64, 67, 0.15);\n",
              "    fill: var(--button-hover-fill-color);\n",
              "  }\n",
              "\n",
              "  .colab-df-quickchart-complete:disabled,\n",
              "  .colab-df-quickchart-complete:disabled:hover {\n",
              "    background-color: var(--disabled-bg-color);\n",
              "    fill: var(--disabled-fill-color);\n",
              "    box-shadow: none;\n",
              "  }\n",
              "\n",
              "  .colab-df-spinner {\n",
              "    border: 2px solid var(--fill-color);\n",
              "    border-color: transparent;\n",
              "    border-bottom-color: var(--fill-color);\n",
              "    animation:\n",
              "      spin 1s steps(1) infinite;\n",
              "  }\n",
              "\n",
              "  @keyframes spin {\n",
              "    0% {\n",
              "      border-color: transparent;\n",
              "      border-bottom-color: var(--fill-color);\n",
              "      border-left-color: var(--fill-color);\n",
              "    }\n",
              "    20% {\n",
              "      border-color: transparent;\n",
              "      border-left-color: var(--fill-color);\n",
              "      border-top-color: var(--fill-color);\n",
              "    }\n",
              "    30% {\n",
              "      border-color: transparent;\n",
              "      border-left-color: var(--fill-color);\n",
              "      border-top-color: var(--fill-color);\n",
              "      border-right-color: var(--fill-color);\n",
              "    }\n",
              "    40% {\n",
              "      border-color: transparent;\n",
              "      border-right-color: var(--fill-color);\n",
              "      border-top-color: var(--fill-color);\n",
              "    }\n",
              "    60% {\n",
              "      border-color: transparent;\n",
              "      border-right-color: var(--fill-color);\n",
              "    }\n",
              "    80% {\n",
              "      border-color: transparent;\n",
              "      border-right-color: var(--fill-color);\n",
              "      border-bottom-color: var(--fill-color);\n",
              "    }\n",
              "    90% {\n",
              "      border-color: transparent;\n",
              "      border-bottom-color: var(--fill-color);\n",
              "    }\n",
              "  }\n",
              "</style>\n",
              "\n",
              "  <script>\n",
              "    async function quickchart(key) {\n",
              "      const quickchartButtonEl =\n",
              "        document.querySelector('#' + key + ' button');\n",
              "      quickchartButtonEl.disabled = true;  // To prevent multiple clicks.\n",
              "      quickchartButtonEl.classList.add('colab-df-spinner');\n",
              "      try {\n",
              "        const charts = await google.colab.kernel.invokeFunction(\n",
              "            'suggestCharts', [key], {});\n",
              "      } catch (error) {\n",
              "        console.error('Error during call to suggestCharts:', error);\n",
              "      }\n",
              "      quickchartButtonEl.classList.remove('colab-df-spinner');\n",
              "      quickchartButtonEl.classList.add('colab-df-quickchart-complete');\n",
              "    }\n",
              "    (() => {\n",
              "      let quickchartButtonEl =\n",
              "        document.querySelector('#df-61362b6c-3385-4780-b6d6-5b8954022fa7 button');\n",
              "      quickchartButtonEl.style.display =\n",
              "        google.colab.kernel.accessAllowed ? 'block' : 'none';\n",
              "    })();\n",
              "  </script>\n",
              "</div>\n",
              "    </div>\n",
              "  </div>\n"
            ],
            "application/vnd.google.colaboratory.intrinsic+json": {
              "type": "dataframe",
              "variable_name": "X",
              "summary": "{\n  \"name\": \"X\",\n  \"rows\": 1338,\n  \"fields\": [\n    {\n      \"column\": \"age\",\n      \"properties\": {\n        \"dtype\": \"number\",\n        \"std\": 14,\n        \"min\": 18,\n        \"max\": 64,\n        \"num_unique_values\": 47,\n        \"samples\": [\n          21,\n          45,\n          36\n        ],\n        \"semantic_type\": \"\",\n        \"description\": \"\"\n      }\n    },\n    {\n      \"column\": \"bmi\",\n      \"properties\": {\n        \"dtype\": \"number\",\n        \"std\": 6.098186911679014,\n        \"min\": 15.96,\n        \"max\": 53.13,\n        \"num_unique_values\": 548,\n        \"samples\": [\n          23.18,\n          26.885,\n          29.26\n        ],\n        \"semantic_type\": \"\",\n        \"description\": \"\"\n      }\n    },\n    {\n      \"column\": \"children\",\n      \"properties\": {\n        \"dtype\": \"number\",\n        \"std\": 1,\n        \"min\": 0,\n        \"max\": 5,\n        \"num_unique_values\": 6,\n        \"samples\": [\n          0,\n          1,\n          4\n        ],\n        \"semantic_type\": \"\",\n        \"description\": \"\"\n      }\n    },\n    {\n      \"column\": \"sex_female\",\n      \"properties\": {\n        \"dtype\": \"number\",\n        \"std\": 0,\n        \"min\": 0,\n        \"max\": 1,\n        \"num_unique_values\": 2,\n        \"samples\": [\n          0,\n          1\n        ],\n        \"semantic_type\": \"\",\n        \"description\": \"\"\n      }\n    },\n    {\n      \"column\": \"sex_male\",\n      \"properties\": {\n        \"dtype\": \"number\",\n        \"std\": 0,\n        \"min\": 0,\n        \"max\": 1,\n        \"num_unique_values\": 2,\n        \"samples\": [\n          1,\n          0\n        ],\n        \"semantic_type\": \"\",\n        \"description\": \"\"\n      }\n    },\n    {\n      \"column\": \"smoker_no\",\n      \"properties\": {\n        \"dtype\": \"number\",\n        \"std\": 0,\n        \"min\": 0,\n        \"max\": 1,\n        \"num_unique_values\": 2,\n        \"samples\": [\n          1,\n          0\n        ],\n        \"semantic_type\": \"\",\n        \"description\": \"\"\n      }\n    },\n    {\n      \"column\": \"smoker_yes\",\n      \"properties\": {\n        \"dtype\": \"number\",\n        \"std\": 0,\n        \"min\": 0,\n        \"max\": 1,\n        \"num_unique_values\": 2,\n        \"samples\": [\n          0,\n          1\n        ],\n        \"semantic_type\": \"\",\n        \"description\": \"\"\n      }\n    },\n    {\n      \"column\": \"region_northeast\",\n      \"properties\": {\n        \"dtype\": \"number\",\n        \"std\": 0,\n        \"min\": 0,\n        \"max\": 1,\n        \"num_unique_values\": 2,\n        \"samples\": [\n          1,\n          0\n        ],\n        \"semantic_type\": \"\",\n        \"description\": \"\"\n      }\n    },\n    {\n      \"column\": \"region_northwest\",\n      \"properties\": {\n        \"dtype\": \"number\",\n        \"std\": 0,\n        \"min\": 0,\n        \"max\": 1,\n        \"num_unique_values\": 2,\n        \"samples\": [\n          1,\n          0\n        ],\n        \"semantic_type\": \"\",\n        \"description\": \"\"\n      }\n    },\n    {\n      \"column\": \"region_southeast\",\n      \"properties\": {\n        \"dtype\": \"number\",\n        \"std\": 0,\n        \"min\": 0,\n        \"max\": 1,\n        \"num_unique_values\": 2,\n        \"samples\": [\n          1,\n          0\n        ],\n        \"semantic_type\": \"\",\n        \"description\": \"\"\n      }\n    },\n    {\n      \"column\": \"region_southwest\",\n      \"properties\": {\n        \"dtype\": \"number\",\n        \"std\": 0,\n        \"min\": 0,\n        \"max\": 1,\n        \"num_unique_values\": 2,\n        \"samples\": [\n          0,\n          1\n        ],\n        \"semantic_type\": \"\",\n        \"description\": \"\"\n      }\n    }\n  ]\n}"
            }
          },
          "metadata": {},
          "execution_count": 62
        }
      ]
    },
    {
      "cell_type": "code",
      "source": [
        "# View y\n",
        "y.head()"
      ],
      "metadata": {
        "colab": {
          "base_uri": "https://localhost:8080/"
        },
        "id": "abYqvg3MjU16",
        "outputId": "edec391e-9cf8-4889-a3e2-989bd4cf48fb"
      },
      "execution_count": 63,
      "outputs": [
        {
          "output_type": "execute_result",
          "data": {
            "text/plain": [
              "0    16884.92400\n",
              "1     1725.55230\n",
              "2     4449.46200\n",
              "3    21984.47061\n",
              "4     3866.85520\n",
              "Name: charges, dtype: float64"
            ]
          },
          "metadata": {},
          "execution_count": 63
        }
      ]
    },
    {
      "cell_type": "code",
      "source": [
        "# Create training and test sets\n",
        "from sklearn.model_selection import train_test_split\n",
        "X_train, X_test, y_train, y_test = train_test_split(X, y, test_size=0.2, random_state=42)"
      ],
      "metadata": {
        "id": "EYSVDUfVjiBE"
      },
      "execution_count": 64,
      "outputs": []
    },
    {
      "cell_type": "code",
      "source": [
        "# Build a neural network\n",
        "tf.random.set_seed(42)\n",
        "\n",
        "# 1. Create a model\n",
        "insurance_model = tf.keras.Sequential([\n",
        "    tf.keras.layers.Dense(10),\n",
        "    tf.keras.layers.Dense(1)\n",
        "])\n",
        "\n",
        "\n",
        "# 2. Compile the model\n",
        "insurance_model.compile(loss=tf.keras.losses.mae,\n",
        "                        optimizer=tf.keras.optimizers.SGD(),\n",
        "                        metrics=[\"mae\"])\n",
        "\n",
        "# 3. Fit the model\n",
        "insurance_model.fit(tf.expand_dims(X_train, axis=-1), y_train, epochs=100)"
      ],
      "metadata": {
        "id": "R551Ju6lkEvJ"
      },
      "execution_count": null,
      "outputs": []
    },
    {
      "cell_type": "code",
      "source": [
        "# Check the results of the insurance model on the test data\n",
        "insurance_model.evaluate(X_test, y_test)"
      ],
      "metadata": {
        "colab": {
          "base_uri": "https://localhost:8080/"
        },
        "id": "XR7bwShvlT8x",
        "outputId": "b0198a9e-ffd8-49f9-8102-b8b96fcff307"
      },
      "execution_count": 73,
      "outputs": [
        {
          "output_type": "stream",
          "name": "stdout",
          "text": [
            "9/9 [==============================] - 0s 4ms/step - loss: 8926.1357 - mae: 8926.1357\n"
          ]
        },
        {
          "output_type": "execute_result",
          "data": {
            "text/plain": [
              "[8926.1357421875, 8926.1357421875]"
            ]
          },
          "metadata": {},
          "execution_count": 73
        }
      ]
    },
    {
      "cell_type": "markdown",
      "source": [
        "**Let's Improve the model**\n",
        "\n",
        "To (try) improve our model, we'll run 2 experiments:\n",
        "1. Add an extra layer with more hidden units and use Adam optimizer.\n",
        "2. Same as above but Train for longer.\n",
        "\n"
      ],
      "metadata": {
        "id": "JpSOs5womRSg"
      }
    },
    {
      "cell_type": "markdown",
      "source": [
        "Experiment 1 -"
      ],
      "metadata": {
        "id": "_bXBzFjhm6gq"
      }
    },
    {
      "cell_type": "code",
      "source": [
        "# Build a neural network\n",
        "tf.random.set_seed(42)\n",
        "\n",
        "# 1. Create a model\n",
        "insurance_model_2 = tf.keras.Sequential([\n",
        "    tf.keras.layers.Dense(100),\n",
        "    tf.keras.layers.Dense(10),\n",
        "    tf.keras.layers.Dense(1)\n",
        "])\n",
        "\n",
        "\n",
        "# 2. Compile the model\n",
        "insurance_model_2.compile(loss=tf.keras.losses.mae,\n",
        "                        optimizer=tf.keras.optimizers.Adam(),\n",
        "                        metrics=[\"mae\"])\n",
        "\n",
        "# 3. Fit the model\n",
        "history = insurance_model_2.fit(tf.expand_dims(X_train, axis=-1), y_train, epochs=100)"
      ],
      "metadata": {
        "id": "GnBtsxbflgu8"
      },
      "execution_count": null,
      "outputs": []
    },
    {
      "cell_type": "code",
      "source": [
        "# Check the results of the insurance model on the test data\n",
        "insurance_model_2.evaluate(X_test, y_test)"
      ],
      "metadata": {
        "colab": {
          "base_uri": "https://localhost:8080/"
        },
        "id": "6iZphdtem1LS",
        "outputId": "687a4061-3c07-44ca-fddb-98065e6cc9dc"
      },
      "execution_count": 93,
      "outputs": [
        {
          "output_type": "stream",
          "name": "stdout",
          "text": [
            "9/9 [==============================] - 0s 2ms/step - loss: 8627.9062 - mae: 8627.9062\n"
          ]
        },
        {
          "output_type": "execute_result",
          "data": {
            "text/plain": [
              "[8627.90625, 8627.90625]"
            ]
          },
          "metadata": {},
          "execution_count": 93
        }
      ]
    },
    {
      "cell_type": "markdown",
      "source": [
        "Experiments 3 -"
      ],
      "metadata": {
        "id": "36f3e4zTnnlN"
      }
    },
    {
      "cell_type": "code",
      "source": [
        "# Build a neural network\n",
        "tf.random.set_seed(42)\n",
        "\n",
        "# 1. Create a model\n",
        "insurance_model_3 = tf.keras.Sequential([\n",
        "    tf.keras.layers.Dense(100),\n",
        "    tf.keras.layers.Dense(10),\n",
        "    tf.keras.layers.Dense(1)\n",
        "])\n",
        "\n",
        "\n",
        "# 2. Compile the model\n",
        "insurance_model_3.compile(loss=tf.keras.losses.mae,\n",
        "                        optimizer=tf.keras.optimizers.Adam(),\n",
        "                        metrics=[\"mae\"])\n",
        "\n",
        "# 3. Fit the model\n",
        "insurance_model_3.fit(tf.expand_dims(X_train, axis=-1), y_train, epochs=500)"
      ],
      "metadata": {
        "id": "AlEpO68Xm-ZS"
      },
      "execution_count": null,
      "outputs": []
    },
    {
      "cell_type": "code",
      "source": [
        "# Check the results of the insurance model on the test data\n",
        "insurance_model_3.evaluate(X_test, y_test)"
      ],
      "metadata": {
        "colab": {
          "base_uri": "https://localhost:8080/"
        },
        "id": "qY1afjyynyZl",
        "outputId": "58206d7c-439b-402c-f281-20ae6b103a58"
      },
      "execution_count": 91,
      "outputs": [
        {
          "output_type": "stream",
          "name": "stdout",
          "text": [
            "9/9 [==============================] - 0s 2ms/step - loss: 8631.8350 - mae: 8631.8350\n"
          ]
        },
        {
          "output_type": "execute_result",
          "data": {
            "text/plain": [
              "[8631.8349609375, 8631.8349609375]"
            ]
          },
          "metadata": {},
          "execution_count": 91
        }
      ]
    },
    {
      "cell_type": "code",
      "source": [
        "# Check the results of the insurance model on the test data\n",
        "insurance_model_2.evaluate(X_test, y_test)"
      ],
      "metadata": {
        "colab": {
          "base_uri": "https://localhost:8080/"
        },
        "id": "izH-VJ71pG20",
        "outputId": "726ac7ac-6b51-49a3-a3eb-940817971c59"
      },
      "execution_count": 94,
      "outputs": [
        {
          "output_type": "stream",
          "name": "stdout",
          "text": [
            "9/9 [==============================] - 0s 3ms/step - loss: 8627.9062 - mae: 8627.9062\n"
          ]
        },
        {
          "output_type": "execute_result",
          "data": {
            "text/plain": [
              "[8627.90625, 8627.90625]"
            ]
          },
          "metadata": {},
          "execution_count": 94
        }
      ]
    },
    {
      "cell_type": "code",
      "source": [
        "# Check the results of the insurance model on the test data\n",
        "insurance_model.evaluate(X_test, y_test)"
      ],
      "metadata": {
        "colab": {
          "base_uri": "https://localhost:8080/"
        },
        "id": "4vXkKPrVoq2N",
        "outputId": "157fcf69-916a-4a6a-dd02-a822975a91af"
      },
      "execution_count": 88,
      "outputs": [
        {
          "output_type": "stream",
          "name": "stdout",
          "text": [
            "9/9 [==============================] - 0s 2ms/step - loss: 8926.1357 - mae: 8926.1357\n"
          ]
        },
        {
          "output_type": "execute_result",
          "data": {
            "text/plain": [
              "[8926.1357421875, 8926.1357421875]"
            ]
          },
          "metadata": {},
          "execution_count": 88
        }
      ]
    },
    {
      "cell_type": "code",
      "source": [
        "# Plot history (also known as a loss curve or a training curve)\n",
        "pd.DataFrame(history.history).plot()\n",
        "plt.ylabel(\"loss\")\n",
        "plt.xlabel(\"epochs\")"
      ],
      "metadata": {
        "colab": {
          "base_uri": "https://localhost:8080/",
          "height": 466
        },
        "id": "d3zNOKsMpQuN",
        "outputId": "534c5dfa-8bf2-4e63-c14f-8cff840c9666"
      },
      "execution_count": 96,
      "outputs": [
        {
          "output_type": "execute_result",
          "data": {
            "text/plain": [
              "Text(0.5, 0, 'epochs')"
            ]
          },
          "metadata": {},
          "execution_count": 96
        },
        {
          "output_type": "display_data",
          "data": {
            "text/plain": [
              "<Figure size 640x480 with 1 Axes>"
            ],
            "image/png": "[encoded data removed]"
          },
          "metadata": {}
        }
      ]
    },
    {
      "cell_type": "markdown",
      "source": [
        "> **Question**: How Long should we train for?\n",
        "\n",
        "It depends on the problem you're working on. However, TensorFlow has a solution! It's called the EarlyStopping Callback"
      ],
      "metadata": {
        "id": "godbD_T8qAzT"
      }
    },
    {
      "cell_type": "markdown",
      "source": [
        "## Preprocessing Data (Normalization and Standardization)"
      ],
      "metadata": {
        "id": "AKmEblLCqudk"
      }
    },
    {
      "cell_type": "markdown",
      "source": [
        "* Scale (normalization)\n",
        "  * Converts all values to between 0 and 1 whilst preserving the original distribution.\n",
        "  * MinMaxScaler (sklearn funciton).\n",
        "  * Use as default scaler with neural networks.\n",
        "\n",
        "* Standardization\n",
        "  * Removes the mean and divides each value by the standard deviation.\n",
        "  * StandardScaler (sklearn function).\n",
        "  * Transform a feature to have close to normal distribution (caution: This reduces the effect of Outliers)."
      ],
      "metadata": {
        "id": "OXu5LCvMriAF"
      }
    },
    {
      "cell_type": "code",
      "source": [
        "import pandas as pd\n",
        "import matplotlib.pyplot as plt\n",
        "import tensorflow as tf\n",
        "\n",
        "# Read the insurance dataset\n",
        "insurance = pd.read_csv(\"https://raw.githubusercontent.com/stedy/Machine-Learning-with-R-datasets/master/insurance.csv\")\n",
        "insurance.head()"
      ],
      "metadata": {
        "colab": {
          "base_uri": "https://localhost:8080/",
          "height": 206
        },
        "id": "HNMQIK8HqYXK",
        "outputId": "a57cf72b-cd7b-4bb8-8479-c2283242e2bb"
      },
      "execution_count": 99,
      "outputs": [
        {
          "output_type": "execute_result",
          "data": {
            "text/plain": [
              "   age     sex     bmi  children smoker     region      charges\n",
              "0   19  female  27.900         0    yes  southwest  16884.92400\n",
              "1   18    male  33.770         1     no  southeast   1725.55230\n",
              "2   28    male  33.000         3     no  southeast   4449.46200\n",
              "3   33    male  22.705         0     no  northwest  21984.47061\n",
              "4   32    male  28.880         0     no  northwest   3866.85520"
            ],
            "text/html": [
              "\n",
              "  <div id=\"df-1bbc7d6a-ffb4-47de-b7ae-0eb6e036d502\" class=\"colab-df-container\">\n",
              "    <div>\n",
              "<style scoped>\n",
              "    .dataframe tbody tr th:only-of-type {\n",
              "        vertical-align: middle;\n",
              "    }\n",
              "\n",
              "    .dataframe tbody tr th {\n",
              "        vertical-align: top;\n",
              "    }\n",
              "\n",
              "    .dataframe thead th {\n",
              "        text-align: right;\n",
              "    }\n",
              "</style>\n",
              "<table border=\"1\" class=\"dataframe\">\n",
              "  <thead>\n",
              "    <tr style=\"text-align: right;\">\n",
              "      <th></th>\n",
              "      <th>age</th>\n",
              "      <th>sex</th>\n",
              "      <th>bmi</th>\n",
              "      <th>children</th>\n",
              "      <th>smoker</th>\n",
              "      <th>region</th>\n",
              "      <th>charges</th>\n",
              "    </tr>\n",
              "  </thead>\n",
              "  <tbody>\n",
              "    <tr>\n",
              "      <th>0</th>\n",
              "      <td>19</td>\n",
              "      <td>female</td>\n",
              "      <td>27.900</td>\n",
              "      <td>0</td>\n",
              "      <td>yes</td>\n",
              "      <td>southwest</td>\n",
              "      <td>16884.92400</td>\n",
              "    </tr>\n",
              "    <tr>\n",
              "      <th>1</th>\n",
              "      <td>18</td>\n",
              "      <td>male</td>\n",
              "      <td>33.770</td>\n",
              "      <td>1</td>\n",
              "      <td>no</td>\n",
              "      <td>southeast</td>\n",
              "      <td>1725.55230</td>\n",
              "    </tr>\n",
              "    <tr>\n",
              "      <th>2</th>\n",
              "      <td>28</td>\n",
              "      <td>male</td>\n",
              "      <td>33.000</td>\n",
              "      <td>3</td>\n",
              "      <td>no</td>\n",
              "      <td>southeast</td>\n",
              "      <td>4449.46200</td>\n",
              "    </tr>\n",
              "    <tr>\n",
              "      <th>3</th>\n",
              "      <td>33</td>\n",
              "      <td>male</td>\n",
              "      <td>22.705</td>\n",
              "      <td>0</td>\n",
              "      <td>no</td>\n",
              "      <td>northwest</td>\n",
              "      <td>21984.47061</td>\n",
              "    </tr>\n",
              "    <tr>\n",
              "      <th>4</th>\n",
              "      <td>32</td>\n",
              "      <td>male</td>\n",
              "      <td>28.880</td>\n",
              "      <td>0</td>\n",
              "      <td>no</td>\n",
              "      <td>northwest</td>\n",
              "      <td>3866.85520</td>\n",
              "    </tr>\n",
              "  </tbody>\n",
              "</table>\n",
              "</div>\n",
              "    <div class=\"colab-df-buttons\">\n",
              "\n",
              "  <div class=\"colab-df-container\">\n",
              "    <button class=\"colab-df-convert\" onclick=\"convertToInteractive('df-1bbc7d6a-ffb4-47de-b7ae-0eb6e036d502')\"\n",
              "            title=\"Convert this dataframe to an interactive table.\"\n",
              "            style=\"display:none;\">\n",
              "\n",
              "  <svg xmlns=\"http://www.w3.org/2000/svg\" height=\"24px\" viewBox=\"0 -960 960 960\">\n",
              "    <path d=\"M120-120v-720h720v720H120Zm60-500h600v-160H180v160Zm220 220h160v-160H400v160Zm0 220h160v-160H400v160ZM180-400h160v-160H180v160Zm440 0h160v-160H620v160ZM180-180h160v-160H180v160Zm440 0h160v-160H620v160Z\"/>\n",
              "  </svg>\n",
              "    </button>\n",
              "\n",
              "  <style>\n",
              "    .colab-df-container {\n",
              "      display:flex;\n",
              "      gap: 12px;\n",
              "    }\n",
              "\n",
              "    .colab-df-convert {\n",
              "      background-color: #E8F0FE;\n",
              "      border: none;\n",
              "      border-radius: 50%;\n",
              "      cursor: pointer;\n",
              "      display: none;\n",
              "      fill: #1967D2;\n",
              "      height: 32px;\n",
              "      padding: 0 0 0 0;\n",
              "      width: 32px;\n",
              "    }\n",
              "\n",
              "    .colab-df-convert:hover {\n",
              "      background-color: #E2EBFA;\n",
              "      box-shadow: 0px 1px 2px rgba(60, 64, 67, 0.3), 0px 1px 3px 1px rgba(60, 64, 67, 0.15);\n",
              "      fill: #174EA6;\n",
              "    }\n",
              "\n",
              "    .colab-df-buttons div {\n",
              "      margin-bottom: 4px;\n",
              "    }\n",
              "\n",
              "    [theme=dark] .colab-df-convert {\n",
              "      background-color: #3B4455;\n",
              "      fill: #D2E3FC;\n",
              "    }\n",
              "\n",
              "    [theme=dark] .colab-df-convert:hover {\n",
              "      background-color: #434B5C;\n",
              "      box-shadow: 0px 1px 3px 1px rgba(0, 0, 0, 0.15);\n",
              "      filter: drop-shadow(0px 1px 2px rgba(0, 0, 0, 0.3));\n",
              "      fill: #FFFFFF;\n",
              "    }\n",
              "  </style>\n",
              "\n",
              "    <script>\n",
              "      const buttonEl =\n",
              "        document.querySelector('#df-1bbc7d6a-ffb4-47de-b7ae-0eb6e036d502 button.colab-df-convert');\n",
              "      buttonEl.style.display =\n",
              "        google.colab.kernel.accessAllowed ? 'block' : 'none';\n",
              "\n",
              "      async function convertToInteractive(key) {\n",
              "        const element = document.querySelector('#df-1bbc7d6a-ffb4-47de-b7ae-0eb6e036d502');\n",
              "        const dataTable =\n",
              "          await google.colab.kernel.invokeFunction('convertToInteractive',\n",
              "                                                    [key], {});\n",
              "        if (!dataTable) return;\n",
              "\n",
              "        const docLinkHtml = 'Like what you see? Visit the ' +\n",
              "          '<a target=\"_blank\" href=https://colab.research.google.com/notebooks/data_table.ipynb>data table notebook</a>'\n",
              "          + ' to learn more about interactive tables.';\n",
              "        element.innerHTML = '';\n",
              "        dataTable['output_type'] = 'display_data';\n",
              "        await google.colab.output.renderOutput(dataTable, element);\n",
              "        const docLink = document.createElement('div');\n",
              "        docLink.innerHTML = docLinkHtml;\n",
              "        element.appendChild(docLink);\n",
              "      }\n",
              "    </script>\n",
              "  </div>\n",
              "\n",
              "\n",
              "<div id=\"df-30da4c8c-cf05-4cf0-80c3-94a16a42dad6\">\n",
              "  <button class=\"colab-df-quickchart\" onclick=\"quickchart('df-30da4c8c-cf05-4cf0-80c3-94a16a42dad6')\"\n",
              "            title=\"Suggest charts\"\n",
              "            style=\"display:none;\">\n",
              "\n",
              "<svg xmlns=\"http://www.w3.org/2000/svg\" height=\"24px\"viewBox=\"0 0 24 24\"\n",
              "     width=\"24px\">\n",
              "    <g>\n",
              "        <path d=\"M19 3H5c-1.1 0-2 .9-2 2v14c0 1.1.9 2 2 2h14c1.1 0 2-.9 2-2V5c0-1.1-.9-2-2-2zM9 17H7v-7h2v7zm4 0h-2V7h2v10zm4 0h-2v-4h2v4z\"/>\n",
              "    </g>\n",
              "</svg>\n",
              "  </button>\n",
              "\n",
              "<style>\n",
              "  .colab-df-quickchart {\n",
              "      --bg-color: #E8F0FE;\n",
              "      --fill-color: #1967D2;\n",
              "      --hover-bg-color: #E2EBFA;\n",
              "      --hover-fill-color: #174EA6;\n",
              "      --disabled-fill-color: #AAA;\n",
              "      --disabled-bg-color: #DDD;\n",
              "  }\n",
              "\n",
              "  [theme=dark] .colab-df-quickchart {\n",
              "      --bg-color: #3B4455;\n",
              "      --fill-color: #D2E3FC;\n",
              "      --hover-bg-color: #434B5C;\n",
              "      --hover-fill-color: #FFFFFF;\n",
              "      --disabled-bg-color: #3B4455;\n",
              "      --disabled-fill-color: #666;\n",
              "  }\n",
              "\n",
              "  .colab-df-quickchart {\n",
              "    background-color: var(--bg-color);\n",
              "    border: none;\n",
              "    border-radius: 50%;\n",
              "    cursor: pointer;\n",
              "    display: none;\n",
              "    fill: var(--fill-color);\n",
              "    height: 32px;\n",
              "    padding: 0;\n",
              "    width: 32px;\n",
              "  }\n",
              "\n",
              "  .colab-df-quickchart:hover {\n",
              "    background-color: var(--hover-bg-color);\n",
              "    box-shadow: 0 1px 2px rgba(60, 64, 67, 0.3), 0 1px 3px 1px rgba(60, 64, 67, 0.15);\n",
              "    fill: var(--button-hover-fill-color);\n",
              "  }\n",
              "\n",
              "  .colab-df-quickchart-complete:disabled,\n",
              "  .colab-df-quickchart-complete:disabled:hover {\n",
              "    background-color: var(--disabled-bg-color);\n",
              "    fill: var(--disabled-fill-color);\n",
              "    box-shadow: none;\n",
              "  }\n",
              "\n",
              "  .colab-df-spinner {\n",
              "    border: 2px solid var(--fill-color);\n",
              "    border-color: transparent;\n",
              "    border-bottom-color: var(--fill-color);\n",
              "    animation:\n",
              "      spin 1s steps(1) infinite;\n",
              "  }\n",
              "\n",
              "  @keyframes spin {\n",
              "    0% {\n",
              "      border-color: transparent;\n",
              "      border-bottom-color: var(--fill-color);\n",
              "      border-left-color: var(--fill-color);\n",
              "    }\n",
              "    20% {\n",
              "      border-color: transparent;\n",
              "      border-left-color: var(--fill-color);\n",
              "      border-top-color: var(--fill-color);\n",
              "    }\n",
              "    30% {\n",
              "      border-color: transparent;\n",
              "      border-left-color: var(--fill-color);\n",
              "      border-top-color: var(--fill-color);\n",
              "      border-right-color: var(--fill-color);\n",
              "    }\n",
              "    40% {\n",
              "      border-color: transparent;\n",
              "      border-right-color: var(--fill-color);\n",
              "      border-top-color: var(--fill-color);\n",
              "    }\n",
              "    60% {\n",
              "      border-color: transparent;\n",
              "      border-right-color: var(--fill-color);\n",
              "    }\n",
              "    80% {\n",
              "      border-color: transparent;\n",
              "      border-right-color: var(--fill-color);\n",
              "      border-bottom-color: var(--fill-color);\n",
              "    }\n",
              "    90% {\n",
              "      border-color: transparent;\n",
              "      border-bottom-color: var(--fill-color);\n",
              "    }\n",
              "  }\n",
              "</style>\n",
              "\n",
              "  <script>\n",
              "    async function quickchart(key) {\n",
              "      const quickchartButtonEl =\n",
              "        document.querySelector('#' + key + ' button');\n",
              "      quickchartButtonEl.disabled = true;  // To prevent multiple clicks.\n",
              "      quickchartButtonEl.classList.add('colab-df-spinner');\n",
              "      try {\n",
              "        const charts = await google.colab.kernel.invokeFunction(\n",
              "            'suggestCharts', [key], {});\n",
              "      } catch (error) {\n",
              "        console.error('Error during call to suggestCharts:', error);\n",
              "      }\n",
              "      quickchartButtonEl.classList.remove('colab-df-spinner');\n",
              "      quickchartButtonEl.classList.add('colab-df-quickchart-complete');\n",
              "    }\n",
              "    (() => {\n",
              "      let quickchartButtonEl =\n",
              "        document.querySelector('#df-30da4c8c-cf05-4cf0-80c3-94a16a42dad6 button');\n",
              "      quickchartButtonEl.style.display =\n",
              "        google.colab.kernel.accessAllowed ? 'block' : 'none';\n",
              "    })();\n",
              "  </script>\n",
              "</div>\n",
              "    </div>\n",
              "  </div>\n"
            ],
            "application/vnd.google.colaboratory.intrinsic+json": {
              "type": "dataframe",
              "variable_name": "insurance",
              "summary": "{\n  \"name\": \"insurance\",\n  \"rows\": 1338,\n  \"fields\": [\n    {\n      \"column\": \"age\",\n      \"properties\": {\n        \"dtype\": \"number\",\n        \"std\": 14,\n        \"min\": 18,\n        \"max\": 64,\n        \"num_unique_values\": 47,\n        \"samples\": [\n          21,\n          45,\n          36\n        ],\n        \"semantic_type\": \"\",\n        \"description\": \"\"\n      }\n    },\n    {\n      \"column\": \"sex\",\n      \"properties\": {\n        \"dtype\": \"category\",\n        \"num_unique_values\": 2,\n        \"samples\": [\n          \"male\",\n          \"female\"\n        ],\n        \"semantic_type\": \"\",\n        \"description\": \"\"\n      }\n    },\n    {\n      \"column\": \"bmi\",\n      \"properties\": {\n        \"dtype\": \"number\",\n        \"std\": 6.098186911679014,\n        \"min\": 15.96,\n        \"max\": 53.13,\n        \"num_unique_values\": 548,\n        \"samples\": [\n          23.18,\n          26.885\n        ],\n        \"semantic_type\": \"\",\n        \"description\": \"\"\n      }\n    },\n    {\n      \"column\": \"children\",\n      \"properties\": {\n        \"dtype\": \"number\",\n        \"std\": 1,\n        \"min\": 0,\n        \"max\": 5,\n        \"num_unique_values\": 6,\n        \"samples\": [\n          0,\n          1\n        ],\n        \"semantic_type\": \"\",\n        \"description\": \"\"\n      }\n    },\n    {\n      \"column\": \"smoker\",\n      \"properties\": {\n        \"dtype\": \"category\",\n        \"num_unique_values\": 2,\n        \"samples\": [\n          \"no\",\n          \"yes\"\n        ],\n        \"semantic_type\": \"\",\n        \"description\": \"\"\n      }\n    },\n    {\n      \"column\": \"region\",\n      \"properties\": {\n        \"dtype\": \"category\",\n        \"num_unique_values\": 4,\n        \"samples\": [\n          \"southeast\",\n          \"northeast\"\n        ],\n        \"semantic_type\": \"\",\n        \"description\": \"\"\n      }\n    },\n    {\n      \"column\": \"charges\",\n      \"properties\": {\n        \"dtype\": \"number\",\n        \"std\": 12110.011236694001,\n        \"min\": 1121.8739,\n        \"max\": 63770.42801,\n        \"num_unique_values\": 1337,\n        \"samples\": [\n          8688.85885,\n          5708.867\n        ],\n        \"semantic_type\": \"\",\n        \"description\": \"\"\n      }\n    }\n  ]\n}"
            }
          },
          "metadata": {},
          "execution_count": 99
        }
      ]
    },
    {
      "cell_type": "code",
      "source": [
        "from sklearn.preprocessing import MinMaxScaler, OneHotEncoder\n",
        "from sklearn.compose import make_column_transformer\n",
        "from sklearn.model_selection import train_test_split\n",
        "\n",
        "# Create a column transformer\n",
        "ct = make_column_transformer(\n",
        "    (MinMaxScaler(), [\"age\", \"bmi\", \"children\"]), # Turn all values in these columns between 0 and 1\n",
        "    (OneHotEncoder(handle_unknown=\"ignore\"), [\"sex\", \"smoker\", \"region\"])\n",
        ")\n",
        "\n",
        "# Create X and y\n",
        "X = insurance.drop(\"charges\", axis=1)\n",
        "y = insurance[\"charges\"]\n",
        "\n",
        "# Create training and test sets\n",
        "X_train, X_test, y_train, y_test = train_test_split(X, y, test_size=0.2, random_state=42)\n",
        "\n",
        "# Fit the column transformer to our training data\n",
        "ct.fit(X_train)\n",
        "\n",
        "# Transform training and test data with normalization\n",
        "X_train_normal = ct.transform(X_train)\n",
        "X_test_normal = ct.transform(X_test)"
      ],
      "metadata": {
        "id": "-bfxH13as7-i"
      },
      "execution_count": 103,
      "outputs": []
    },
    {
      "cell_type": "code",
      "source": [
        "# Build a neural network model to fit on normalized data\n",
        "\n",
        "tf.random.set_seed(42)\n",
        "\n",
        "# 1. Create a model\n",
        "insurance_model_4 = tf.keras.Sequential([\n",
        "    tf.keras.layers.Dense(100),\n",
        "    tf.keras.layers.Dense(10),\n",
        "    tf.keras.layers.Dense(1)\n",
        "])\n",
        "\n",
        "\n",
        "# 2. Compile the model\n",
        "insurance_model_4.compile(loss=tf.keras.losses.mae,\n",
        "                        optimizer=tf.keras.optimizers.Adam(),\n",
        "                        metrics=[\"mae\"])\n",
        "\n",
        "# 3. Fit the model\n",
        "history = insurance_model_4.fit(tf.expand_dims(X_train_normal, axis=-1), y_train, epochs=100)"
      ],
      "metadata": {
        "colab": {
          "base_uri": "https://localhost:8080/"
        },
        "id": "ehiHA_CvvGka",
        "outputId": "ecc0201d-6e31-494c-8994-83e2543c714e"
      },
      "execution_count": 108,
      "outputs": [
        {
          "output_type": "stream",
          "name": "stdout",
          "text": [
            "Epoch 1/100\n",
            "34/34 [==============================] - 1s 2ms/step - loss: 13345.2939 - mae: 13345.2939\n",
            "Epoch 2/100\n",
            "34/34 [==============================] - 0s 2ms/step - loss: 13342.5928 - mae: 13342.5928\n",
            "Epoch 3/100\n",
            "34/34 [==============================] - 0s 2ms/step - loss: 13336.1914 - mae: 13336.1914\n",
            "Epoch 4/100\n",
            "34/34 [==============================] - 0s 2ms/step - loss: 13323.2021 - mae: 13323.2021\n",
            "Epoch 5/100\n",
            "34/34 [==============================] - 0s 2ms/step - loss: 13300.5859 - mae: 13300.5859\n",
            "Epoch 6/100\n",
            "34/34 [==============================] - 0s 2ms/step - loss: 13265.1699 - mae: 13265.1699\n",
            "Epoch 7/100\n",
            "34/34 [==============================] - 0s 2ms/step - loss: 13214.0869 - mae: 13214.0869\n",
            "Epoch 8/100\n",
            "34/34 [==============================] - 0s 2ms/step - loss: 13144.6230 - mae: 13144.6230\n",
            "Epoch 9/100\n",
            "34/34 [==============================] - 0s 2ms/step - loss: 13054.1035 - mae: 13054.1035\n",
            "Epoch 10/100\n",
            "34/34 [==============================] - 0s 2ms/step - loss: 12939.9873 - mae: 12939.9873\n",
            "Epoch 11/100\n",
            "34/34 [==============================] - 0s 2ms/step - loss: 12799.7793 - mae: 12799.7793\n",
            "Epoch 12/100\n",
            "34/34 [==============================] - 0s 2ms/step - loss: 12631.0947 - mae: 12631.0947\n",
            "Epoch 13/100\n",
            "34/34 [==============================] - 0s 2ms/step - loss: 12434.0156 - mae: 12434.0156\n",
            "Epoch 14/100\n",
            "34/34 [==============================] - 0s 2ms/step - loss: 12208.4375 - mae: 12208.4375\n",
            "Epoch 15/100\n",
            "34/34 [==============================] - 0s 2ms/step - loss: 11961.4365 - mae: 11961.4365\n",
            "Epoch 16/100\n",
            "34/34 [==============================] - 0s 2ms/step - loss: 11697.6816 - mae: 11697.6816\n",
            "Epoch 17/100\n",
            "34/34 [==============================] - 0s 2ms/step - loss: 11421.4561 - mae: 11421.4561\n",
            "Epoch 18/100\n",
            "34/34 [==============================] - 0s 2ms/step - loss: 11133.8066 - mae: 11133.8066\n",
            "Epoch 19/100\n",
            "34/34 [==============================] - 0s 2ms/step - loss: 10846.3633 - mae: 10846.3633\n",
            "Epoch 20/100\n",
            "34/34 [==============================] - 0s 2ms/step - loss: 10569.2051 - mae: 10569.2051\n",
            "Epoch 21/100\n",
            "34/34 [==============================] - 0s 2ms/step - loss: 10303.5469 - mae: 10303.5469\n",
            "Epoch 22/100\n",
            "34/34 [==============================] - 0s 4ms/step - loss: 10052.6689 - mae: 10052.6689\n",
            "Epoch 23/100\n",
            "34/34 [==============================] - 0s 3ms/step - loss: 9814.8311 - mae: 9814.8311\n",
            "Epoch 24/100\n",
            "34/34 [==============================] - 0s 3ms/step - loss: 9591.2676 - mae: 9591.2676\n",
            "Epoch 25/100\n",
            "34/34 [==============================] - 0s 4ms/step - loss: 9401.9082 - mae: 9401.9082\n",
            "Epoch 26/100\n",
            "34/34 [==============================] - 0s 4ms/step - loss: 9224.5068 - mae: 9224.5068\n",
            "Epoch 27/100\n",
            "34/34 [==============================] - 0s 4ms/step - loss: 9078.7627 - mae: 9078.7627\n",
            "Epoch 28/100\n",
            "34/34 [==============================] - 0s 4ms/step - loss: 8958.2471 - mae: 8958.2471\n",
            "Epoch 29/100\n",
            "34/34 [==============================] - 0s 3ms/step - loss: 8859.4375 - mae: 8859.4375\n",
            "Epoch 30/100\n",
            "34/34 [==============================] - 0s 6ms/step - loss: 8781.4004 - mae: 8781.4004\n",
            "Epoch 31/100\n",
            "34/34 [==============================] - 0s 4ms/step - loss: 8719.3535 - mae: 8719.3535\n",
            "Epoch 32/100\n",
            "34/34 [==============================] - 0s 6ms/step - loss: 8673.6914 - mae: 8673.6914\n",
            "Epoch 33/100\n",
            "34/34 [==============================] - 0s 6ms/step - loss: 8636.5576 - mae: 8636.5576\n",
            "Epoch 34/100\n",
            "34/34 [==============================] - 0s 5ms/step - loss: 8608.6514 - mae: 8608.6514\n",
            "Epoch 35/100\n",
            "34/34 [==============================] - 0s 5ms/step - loss: 8585.3662 - mae: 8585.3662\n",
            "Epoch 36/100\n",
            "34/34 [==============================] - 0s 5ms/step - loss: 8566.5654 - mae: 8566.5654\n",
            "Epoch 37/100\n",
            "34/34 [==============================] - 0s 7ms/step - loss: 8551.5176 - mae: 8551.5176\n",
            "Epoch 38/100\n",
            "34/34 [==============================] - 0s 5ms/step - loss: 8538.6777 - mae: 8538.6777\n",
            "Epoch 39/100\n",
            "34/34 [==============================] - 0s 5ms/step - loss: 8526.2793 - mae: 8526.2793\n",
            "Epoch 40/100\n",
            "34/34 [==============================] - 0s 5ms/step - loss: 8515.3584 - mae: 8515.3584\n",
            "Epoch 41/100\n",
            "34/34 [==============================] - 0s 6ms/step - loss: 8505.7070 - mae: 8505.7070\n",
            "Epoch 42/100\n",
            "34/34 [==============================] - 0s 4ms/step - loss: 8496.1006 - mae: 8496.1006\n",
            "Epoch 43/100\n",
            "34/34 [==============================] - 0s 7ms/step - loss: 8486.7295 - mae: 8486.7295\n",
            "Epoch 44/100\n",
            "34/34 [==============================] - 0s 5ms/step - loss: 8477.3770 - mae: 8477.3770\n",
            "Epoch 45/100\n",
            "34/34 [==============================] - 0s 5ms/step - loss: 8469.2871 - mae: 8469.2871\n",
            "Epoch 46/100\n",
            "34/34 [==============================] - 0s 6ms/step - loss: 8460.8633 - mae: 8460.8633\n",
            "Epoch 47/100\n",
            "34/34 [==============================] - 0s 4ms/step - loss: 8454.0723 - mae: 8454.0723\n",
            "Epoch 48/100\n",
            "34/34 [==============================] - 0s 3ms/step - loss: 8444.6201 - mae: 8444.6201\n",
            "Epoch 49/100\n",
            "34/34 [==============================] - 0s 3ms/step - loss: 8437.7051 - mae: 8437.7051\n",
            "Epoch 50/100\n",
            "34/34 [==============================] - 0s 4ms/step - loss: 8430.0420 - mae: 8430.0420\n",
            "Epoch 51/100\n",
            "34/34 [==============================] - 0s 3ms/step - loss: 8425.2939 - mae: 8425.2939\n",
            "Epoch 52/100\n",
            "34/34 [==============================] - 0s 4ms/step - loss: 8417.0234 - mae: 8417.0234\n",
            "Epoch 53/100\n",
            "34/34 [==============================] - 0s 8ms/step - loss: 8411.1475 - mae: 8411.1475\n",
            "Epoch 54/100\n",
            "34/34 [==============================] - 0s 6ms/step - loss: 8405.1846 - mae: 8405.1846\n",
            "Epoch 55/100\n",
            "34/34 [==============================] - 0s 7ms/step - loss: 8399.4023 - mae: 8399.4023\n",
            "Epoch 56/100\n",
            "34/34 [==============================] - 0s 6ms/step - loss: 8393.5479 - mae: 8393.5479\n",
            "Epoch 57/100\n",
            "34/34 [==============================] - 0s 5ms/step - loss: 8388.1221 - mae: 8388.1221\n",
            "Epoch 58/100\n",
            "34/34 [==============================] - 0s 6ms/step - loss: 8383.0312 - mae: 8383.0312\n",
            "Epoch 59/100\n",
            "34/34 [==============================] - 0s 5ms/step - loss: 8378.8789 - mae: 8378.8789\n",
            "Epoch 60/100\n",
            "34/34 [==============================] - 0s 2ms/step - loss: 8373.3760 - mae: 8373.3760\n",
            "Epoch 61/100\n",
            "34/34 [==============================] - 0s 2ms/step - loss: 8369.1113 - mae: 8369.1113\n",
            "Epoch 62/100\n",
            "34/34 [==============================] - 0s 2ms/step - loss: 8364.0742 - mae: 8364.0742\n",
            "Epoch 63/100\n",
            "34/34 [==============================] - 0s 2ms/step - loss: 8360.2178 - mae: 8360.2178\n",
            "Epoch 64/100\n",
            "34/34 [==============================] - 0s 2ms/step - loss: 8355.8369 - mae: 8355.8369\n",
            "Epoch 65/100\n",
            "34/34 [==============================] - 0s 2ms/step - loss: 8352.0322 - mae: 8352.0322\n",
            "Epoch 66/100\n",
            "34/34 [==============================] - 0s 2ms/step - loss: 8348.3330 - mae: 8348.3330\n",
            "Epoch 67/100\n",
            "34/34 [==============================] - 0s 3ms/step - loss: 8344.7012 - mae: 8344.7012\n",
            "Epoch 68/100\n",
            "34/34 [==============================] - 0s 2ms/step - loss: 8340.9365 - mae: 8340.9365\n",
            "Epoch 69/100\n",
            "34/34 [==============================] - 0s 2ms/step - loss: 8337.3779 - mae: 8337.3779\n",
            "Epoch 70/100\n",
            "34/34 [==============================] - 0s 2ms/step - loss: 8334.4805 - mae: 8334.4805\n",
            "Epoch 71/100\n",
            "34/34 [==============================] - 0s 2ms/step - loss: 8330.6973 - mae: 8330.6973\n",
            "Epoch 72/100\n",
            "34/34 [==============================] - 0s 2ms/step - loss: 8327.8379 - mae: 8327.8379\n",
            "Epoch 73/100\n",
            "34/34 [==============================] - 0s 2ms/step - loss: 8324.4424 - mae: 8324.4424\n",
            "Epoch 74/100\n",
            "34/34 [==============================] - 0s 2ms/step - loss: 8321.5918 - mae: 8321.5918\n",
            "Epoch 75/100\n",
            "34/34 [==============================] - 0s 2ms/step - loss: 8318.7314 - mae: 8318.7314\n",
            "Epoch 76/100\n",
            "34/34 [==============================] - 0s 2ms/step - loss: 8316.7900 - mae: 8316.7900\n",
            "Epoch 77/100\n",
            "34/34 [==============================] - 0s 2ms/step - loss: 8313.7617 - mae: 8313.7617\n",
            "Epoch 78/100\n",
            "34/34 [==============================] - 0s 2ms/step - loss: 8311.6865 - mae: 8311.6865\n",
            "Epoch 79/100\n",
            "34/34 [==============================] - 0s 2ms/step - loss: 8309.1064 - mae: 8309.1064\n",
            "Epoch 80/100\n",
            "34/34 [==============================] - 0s 2ms/step - loss: 8306.8779 - mae: 8306.8779\n",
            "Epoch 81/100\n",
            "34/34 [==============================] - 0s 2ms/step - loss: 8304.9404 - mae: 8304.9404\n",
            "Epoch 82/100\n",
            "34/34 [==============================] - 0s 2ms/step - loss: 8306.0908 - mae: 8306.0908\n",
            "Epoch 83/100\n",
            "34/34 [==============================] - 0s 2ms/step - loss: 8302.1230 - mae: 8302.1230\n",
            "Epoch 84/100\n",
            "34/34 [==============================] - 0s 2ms/step - loss: 8299.4033 - mae: 8299.4033\n",
            "Epoch 85/100\n",
            "34/34 [==============================] - 0s 2ms/step - loss: 8299.3545 - mae: 8299.3545\n",
            "Epoch 86/100\n",
            "34/34 [==============================] - 0s 2ms/step - loss: 8296.9619 - mae: 8296.9619\n",
            "Epoch 87/100\n",
            "34/34 [==============================] - 0s 2ms/step - loss: 8296.0801 - mae: 8296.0801\n",
            "Epoch 88/100\n",
            "34/34 [==============================] - 0s 2ms/step - loss: 8294.3037 - mae: 8294.3037\n",
            "Epoch 89/100\n",
            "34/34 [==============================] - 0s 2ms/step - loss: 8293.0645 - mae: 8293.0645\n",
            "Epoch 90/100\n",
            "34/34 [==============================] - 0s 2ms/step - loss: 8293.3223 - mae: 8293.3223\n",
            "Epoch 91/100\n",
            "34/34 [==============================] - 0s 2ms/step - loss: 8291.0908 - mae: 8291.0908\n",
            "Epoch 92/100\n",
            "34/34 [==============================] - 0s 2ms/step - loss: 8291.0850 - mae: 8291.0850\n",
            "Epoch 93/100\n",
            "34/34 [==============================] - 0s 2ms/step - loss: 8289.9043 - mae: 8289.9043\n",
            "Epoch 94/100\n",
            "34/34 [==============================] - 0s 2ms/step - loss: 8289.8115 - mae: 8289.8115\n",
            "Epoch 95/100\n",
            "34/34 [==============================] - 0s 2ms/step - loss: 8289.1299 - mae: 8289.1299\n",
            "Epoch 96/100\n",
            "34/34 [==============================] - 0s 2ms/step - loss: 8287.5615 - mae: 8287.5615\n",
            "Epoch 97/100\n",
            "34/34 [==============================] - 0s 2ms/step - loss: 8287.9150 - mae: 8287.9150\n",
            "Epoch 98/100\n",
            "34/34 [==============================] - 0s 2ms/step - loss: 8286.5830 - mae: 8286.5830\n",
            "Epoch 99/100\n",
            "34/34 [==============================] - 0s 2ms/step - loss: 8286.6104 - mae: 8286.6104\n",
            "Epoch 100/100\n",
            "34/34 [==============================] - 0s 2ms/step - loss: 8285.5850 - mae: 8285.5850\n"
          ]
        }
      ]
    },
    {
      "cell_type": "code",
      "source": [
        "# Check the results of the insurance model on the test data\n",
        "insurance_model_4.evaluate(X_test_normal, y_test)"
      ],
      "metadata": {
        "colab": {
          "base_uri": "https://localhost:8080/"
        },
        "id": "ixivcD4mv0JZ",
        "outputId": "186d797b-ec90-40a3-8424-62d7c27bb1c3"
      },
      "execution_count": 109,
      "outputs": [
        {
          "output_type": "stream",
          "name": "stdout",
          "text": [
            "9/9 [==============================] - 0s 2ms/step - loss: 8622.0215 - mae: 8622.0215\n"
          ]
        },
        {
          "output_type": "execute_result",
          "data": {
            "text/plain": [
              "[8622.021484375, 8622.021484375]"
            ]
          },
          "metadata": {},
          "execution_count": 109
        }
      ]
    },
    {
      "cell_type": "code",
      "source": [
        "# Plot history (also known as a loss curve or a training curve)\n",
        "pd.DataFrame(history.history).plot()\n",
        "plt.ylabel(\"loss\")\n",
        "plt.xlabel(\"epochs\")"
      ],
      "metadata": {
        "colab": {
          "base_uri": "https://localhost:8080/",
          "height": 466
        },
        "id": "y3q__mgtwZtx",
        "outputId": "99acc14b-047a-4aa7-be48-0e69c12dfc0f"
      },
      "execution_count": 110,
      "outputs": [
        {
          "output_type": "execute_result",
          "data": {
            "text/plain": [
              "Text(0.5, 0, 'epochs')"
            ]
          },
          "metadata": {},
          "execution_count": 110
        },
        {
          "output_type": "display_data",
          "data": {
            "text/plain": [
              "<Figure size 640x480 with 1 Axes>"
            ],
            "image/png": "[encoded data removed]"
          },
          "metadata": {}
        }
      ]
    }
  ]
}